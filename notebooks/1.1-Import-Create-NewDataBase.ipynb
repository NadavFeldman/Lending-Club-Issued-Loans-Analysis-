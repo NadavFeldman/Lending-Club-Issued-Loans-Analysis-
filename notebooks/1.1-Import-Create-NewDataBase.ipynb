{
 "cells": [
  {
   "cell_type": "code",
   "execution_count": 1,
   "metadata": {},
   "outputs": [
    {
     "name": "stderr",
     "output_type": "stream",
     "text": [
      "Loading required package: DBI\n",
      "Loading required package: RSQLite\n"
     ]
    }
   ],
   "source": [
    "if(!require(DBI)){install.packages(\"DBI\"); require(DBI)}\n",
    "if(!require(RSQLite)){install.packages(\"RSQLite\"); require(RSQLite)}"
   ]
  },
  {
   "cell_type": "code",
   "execution_count": 3,
   "metadata": {},
   "outputs": [],
   "source": [
    "DATA_PATH = paste0(getwd(),\"/Data\")\n",
    "DB_FILE = paste0(DATA_PATH,\"/Raw/database.sqlite\") "
   ]
  },
  {
   "cell_type": "code",
   "execution_count": 1,
   "metadata": {},
   "outputs": [],
   "source": [
    "##############################################################################\n",
    "##########                DATABASE FUNCTIONS                     #############\n",
    "##############################################################################\n",
    "\n",
    "#### List the name of the tables on the database \n",
    "listTables <- function(db=DB_FILE) {\n",
    "    require(DBI)\n",
    "    require(RSQLite)\n",
    "    con <- dbConnect(SQLite(), DB_FILE)\n",
    "    ### list the tables on the DB\n",
    "    res <- dbListTables(con)\n",
    "    return(res)\n",
    "}\n",
    "\n",
    "#### Exucute function to execure queries on the SQL\n",
    "runSQLCommand <- function(query, db=DB_FILE) {\n",
    "    require(DBI)\n",
    "    require(RSQLite)\n",
    "    con <- dbConnect(SQLite(), DB_FILE)\n",
    "    rows_affected <- dbSendQuery(con, query)\n",
    "    return(rows_affected)\n",
    "}\n",
    "            \n",
    "#### Read function to import data from the SQL to a pandas dataframe.\n",
    "readSQL <- function(query, db=DB_FILE) {\n",
    "    require(DBI)\n",
    "    require(RSQLite)\n",
    "    con <- dbConnect(SQLite(), DB_FILE)\n",
    "    df <- dbGetQuery(con, query)\n",
    "    return(df)\n",
    "}\n",
    "\n",
    "#### Write a pandas dataframe into an SQL table. Use overwrite=True if you want to delete \n",
    "#### first a pre-existent table with the same name. Use append=True if you want to append\n",
    "#### the data in the dataframe to a pre-existent table.\n",
    "writeSQL <- function(df,tablename,overwrite=FALSE, append=FALSE,db=DB_FILE) {\n",
    "    require(DBI)\n",
    "    require(RSQLite)\n",
    "    con <- dbConnect(SQLite(), DB_FILE)\n",
    "    dbWriteTable(con,tablename,df,overwrite,append)\n",
    "}\n",
    "\n",
    "#### Generate a view based on the provided SQL query\n",
    "createView <- function(viewname, query) {\n",
    "    require(DBI)\n",
    "    require(RSQLite)\n",
    "    con <- dbConnect(SQLite(), DB_FILE)\n",
    "    view = paste0('CREATE VIEW ',viewname,' AS \\n', query)\n",
    "    dbSendQuery(con, view)\n",
    "}"
   ]
  },
  {
   "cell_type": "code",
   "execution_count": 6,
   "metadata": {},
   "outputs": [],
   "source": [
    "loaners = readSQL(\"select member_id,emp_title,emp_length,zip_code,addr_state from loan\")\n",
    "# Write CSV in R\n",
    "write.csv(loaners, file = \"loaners.csv\",row.names=FALSE)"
   ]
  },
  {
   "cell_type": "code",
   "execution_count": 9,
   "metadata": {},
   "outputs": [],
   "source": [
    "mydata = read.csv(\"loaners.csv\")  # read csv file \n",
    "DB_FILE = paste0(DATA_PATH,\"/loans.db\") \n",
    "db <- dbConnect(SQLite(), DB_FILE)\n",
    "writeSQL(mydata,\"loaners\")"
   ]
  },
  {
   "cell_type": "code",
   "execution_count": 11,
   "metadata": {},
   "outputs": [],
   "source": [
    "DB_FILE = paste0(DATA_PATH,\"/Raw/database.sqlite\") \n",
    "loaners_finance = readSQL(\"select member_id,home_ownership,annual_inc,dti,delinq_2yrs,annual_inc_joint,dti_joint,acc_now_delinq from loan\")\n",
    "# Write CSV in R\n",
    "write.csv(loaners_finance, file = \"loaners_finance.csv\",row.names=FALSE)\n",
    "mydata = read.csv(\"loaners_finance.csv\")  # read csv file \n",
    "DB_FILE = paste0(DATA_PATH,\"/loans.db\") \n",
    "db <- dbConnect(SQLite(), DB_FILE)\n",
    "writeSQL(mydata,\"loaners_finance\")"
   ]
  },
  {
   "cell_type": "code",
   "execution_count": 12,
   "metadata": {},
   "outputs": [],
   "source": [
    "DB_FILE = paste0(DATA_PATH,\"/Raw/database.sqlite\") \n",
    "loaners_credit_history = readSQL(\"select member_id,earliest_cr_line,inq_last_6mths,mths_since_last_delinq,mths_since_last_record,open_acc,pub_rec,revol_bal,revol_util,total_acc,tot_coll_amt,\n",
    "tot_cur_bal,open_acc_6m,open_il_6m,open_il_12m,open_il_24m,mths_since_rcnt_il,total_bal_il,il_util,\n",
    "open_rv_12m,open_rv_24m,max_bal_bc,all_util,total_rev_hi_lim,inq_fi,total_cu_tl,inq_last_12m\n",
    "from loan\")\n",
    "# Write CSV in R\n",
    "write.csv(loaners_credit_history, file = \"loaners_credit_history.csv\",row.names=FALSE)\n",
    "mydata = read.csv(\"loaners_credit_history.csv\")  # read csv file \n",
    "DB_FILE = paste0(DATA_PATH,\"/loans.db\") \n",
    "db <- dbConnect(SQLite(), DB_FILE)\n",
    "writeSQL(mydata,\"loaners_credit_history\")"
   ]
  },
  {
   "cell_type": "code",
   "execution_count": 5,
   "metadata": {},
   "outputs": [],
   "source": [
    "DB_FILE = paste0(DATA_PATH,\"/Raw/database.sqlite\") \n",
    "loans = readSQL(\"select id as loan_id,member_id,verification_status,issue_d,loan_status,pymnt_plan,\n",
    "url,[desc] as loanDesc,purpose,title,policy_code,\n",
    "application_type,verification_status_joint\n",
    "from loan\")\n",
    "# Write CSV in R\n",
    "write.csv(loans, file = \"loans.csv\",row.names=FALSE)\n",
    "#mydata = read.csv(\"loans.csv\")  # read csv file \n",
    "#DB_FILE = paste0(DATA_PATH,\"/loans.db\") \n",
    "#db <- dbConnect(SQLite(), DB_FILE)\n",
    "#writeSQL(mydata,\"loans\")"
   ]
  },
  {
   "cell_type": "code",
   "execution_count": 14,
   "metadata": {},
   "outputs": [],
   "source": [
    "DB_FILE = paste0(DATA_PATH,\"/Raw/database.sqlite\") \n",
    "loans_finance = readSQL(\"select id as loan_id,loan_amnt,funded_amnt,funded_amnt_inv,term,int_rate,installment,out_prncp,out_prncp_inv,\n",
    "total_pymnt,total_pymnt_inv,total_rec_prncp,total_rec_int,total_rec_late_fee,recoveries,collection_recovery_fee,\n",
    "last_pymnt_d,last_pymnt_amnt,next_pymnt_d,last_credit_pull_d,collections_12_mths_ex_med,mths_since_last_major_derog\n",
    "from loan\")\n",
    "# Write CSV in R\n",
    "write.csv(loans_finance, file = \"loans_finance.csv\",row.names=FALSE)\n",
    "mydata = read.csv(\"loans_finance.csv\")  # read csv file \n",
    "DB_FILE = paste0(DATA_PATH,\"/loans.db\") \n",
    "db <- dbConnect(SQLite(), DB_FILE)\n",
    "writeSQL(mydata,\"loans_finance\")"
   ]
  },
  {
   "cell_type": "code",
   "execution_count": 15,
   "metadata": {},
   "outputs": [],
   "source": [
    "DB_FILE = paste0(DATA_PATH,\"/Raw/database.sqlite\") \n",
    "loans_lc_rating = readSQL(\"select id as loan_id,grade,sub_grade,initial_list_status\n",
    "from loan\")\n",
    "# Write CSV in R\n",
    "write.csv(loans_lc_rating, file = \"loans_lc_rating.csv\",row.names=FALSE)\n",
    "mydata = read.csv(\"loans_lc_rating.csv\")  # read csv file \n",
    "DB_FILE = paste0(DATA_PATH,\"/loans.db\") \n",
    "db <- dbConnect(SQLite(), DB_FILE)\n",
    "writeSQL(mydata,\"loans_lc_rating\")"
   ]
  },
  {
   "cell_type": "code",
   "execution_count": null,
   "metadata": {},
   "outputs": [],
   "source": [
    "##Eliminate Bad Row in the end\n",
    "DB_FILE = paste0(DATA_PATH,\"/loans.db\") \n",
    "runSQLCommand(\"delete from loans where loan_id='Loans that do not meet the credit policy'\")\n",
    "runSQLCommand(\"delete from loans_lc_rating where loan_id='Loans that do not meet the credit policy'\")\n",
    "runSQLCommand(\"delete from loans_finance where loan_id='Loans that do not meet the credit policy'\")\n",
    "runSQLCommand(\"delete from loaners where member_id is null\")\n",
    "runSQLCommand(\"delete from loaners_finance where member_id is null\")\n",
    "runSQLCommand(\"delete from loaners_credit_history where member_id is null\")\n"
   ]
  },
  {
   "cell_type": "code",
   "execution_count": 12,
   "metadata": {
    "scrolled": true
   },
   "outputs": [
    {
     "name": "stderr",
     "output_type": "stream",
     "text": [
      "Warning message in result_fetch(res@ptr, n = n):\n",
      "\"Don't need to call dbFetch() for statements, only for queries\""
     ]
    },
    {
     "data": {
      "text/html": [],
      "text/latex": [],
      "text/markdown": [],
      "text/plain": [
       "<0 x 0 matrix>"
      ]
     },
     "metadata": {},
     "output_type": "display_data"
    }
   ],
   "source": [
    "##change from text to number\n",
    "runSQLCommand(\"update loaners_credit_history\n",
    "set revol_util = replace(revol_util,'%','')\n",
    "where revol_util is not null\")\n",
    "\n",
    "runSQLCommand(\"update loans_finance\n",
    "set int_rate = replace(int_rate,'%','')\n",
    "where int_rate is not null\")\n",
    "\n",
    "##change from text to boolean\n",
    "runSQLCommand(\"update loans\n",
    "set pymnt_plan=1\n",
    "where pymnt_plan='y'\")\n",
    "\n",
    "runSQLCommand(\"update loans\n",
    "set pymnt_plan=0\n",
    "where pymnt_plan='n'\")\n",
    "\n",
    "runSQLCommand(\"update loans\n",
    "set application_type=1\n",
    "where application_type='JOINT'\")\n",
    "\n",
    "runSQLCommand(\"update loans\n",
    "set application_type=0\n",
    "where application_type='INDIVIDUAL'\")\n",
    "\n",
    "runSQLCommand(\"update loans_lc_rating\n",
    "set initial_list_status=1\n",
    "where initial_list_status='f'\")\n",
    "\n",
    "runSQLCommand(\"update loans_lc_rating\n",
    "set initial_list_status=0\n",
    "where initial_list_status='w'\")\n",
    "\n",
    "runSQLCommand(\"update loans_finance\n",
    "set term=1\n",
    "where term=' 60 months'\")\n",
    "\n",
    "runSQLCommand(\"update loans_finance\n",
    "set term=0\n",
    "where term=' 36 months'\")"
   ]
  },
  {
   "cell_type": "code",
   "execution_count": null,
   "metadata": {},
   "outputs": [],
   "source": [
    "##Create View to pull all the data to dataset var\n",
    "createView(\"v_loans\",\" \n",
    "select loans.loan_id,loans.member_id,verification_status,issue_d,loan_status,pymnt_plan,\n",
    "url,loanDesc,purpose,title,policy_code,\n",
    "application_type,verification_status_joint,\n",
    "grade,sub_grade,initial_list_status,\n",
    "emp_title,emp_length,zip_code,addr_state,\n",
    "loan_amnt,funded_amnt,funded_amnt_inv,term,int_rate,installment,out_prncp,out_prncp_inv,\n",
    "total_pymnt,total_pymnt_inv,total_rec_prncp,total_rec_int,total_rec_late_fee,recoveries,collection_recovery_fee,\n",
    "last_pymnt_d,last_pymnt_amnt,next_pymnt_d,last_credit_pull_d,collections_12_mths_ex_med,mths_since_last_major_derog,\n",
    "home_ownership,annual_inc,dti,delinq_2yrs,annual_inc_joint,dti_joint,acc_now_delinq,\n",
    "earliest_cr_line,inq_last_6mths,mths_since_last_delinq,mths_since_last_record,open_acc,pub_rec,revol_bal,revol_util,total_acc,tot_coll_amt,\n",
    "tot_cur_bal,open_acc_6m,open_il_6m,open_il_12m,open_il_24m,mths_since_rcnt_il,total_bal_il,il_util,\n",
    "open_rv_12m,open_rv_24m,max_bal_bc,all_util,total_rev_hi_lim,inq_fi,total_cu_tl,inq_last_12m\n",
    "from loans \n",
    "inner join loaners \n",
    "on loaners.member_id = loans.member_id\n",
    "inner join loans_lc_rating\n",
    "on loans.loan_id = loans_lc_rating.loan_id\n",
    "inner join loans_finance\n",
    "on loans.loan_id = loans_finance.loan_id\n",
    "inner join loaners_credit_history\n",
    "on loaners.member_id = loaners_credit_history.member_id\n",
    "inner join loaners_finance\n",
    "on loaners.member_id = loaners_finance.member_id\")"
   ]
  },
  {
   "cell_type": "code",
   "execution_count": null,
   "metadata": {},
   "outputs": [],
   "source": []
  }
 ],
 "metadata": {
  "kernelspec": {
   "display_name": "R",
   "language": "R",
   "name": "ir"
  },
  "language_info": {
   "codemirror_mode": "r",
   "file_extension": ".r",
   "mimetype": "text/x-r-source",
   "name": "R",
   "pygments_lexer": "r",
   "version": "3.5.1"
  }
 },
 "nbformat": 4,
 "nbformat_minor": 2
}
