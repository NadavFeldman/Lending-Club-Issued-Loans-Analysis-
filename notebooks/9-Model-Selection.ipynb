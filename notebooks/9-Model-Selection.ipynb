{
 "cells": [
  {
   "cell_type": "markdown",
   "metadata": {
    "colab_type": "text",
    "id": "wNpp5KJG3joF"
   },
   "source": [
    "# Model Selection"
   ]
  },
  {
   "cell_type": "code",
   "execution_count": 66,
   "metadata": {
    "colab": {},
    "colab_type": "code",
    "id": "Nbnj55g63joG"
   },
   "outputs": [],
   "source": [
    "import numpy as np\n",
    "import pandas as pd\n",
    "import matplotlib.pyplot as plt\n",
    "from sklearn import metrics\n",
    "from sklearn.linear_model import LogisticRegression\n",
    "from sklearn.naive_bayes import GaussianNB\n",
    "from sklearn import tree\n",
    "from sklearn.ensemble import RandomForestClassifier\n",
    "from sklearn.ensemble import AdaBoostClassifier\n",
    "import xgboost as xgb\n",
    "from sklearn import svm\n",
    "from sklearn import preprocessing\n",
    "import seaborn as sns\n"
   ]
  },
  {
   "cell_type": "code",
   "execution_count": 15,
   "metadata": {
    "colab": {},
    "colab_type": "code",
    "id": "-Ss2wk3e3joK"
   },
   "outputs": [],
   "source": [
    "##############################################################################\n",
    "##########                DATABASE FUNCTIONS                     #############\n",
    "##############################################################################\n",
    "#### Read function to import data from the SQL to a pandas dataframe.\n",
    "def readSQL(query):\n",
    "    import pandas as pd\n",
    "    import sqlite3 as sql3\n",
    "    db = sql3.connect(DB_FILE)\n",
    "    df = pd.read_sql_query(query, db)\n",
    "    db.close()\n",
    "    return(df)\n",
    "\n",
    "#### Write a pandas dataframe into an SQL table. Use overwrite=True if you want to delete \n",
    "#### first a pre-existent table with the same name. Use append=True if you want to append\n",
    "#### the data in the dataframe to a pre-existent table.\n",
    "def writeSQL(df,tablename,overwrite=False, append=False):\n",
    "    import pandas as pd\n",
    "    import sqlite3 as sql\n",
    "    db = sql.connect(DB_FILE)\n",
    "    if (overwrite):\n",
    "        action = \"replace\"\n",
    "    elif (append):\n",
    "        action = \"append\"\n",
    "    else: \n",
    "        action = \"fail\"\n",
    "    df.to_sql(tablename, db, if_exists=action)\n",
    "    db.close()\n",
    "def listTables():\n",
    "    import sqlite3 as sql3\n",
    "    db = sql3.connect(DB_FILE)\n",
    "    cur = db.cursor()\n",
    "    cur.execute(\"SELECT name FROM sqlite_master WHERE type='table';\")\n",
    "    res = cur.fetchall()\n",
    "    cur.close()\n",
    "    db.close()\n",
    "    return(res)"
   ]
  },
  {
   "cell_type": "code",
   "execution_count": 16,
   "metadata": {
    "colab": {},
    "colab_type": "code",
    "id": "EcO8umzK3joM"
   },
   "outputs": [],
   "source": [
    "import os\n",
    "cwd = os.getcwd()\n",
    "DB_FILE = \"%s\\Data\\loans.db\" % cwd"
   ]
  },
  {
   "cell_type": "code",
   "execution_count": 17,
   "metadata": {
    "colab": {
     "base_uri": "https://localhost:8080/",
     "height": 1082
    },
    "colab_type": "code",
    "executionInfo": {
     "elapsed": 735,
     "status": "error",
     "timestamp": 1550917238885,
     "user": {
      "displayName": "Nadav Feldman",
      "photoUrl": "",
      "userId": "13972438119586701104"
     },
     "user_tz": -120
    },
    "id": "BbmMqpmM3joP",
    "outputId": "1e827552-6f0b-40e8-9449-2833484644a8"
   },
   "outputs": [],
   "source": [
    "X_Train = readSQL('''SELECT * FROM X_train_scaled''')"
   ]
  },
  {
   "cell_type": "code",
   "execution_count": 18,
   "metadata": {
    "colab": {},
    "colab_type": "code",
    "id": "9Q63Lm9c3joT"
   },
   "outputs": [],
   "source": [
    "Y_Train = readSQL('''SELECT * FROM Y_train''')"
   ]
  },
  {
   "cell_type": "code",
   "execution_count": 19,
   "metadata": {},
   "outputs": [],
   "source": [
    "X_Train = X_Train.drop([\"index\"],axis=1)"
   ]
  },
  {
   "cell_type": "code",
   "execution_count": 20,
   "metadata": {
    "colab": {},
    "colab_type": "code",
    "id": "KuhTbiT03joR"
   },
   "outputs": [],
   "source": [
    "Y_Train = Y_Train.drop([\"index\"],axis=1)"
   ]
  },
  {
   "cell_type": "code",
   "execution_count": 21,
   "metadata": {
    "colab": {},
    "colab_type": "code",
    "id": "NQzqFdkA3job"
   },
   "outputs": [],
   "source": [
    "X_Dev = readSQL('''SELECT * FROM X_dev_scaled''')"
   ]
  },
  {
   "cell_type": "code",
   "execution_count": 22,
   "metadata": {
    "colab": {},
    "colab_type": "code",
    "id": "-Nim3i2r3joe"
   },
   "outputs": [],
   "source": [
    "X_Dev = X_Dev.drop([\"index\"],axis=1)"
   ]
  },
  {
   "cell_type": "code",
   "execution_count": 23,
   "metadata": {
    "colab": {},
    "colab_type": "code",
    "id": "e6jq7GUo3jog"
   },
   "outputs": [],
   "source": [
    "Y_Dev = readSQL('''SELECT * FROM Y_dev''')"
   ]
  },
  {
   "cell_type": "code",
   "execution_count": 24,
   "metadata": {
    "colab": {},
    "colab_type": "code",
    "id": "7ne928w73joi"
   },
   "outputs": [],
   "source": [
    "Y_Dev = Y_Dev.drop([\"index\"],axis=1)"
   ]
  },
  {
   "cell_type": "code",
   "execution_count": 25,
   "metadata": {
    "colab": {},
    "colab_type": "code",
    "id": "z6RFhDW-3jol"
   },
   "outputs": [],
   "source": [
    "Y_Train = Y_Train.values.ravel()\n",
    "Y_Dev = Y_Dev.values.ravel()"
   ]
  },
  {
   "cell_type": "code",
   "execution_count": 26,
   "metadata": {
    "colab": {},
    "colab_type": "code",
    "id": "OyvPj7V03joz",
    "outputId": "affdc492-dc73-4f0a-b286-04ddde0df0ee"
   },
   "outputs": [
    {
     "data": {
      "text/html": [
       "<div>\n",
       "<style scoped>\n",
       "    .dataframe tbody tr th:only-of-type {\n",
       "        vertical-align: middle;\n",
       "    }\n",
       "\n",
       "    .dataframe tbody tr th {\n",
       "        vertical-align: top;\n",
       "    }\n",
       "\n",
       "    .dataframe thead th {\n",
       "        text-align: right;\n",
       "    }\n",
       "</style>\n",
       "<table border=\"1\" class=\"dataframe\">\n",
       "  <thead>\n",
       "    <tr style=\"text-align: right;\">\n",
       "      <th></th>\n",
       "      <th>initial_list_status</th>\n",
       "      <th>loan_amnt</th>\n",
       "      <th>funded_amnt</th>\n",
       "      <th>funded_amnt_inv</th>\n",
       "      <th>term</th>\n",
       "      <th>annual_inc</th>\n",
       "      <th>dti</th>\n",
       "      <th>delinq_2yrs</th>\n",
       "      <th>acc_now_delinq</th>\n",
       "      <th>inq_last_6mths</th>\n",
       "      <th>...</th>\n",
       "      <th>cat_delinq_2yrs_one</th>\n",
       "      <th>cat_delinq_2yrs_zero</th>\n",
       "      <th>cat_inq_last_6mths_more_than_2</th>\n",
       "      <th>cat_inq_last_6mths_one</th>\n",
       "      <th>cat_inq_last_6mths_zero</th>\n",
       "      <th>inc_grp_high_inc</th>\n",
       "      <th>inc_grp_low_inc</th>\n",
       "      <th>inc_grp_middle_inc</th>\n",
       "      <th>inc_grp_veryhigh_inc</th>\n",
       "      <th>credit_hist_grp_4_13_yrs</th>\n",
       "    </tr>\n",
       "  </thead>\n",
       "  <tbody>\n",
       "    <tr>\n",
       "      <th>0</th>\n",
       "      <td>1</td>\n",
       "      <td>-0.431514</td>\n",
       "      <td>-0.427560</td>\n",
       "      <td>-1.374325</td>\n",
       "      <td>0</td>\n",
       "      <td>-0.822350</td>\n",
       "      <td>0.305064</td>\n",
       "      <td>-0.336436</td>\n",
       "      <td>-0.050085</td>\n",
       "      <td>0.097476</td>\n",
       "      <td>...</td>\n",
       "      <td>0</td>\n",
       "      <td>1</td>\n",
       "      <td>0</td>\n",
       "      <td>1</td>\n",
       "      <td>0</td>\n",
       "      <td>0</td>\n",
       "      <td>0</td>\n",
       "      <td>0</td>\n",
       "      <td>0</td>\n",
       "      <td>1</td>\n",
       "    </tr>\n",
       "    <tr>\n",
       "      <th>1</th>\n",
       "      <td>1</td>\n",
       "      <td>-0.998000</td>\n",
       "      <td>-0.995666</td>\n",
       "      <td>-1.595755</td>\n",
       "      <td>0</td>\n",
       "      <td>-0.691752</td>\n",
       "      <td>-0.058192</td>\n",
       "      <td>-0.336436</td>\n",
       "      <td>-0.050085</td>\n",
       "      <td>-0.766134</td>\n",
       "      <td>...</td>\n",
       "      <td>0</td>\n",
       "      <td>1</td>\n",
       "      <td>0</td>\n",
       "      <td>0</td>\n",
       "      <td>1</td>\n",
       "      <td>0</td>\n",
       "      <td>0</td>\n",
       "      <td>0</td>\n",
       "      <td>0</td>\n",
       "      <td>1</td>\n",
       "    </tr>\n",
       "    <tr>\n",
       "      <th>2</th>\n",
       "      <td>1</td>\n",
       "      <td>-1.478282</td>\n",
       "      <td>-1.477321</td>\n",
       "      <td>-1.570162</td>\n",
       "      <td>0</td>\n",
       "      <td>-1.307428</td>\n",
       "      <td>-0.296939</td>\n",
       "      <td>-0.336436</td>\n",
       "      <td>-0.050085</td>\n",
       "      <td>2.688304</td>\n",
       "      <td>...</td>\n",
       "      <td>0</td>\n",
       "      <td>1</td>\n",
       "      <td>1</td>\n",
       "      <td>0</td>\n",
       "      <td>0</td>\n",
       "      <td>0</td>\n",
       "      <td>0</td>\n",
       "      <td>0</td>\n",
       "      <td>0</td>\n",
       "      <td>1</td>\n",
       "    </tr>\n",
       "    <tr>\n",
       "      <th>3</th>\n",
       "      <td>1</td>\n",
       "      <td>-1.071890</td>\n",
       "      <td>-1.069767</td>\n",
       "      <td>-1.451210</td>\n",
       "      <td>0</td>\n",
       "      <td>-0.271973</td>\n",
       "      <td>-0.462522</td>\n",
       "      <td>-0.336436</td>\n",
       "      <td>-0.050085</td>\n",
       "      <td>1.824694</td>\n",
       "      <td>...</td>\n",
       "      <td>0</td>\n",
       "      <td>1</td>\n",
       "      <td>1</td>\n",
       "      <td>0</td>\n",
       "      <td>0</td>\n",
       "      <td>0</td>\n",
       "      <td>1</td>\n",
       "      <td>0</td>\n",
       "      <td>0</td>\n",
       "      <td>1</td>\n",
       "    </tr>\n",
       "    <tr>\n",
       "      <th>4</th>\n",
       "      <td>1</td>\n",
       "      <td>-1.071890</td>\n",
       "      <td>-1.069767</td>\n",
       "      <td>-1.441984</td>\n",
       "      <td>0</td>\n",
       "      <td>-1.088210</td>\n",
       "      <td>0.211362</td>\n",
       "      <td>1.014637</td>\n",
       "      <td>-0.050085</td>\n",
       "      <td>-0.766134</td>\n",
       "      <td>...</td>\n",
       "      <td>1</td>\n",
       "      <td>0</td>\n",
       "      <td>0</td>\n",
       "      <td>0</td>\n",
       "      <td>1</td>\n",
       "      <td>0</td>\n",
       "      <td>0</td>\n",
       "      <td>0</td>\n",
       "      <td>0</td>\n",
       "      <td>1</td>\n",
       "    </tr>\n",
       "  </tbody>\n",
       "</table>\n",
       "<p>5 rows × 78 columns</p>\n",
       "</div>"
      ],
      "text/plain": [
       "   initial_list_status  loan_amnt  funded_amnt  funded_amnt_inv  term  \\\n",
       "0                    1  -0.431514    -0.427560        -1.374325     0   \n",
       "1                    1  -0.998000    -0.995666        -1.595755     0   \n",
       "2                    1  -1.478282    -1.477321        -1.570162     0   \n",
       "3                    1  -1.071890    -1.069767        -1.451210     0   \n",
       "4                    1  -1.071890    -1.069767        -1.441984     0   \n",
       "\n",
       "   annual_inc       dti  delinq_2yrs  acc_now_delinq  inq_last_6mths  \\\n",
       "0   -0.822350  0.305064    -0.336436       -0.050085        0.097476   \n",
       "1   -0.691752 -0.058192    -0.336436       -0.050085       -0.766134   \n",
       "2   -1.307428 -0.296939    -0.336436       -0.050085        2.688304   \n",
       "3   -0.271973 -0.462522    -0.336436       -0.050085        1.824694   \n",
       "4   -1.088210  0.211362     1.014637       -0.050085       -0.766134   \n",
       "\n",
       "             ...             cat_delinq_2yrs_one  cat_delinq_2yrs_zero  \\\n",
       "0            ...                               0                     1   \n",
       "1            ...                               0                     1   \n",
       "2            ...                               0                     1   \n",
       "3            ...                               0                     1   \n",
       "4            ...                               1                     0   \n",
       "\n",
       "   cat_inq_last_6mths_more_than_2  cat_inq_last_6mths_one  \\\n",
       "0                               0                       1   \n",
       "1                               0                       0   \n",
       "2                               1                       0   \n",
       "3                               1                       0   \n",
       "4                               0                       0   \n",
       "\n",
       "   cat_inq_last_6mths_zero  inc_grp_high_inc  inc_grp_low_inc  \\\n",
       "0                        0                 0                0   \n",
       "1                        1                 0                0   \n",
       "2                        0                 0                0   \n",
       "3                        0                 0                1   \n",
       "4                        1                 0                0   \n",
       "\n",
       "   inc_grp_middle_inc  inc_grp_veryhigh_inc  credit_hist_grp_4_13_yrs  \n",
       "0                   0                     0                         1  \n",
       "1                   0                     0                         1  \n",
       "2                   0                     0                         1  \n",
       "3                   0                     0                         1  \n",
       "4                   0                     0                         1  \n",
       "\n",
       "[5 rows x 78 columns]"
      ]
     },
     "execution_count": 26,
     "metadata": {},
     "output_type": "execute_result"
    }
   ],
   "source": [
    "X_Train.head()"
   ]
  },
  {
   "cell_type": "markdown",
   "metadata": {
    "colab_type": "text",
    "id": "uBq8_Pg-3jo3"
   },
   "source": [
    "## LogisticRegression"
   ]
  },
  {
   "cell_type": "code",
   "execution_count": 27,
   "metadata": {
    "colab": {},
    "colab_type": "code",
    "id": "LVmFHyw93jo4",
    "outputId": "9d6d130f-c380-452c-ae2f-245bbe2a4815"
   },
   "outputs": [],
   "source": [
    "# Initialize the predictive model object\n",
    "mod_logistic = LogisticRegression(random_state=1207,solver =\"saga\", max_iter=10000,C=1)\n",
    "# Train the model using the training sets\n",
    "mod_logistic.fit(X_Train, Y_Train)\n",
    "# Make predictions using the testing set\n",
    "logistic_pred = mod_logistic.predict_proba(X_Dev)"
   ]
  },
  {
   "cell_type": "code",
   "execution_count": 29,
   "metadata": {},
   "outputs": [],
   "source": [
    "import pickle\n",
    "# save the model to disk\n",
    "filename = 'logistic_base_model.sav'\n",
    "pickle.dump(mod_logistic, open(filename, 'wb'))"
   ]
  },
  {
   "cell_type": "markdown",
   "metadata": {
    "colab_type": "text",
    "id": "wdtIXkHJ3jpC"
   },
   "source": [
    "## Naive Bayes"
   ]
  },
  {
   "cell_type": "code",
   "execution_count": 30,
   "metadata": {
    "colab": {},
    "colab_type": "code",
    "id": "Mam40FPS3jpD"
   },
   "outputs": [],
   "source": [
    "# Initialize the predictive model object\n",
    "mod_bayes = GaussianNB()\n",
    "# Train the model using the training sets\n",
    "mod_bayes.fit(X_Train, Y_Train)\n",
    "# Make predictions using the testing set\n",
    "NB_pred = mod_bayes.predict_proba(X_Dev)"
   ]
  },
  {
   "cell_type": "markdown",
   "metadata": {
    "colab_type": "text",
    "id": "bC4k9e2b3jpF"
   },
   "source": [
    "## Conditional Decision Tree"
   ]
  },
  {
   "cell_type": "code",
   "execution_count": 31,
   "metadata": {
    "colab": {},
    "colab_type": "code",
    "id": "MWfyn1nS3jpF"
   },
   "outputs": [],
   "source": [
    "from sklearn import tree\n",
    "# Initialize the predictive model object\n",
    "mod_cart = tree.DecisionTreeClassifier(random_state=1207,max_depth=5)\n",
    "# Train the model using the training sets\n",
    "mod_cart.fit(X_Train, Y_Train)\n",
    "# Make predictions using the testing set\n",
    "CART_pred = mod_cart.predict_proba(X_Dev)"
   ]
  },
  {
   "cell_type": "markdown",
   "metadata": {
    "colab_type": "text",
    "id": "LGwc6TTF3jpI"
   },
   "source": [
    "## Random Forest"
   ]
  },
  {
   "cell_type": "code",
   "execution_count": 32,
   "metadata": {
    "colab": {},
    "colab_type": "code",
    "id": "tp3PpatO3jpI"
   },
   "outputs": [],
   "source": [
    "from sklearn.ensemble import RandomForestClassifier\n",
    "# Initialize the predictive model object\n",
    "mod_rforest = RandomForestClassifier(n_estimators=100, max_depth=5,random_state=1207)\n",
    "# Train the model using the training sets\n",
    "mod_rforest.fit(X_Train, Y_Train)\n",
    "# Make predictions using the testing set\n",
    "RF_pred = mod_rforest.predict_proba(X_Dev)"
   ]
  },
  {
   "cell_type": "markdown",
   "metadata": {
    "colab_type": "text",
    "id": "Kr6ctMXd3jpM"
   },
   "source": [
    "## AdaBoost"
   ]
  },
  {
   "cell_type": "code",
   "execution_count": 33,
   "metadata": {
    "colab": {},
    "colab_type": "code",
    "id": "c_-sJdPs3jpM"
   },
   "outputs": [],
   "source": [
    "from sklearn.ensemble import AdaBoostClassifier\n",
    "# Initialize the predictive model object\n",
    "mod_ada = AdaBoostClassifier(random_state=1207)\n",
    "# Train the model using the training sets\n",
    "mod_ada.fit(X_Train, Y_Train)\n",
    "# Make predictions using the testing set\n",
    "AdaB_pred = mod_ada.predict_proba(X_Dev)"
   ]
  },
  {
   "cell_type": "markdown",
   "metadata": {
    "colab_type": "text",
    "id": "N0C77GZp3jpO"
   },
   "source": [
    "## XGBoost"
   ]
  },
  {
   "cell_type": "code",
   "execution_count": 34,
   "metadata": {
    "colab": {},
    "colab_type": "code",
    "id": "NfMpwxnf3jpQ"
   },
   "outputs": [],
   "source": [
    "# Transform data to a DMatrix object\n",
    "dtrain = xgb.DMatrix(np.array(X_Train), label=Y_Train)\n",
    "ddev = xgb.DMatrix(np.array(X_Dev), Y_Dev)\n"
   ]
  },
  {
   "cell_type": "code",
   "execution_count": 35,
   "metadata": {
    "colab": {},
    "colab_type": "code",
    "id": "soQnHQ9k3jpT"
   },
   "outputs": [],
   "source": [
    "# Set the parameters for the xgboost\n",
    "param = {'max_depth':5, 'eta': 1, 'silent': 1, 'objective': 'binary:logistic'}\n",
    "#param['nthread'] = 10\n",
    "param['eval_metric'] = 'auc'\n",
    "# Train the model using the training sets\n",
    "num_round = 10\n",
    "mod_xgboost = xgb.train(param, dtrain, num_round)\n",
    "# Make predictions using the testing set\n",
    "predXGB = mod_xgboost.predict(ddev)\n",
    "#predXGB_class = np.where(predXGB >= 0.5, 1, 0)"
   ]
  },
  {
   "cell_type": "markdown",
   "metadata": {
    "colab_type": "text",
    "id": "b4qkv1jG3jpW"
   },
   "source": [
    "## Support Vector Machine"
   ]
  },
  {
   "cell_type": "code",
   "execution_count": 39,
   "metadata": {
    "colab": {},
    "colab_type": "code",
    "id": "ZkZb6M8K3jpW"
   },
   "outputs": [
    {
     "name": "stderr",
     "output_type": "stream",
     "text": [
      "C:\\ProgramData\\Anaconda3\\lib\\site-packages\\sklearn\\svm\\base.py:218: ConvergenceWarning: Solver terminated early (max_iter=20000).  Consider pre-processing your data with StandardScaler or MinMaxScaler.\n",
      "  % self.max_iter, ConvergenceWarning)\n"
     ]
    }
   ],
   "source": [
    "# Initialize the predictive model object\n",
    "mod_svm = svm.SVC(kernel=\"linear\", gamma=\"auto\",probability=True, random_state=1207,max_iter=20000)\n",
    "# Train the model using the training sets\n",
    "mod_svm.fit(X_Train, Y_Train)\n",
    "# Make predictions using the testing set\n",
    "predSVM = mod_svm.predict_proba(X_Dev)"
   ]
  },
  {
   "cell_type": "code",
   "execution_count": 41,
   "metadata": {},
   "outputs": [],
   "source": [
    "# save the model to disk\n",
    "filename = 'SVM_base_model.sav'\n",
    "pickle.dump(mod_svm, open(filename, 'wb'))\n",
    "# load the model from disk\n",
    "#loaded_model = pickle.load(open(filename, 'rb"
   ]
  },
  {
   "cell_type": "markdown",
   "metadata": {
    "colab_type": "text",
    "id": "VnNBX-eU3jpb"
   },
   "source": [
    "## Results"
   ]
  },
  {
   "cell_type": "code",
   "execution_count": 55,
   "metadata": {
    "colab": {},
    "colab_type": "code",
    "id": "3wqoB14-3jpc"
   },
   "outputs": [],
   "source": [
    "def showModelResult(X_Train, Y_Train,X_Dev,Y_Dev,model,pred):\n",
    "    #print(model.score(X_Train, Y_Train))\n",
    "    #print(model.score(X_Dev, Y_Dev))\n",
    "   # print(pd.crosstab(Y_Dev, pred[:,1]))\n",
    "    if(pred.shape==(25479, 2)):\n",
    "        auc_score = metrics.roc_auc_score(Y_Dev, pred[:,1])\n",
    "        fpr, tpr, thresholds = metrics.roc_curve(Y_Dev, pred[:,1])\n",
    "    else:\n",
    "        auc_score = metrics.roc_auc_score(Y_Dev, pred)\n",
    "        fpr, tpr, thresholds = metrics.roc_curve(Y_Dev, pred)\n",
    "    print(auc_score)\n",
    "    plt.figure()\n",
    "    lw = 2\n",
    "    plt.plot(fpr, tpr, color='darkorange',\n",
    "         lw=lw, label='ROC curve (area = %0.2f)' % auc_score)\n",
    "    plt.plot([0, 1], [0, 1], color='navy', lw=lw, linestyle='--')\n",
    "    plt.xlim([0.0, 1.0])\n",
    "    plt.ylim([0.0, 1.05])\n",
    "    plt.xlabel('False Positive Rate')\n",
    "    plt.ylabel('True Positive Rate')\n",
    "    plt.legend(loc=\"lower right\")\n",
    "    plt.show()\n",
    "    return (auc_score)"
   ]
  },
  {
   "cell_type": "code",
   "execution_count": 56,
   "metadata": {
    "colab": {},
    "colab_type": "code",
    "id": "PUixLw-E3jpe"
   },
   "outputs": [],
   "source": [
    "res =[]"
   ]
  },
  {
   "cell_type": "code",
   "execution_count": 57,
   "metadata": {
    "colab": {},
    "colab_type": "code",
    "id": "CvKKgtlw3jpg",
    "outputId": "b5f35ee7-e026-447a-881f-b13164df9afd"
   },
   "outputs": [
    {
     "name": "stdout",
     "output_type": "stream",
     "text": [
      "0.6894901040048504\n"
     ]
    },
    {
     "data": {
      "image/png": "[encoded data removed]",
      "text/plain": [
       "<Figure size 432x288 with 1 Axes>"
      ]
     },
     "metadata": {},
     "output_type": "display_data"
    },
    {
     "name": "stdout",
     "output_type": "stream",
     "text": [
      "0.6243834511931625\n"
     ]
    },
    {
     "data": {
      "image/png": "[encoded data removed]",
      "text/plain": [
       "<Figure size 432x288 with 1 Axes>"
      ]
     },
     "metadata": {},
     "output_type": "display_data"
    },
    {
     "name": "stdout",
     "output_type": "stream",
     "text": [
      "0.6501712001807786\n"
     ]
    },
    {
     "data": {
      "image/png": "[encoded data removed]",
      "text/plain": [
       "<Figure size 432x288 with 1 Axes>"
      ]
     },
     "metadata": {},
     "output_type": "display_data"
    },
    {
     "name": "stdout",
     "output_type": "stream",
     "text": [
      "0.6734090170383185\n"
     ]
    },
    {
     "data": {
      "image/png": "[encoded data removed]",
      "text/plain": [
       "<Figure size 432x288 with 1 Axes>"
      ]
     },
     "metadata": {},
     "output_type": "display_data"
    },
    {
     "name": "stdout",
     "output_type": "stream",
     "text": [
      "0.6829766597935745\n"
     ]
    },
    {
     "data": {
      "image/png": "[encoded data removed]",
      "text/plain": [
       "<Figure size 432x288 with 1 Axes>"
      ]
     },
     "metadata": {},
     "output_type": "display_data"
    },
    {
     "name": "stdout",
     "output_type": "stream",
     "text": [
      "0.6832650199171383\n"
     ]
    },
    {
     "data": {
      "image/png": "[encoded data removed]",
      "text/plain": [
       "<Figure size 432x288 with 1 Axes>"
      ]
     },
     "metadata": {},
     "output_type": "display_data"
    },
    {
     "name": "stdout",
     "output_type": "stream",
     "text": [
      "0.5217760123085764\n"
     ]
    },
    {
     "data": {
      "image/png": "[encoded data removed]",
      "text/plain": [
       "<Figure size 432x288 with 1 Axes>"
      ]
     },
     "metadata": {},
     "output_type": "display_data"
    }
   ],
   "source": [
    "##LogisticRegression\n",
    "acc = showModelResult(X_Train, Y_Train,X_Dev,Y_Dev,mod_logistic,logistic_pred)\n",
    "res.append({'model':'Logistic regression','auc_score':acc})\n",
    "##Naive Bayes\n",
    "acc = showModelResult(X_Train, Y_Train,X_Dev,Y_Dev,mod_bayes,NB_pred)\n",
    "res.append({'model':'Naive Bayes','auc_score':acc})\n",
    "##CART\n",
    "acc = showModelResult(X_Train, Y_Train,X_Dev,Y_Dev,mod_cart,CART_pred)\n",
    "res.append({'model':'Conditional Tree','auc_score':acc})\n",
    "##Random Forest\n",
    "acc = showModelResult(X_Train, Y_Train,X_Dev,Y_Dev,mod_rforest,RF_pred)\n",
    "res.append({'model':'Random Forest','auc_score':acc})\n",
    "##AdaBoost\n",
    "acc = showModelResult(X_Train, Y_Train,X_Dev,Y_Dev,mod_ada,AdaB_pred)\n",
    "res.append({'model':'AdaBoost','auc_score':acc})\n",
    "##XGBoost\n",
    "acc = showModelResult(X_Train, Y_Train,X_Dev,Y_Dev,mod_xgboost,predXGB)\n",
    "res.append({'model':'XGBoost','auc_score':acc})\n",
    "#SVM\n",
    "acc = showModelResult(X_Train, Y_Train,X_Dev,Y_Dev,mod_svm,predSVM)\n",
    "res.append({'model':'SVM','auc_score':acc})"
   ]
  },
  {
   "cell_type": "code",
   "execution_count": 58,
   "metadata": {
    "colab": {},
    "colab_type": "code",
    "id": "bRZ1gJPg3jpr",
    "outputId": "32986c45-8012-4275-97d5-d159cbc5b267"
   },
   "outputs": [
    {
     "data": {
      "text/plain": [
       "[{'model': 'Logistic regression', 'auc_score': 0.6894901040048504},\n",
       " {'model': 'Naive Bayes', 'auc_score': 0.6243834511931625},\n",
       " {'model': 'Conditional Tree', 'auc_score': 0.6501712001807786},\n",
       " {'model': 'Random Forest', 'auc_score': 0.6734090170383185},\n",
       " {'model': 'AdaBoost', 'auc_score': 0.6829766597935745},\n",
       " {'model': 'XGBoost', 'auc_score': 0.6832650199171383},\n",
       " {'model': 'SVM', 'auc_score': 0.5217760123085764}]"
      ]
     },
     "execution_count": 58,
     "metadata": {},
     "output_type": "execute_result"
    }
   ],
   "source": [
    "\n",
    "res"
   ]
  },
  {
   "cell_type": "code",
   "execution_count": 59,
   "metadata": {
    "colab": {},
    "colab_type": "code",
    "id": "igqKczhb3jpv",
    "outputId": "b9a84dcc-ed9b-4c0c-e7b2-79666b282d49"
   },
   "outputs": [
    {
     "data": {
      "text/html": [
       "<div>\n",
       "<style scoped>\n",
       "    .dataframe tbody tr th:only-of-type {\n",
       "        vertical-align: middle;\n",
       "    }\n",
       "\n",
       "    .dataframe tbody tr th {\n",
       "        vertical-align: top;\n",
       "    }\n",
       "\n",
       "    .dataframe thead th {\n",
       "        text-align: right;\n",
       "    }\n",
       "</style>\n",
       "<table border=\"1\" class=\"dataframe\">\n",
       "  <thead>\n",
       "    <tr style=\"text-align: right;\">\n",
       "      <th></th>\n",
       "      <th>auc_score</th>\n",
       "      <th>model</th>\n",
       "    </tr>\n",
       "  </thead>\n",
       "  <tbody>\n",
       "    <tr>\n",
       "      <th>0</th>\n",
       "      <td>0.689490</td>\n",
       "      <td>Logistic regression</td>\n",
       "    </tr>\n",
       "    <tr>\n",
       "      <th>5</th>\n",
       "      <td>0.683265</td>\n",
       "      <td>XGBoost</td>\n",
       "    </tr>\n",
       "    <tr>\n",
       "      <th>4</th>\n",
       "      <td>0.682977</td>\n",
       "      <td>AdaBoost</td>\n",
       "    </tr>\n",
       "    <tr>\n",
       "      <th>3</th>\n",
       "      <td>0.673409</td>\n",
       "      <td>Random Forest</td>\n",
       "    </tr>\n",
       "    <tr>\n",
       "      <th>2</th>\n",
       "      <td>0.650171</td>\n",
       "      <td>Conditional Tree</td>\n",
       "    </tr>\n",
       "    <tr>\n",
       "      <th>1</th>\n",
       "      <td>0.624383</td>\n",
       "      <td>Naive Bayes</td>\n",
       "    </tr>\n",
       "    <tr>\n",
       "      <th>6</th>\n",
       "      <td>0.521776</td>\n",
       "      <td>SVM</td>\n",
       "    </tr>\n",
       "  </tbody>\n",
       "</table>\n",
       "</div>"
      ],
      "text/plain": [
       "   auc_score                model\n",
       "0   0.689490  Logistic regression\n",
       "5   0.683265              XGBoost\n",
       "4   0.682977             AdaBoost\n",
       "3   0.673409        Random Forest\n",
       "2   0.650171     Conditional Tree\n",
       "1   0.624383          Naive Bayes\n",
       "6   0.521776                  SVM"
      ]
     },
     "execution_count": 59,
     "metadata": {},
     "output_type": "execute_result"
    }
   ],
   "source": [
    "pd.DataFrame(res).sort_values(ascending=False,by=['auc_score'])"
   ]
  },
  {
   "cell_type": "markdown",
   "metadata": {},
   "source": [
    "### Ensembling check"
   ]
  },
  {
   "cell_type": "markdown",
   "metadata": {},
   "source": [
    "In this section we checked the possibility to perform ensembling on the best performing algorithms. "
   ]
  },
  {
   "cell_type": "code",
   "execution_count": 62,
   "metadata": {},
   "outputs": [],
   "source": [
    "preds=pd.DataFrame({\"Logistic regression\":logistic_pred[:,1] ,\"XGBoost\":predXGB , \"AdaBoost\":AdaB_pred[:,1] , \"Random Forest\":RF_pred[:,1] , \"Naive Bayes\":NB_pred[:,1] ,\n",
    "                     \"Conditional Tree\": CART_pred[:,1] ,\"SVM\":predSVM[:,1]} )\n"
   ]
  },
  {
   "cell_type": "code",
   "execution_count": 63,
   "metadata": {},
   "outputs": [
    {
     "data": {
      "text/html": [
       "<div>\n",
       "<style scoped>\n",
       "    .dataframe tbody tr th:only-of-type {\n",
       "        vertical-align: middle;\n",
       "    }\n",
       "\n",
       "    .dataframe tbody tr th {\n",
       "        vertical-align: top;\n",
       "    }\n",
       "\n",
       "    .dataframe thead th {\n",
       "        text-align: right;\n",
       "    }\n",
       "</style>\n",
       "<table border=\"1\" class=\"dataframe\">\n",
       "  <thead>\n",
       "    <tr style=\"text-align: right;\">\n",
       "      <th></th>\n",
       "      <th>Logistic regression</th>\n",
       "      <th>XGBoost</th>\n",
       "      <th>AdaBoost</th>\n",
       "      <th>Random Forest</th>\n",
       "      <th>Naive Bayes</th>\n",
       "      <th>Conditional Tree</th>\n",
       "      <th>SVM</th>\n",
       "    </tr>\n",
       "  </thead>\n",
       "  <tbody>\n",
       "    <tr>\n",
       "      <th>0</th>\n",
       "      <td>0.217356</td>\n",
       "      <td>0.076650</td>\n",
       "      <td>0.490352</td>\n",
       "      <td>0.144333</td>\n",
       "      <td>9.999997e-01</td>\n",
       "      <td>0.131631</td>\n",
       "      <td>0.194802</td>\n",
       "    </tr>\n",
       "    <tr>\n",
       "      <th>1</th>\n",
       "      <td>0.195577</td>\n",
       "      <td>0.212182</td>\n",
       "      <td>0.492994</td>\n",
       "      <td>0.203216</td>\n",
       "      <td>6.358951e-01</td>\n",
       "      <td>0.201252</td>\n",
       "      <td>0.164610</td>\n",
       "    </tr>\n",
       "    <tr>\n",
       "      <th>2</th>\n",
       "      <td>0.202834</td>\n",
       "      <td>0.115326</td>\n",
       "      <td>0.491739</td>\n",
       "      <td>0.159927</td>\n",
       "      <td>4.587251e-08</td>\n",
       "      <td>0.167718</td>\n",
       "      <td>0.176046</td>\n",
       "    </tr>\n",
       "    <tr>\n",
       "      <th>3</th>\n",
       "      <td>0.130773</td>\n",
       "      <td>0.087489</td>\n",
       "      <td>0.488536</td>\n",
       "      <td>0.144462</td>\n",
       "      <td>7.080145e-02</td>\n",
       "      <td>0.131631</td>\n",
       "      <td>0.168395</td>\n",
       "    </tr>\n",
       "    <tr>\n",
       "      <th>4</th>\n",
       "      <td>0.242022</td>\n",
       "      <td>0.433893</td>\n",
       "      <td>0.491597</td>\n",
       "      <td>0.202868</td>\n",
       "      <td>3.639435e-01</td>\n",
       "      <td>0.151388</td>\n",
       "      <td>0.240918</td>\n",
       "    </tr>\n",
       "  </tbody>\n",
       "</table>\n",
       "</div>"
      ],
      "text/plain": [
       "   Logistic regression   XGBoost  AdaBoost  Random Forest   Naive Bayes  \\\n",
       "0             0.217356  0.076650  0.490352       0.144333  9.999997e-01   \n",
       "1             0.195577  0.212182  0.492994       0.203216  6.358951e-01   \n",
       "2             0.202834  0.115326  0.491739       0.159927  4.587251e-08   \n",
       "3             0.130773  0.087489  0.488536       0.144462  7.080145e-02   \n",
       "4             0.242022  0.433893  0.491597       0.202868  3.639435e-01   \n",
       "\n",
       "   Conditional Tree       SVM  \n",
       "0          0.131631  0.194802  \n",
       "1          0.201252  0.164610  \n",
       "2          0.167718  0.176046  \n",
       "3          0.131631  0.168395  \n",
       "4          0.151388  0.240918  "
      ]
     },
     "execution_count": 63,
     "metadata": {},
     "output_type": "execute_result"
    }
   ],
   "source": [
    "preds.head()"
   ]
  },
  {
   "cell_type": "code",
   "execution_count": 64,
   "metadata": {},
   "outputs": [
    {
     "data": {
      "text/html": [
       "<div>\n",
       "<style scoped>\n",
       "    .dataframe tbody tr th:only-of-type {\n",
       "        vertical-align: middle;\n",
       "    }\n",
       "\n",
       "    .dataframe tbody tr th {\n",
       "        vertical-align: top;\n",
       "    }\n",
       "\n",
       "    .dataframe thead th {\n",
       "        text-align: right;\n",
       "    }\n",
       "</style>\n",
       "<table border=\"1\" class=\"dataframe\">\n",
       "  <thead>\n",
       "    <tr style=\"text-align: right;\">\n",
       "      <th></th>\n",
       "      <th>Logistic regression</th>\n",
       "      <th>XGBoost</th>\n",
       "      <th>AdaBoost</th>\n",
       "      <th>Random Forest</th>\n",
       "      <th>Naive Bayes</th>\n",
       "      <th>Conditional Tree</th>\n",
       "      <th>SVM</th>\n",
       "    </tr>\n",
       "  </thead>\n",
       "  <tbody>\n",
       "    <tr>\n",
       "      <th>Logistic regression</th>\n",
       "      <td>1.000000</td>\n",
       "      <td>0.838907</td>\n",
       "      <td>0.914563</td>\n",
       "      <td>0.855292</td>\n",
       "      <td>0.628498</td>\n",
       "      <td>0.757881</td>\n",
       "      <td>0.124922</td>\n",
       "    </tr>\n",
       "    <tr>\n",
       "      <th>XGBoost</th>\n",
       "      <td>0.838907</td>\n",
       "      <td>1.000000</td>\n",
       "      <td>0.803117</td>\n",
       "      <td>0.774591</td>\n",
       "      <td>0.507505</td>\n",
       "      <td>0.739008</td>\n",
       "      <td>0.109132</td>\n",
       "    </tr>\n",
       "    <tr>\n",
       "      <th>AdaBoost</th>\n",
       "      <td>0.914563</td>\n",
       "      <td>0.803117</td>\n",
       "      <td>1.000000</td>\n",
       "      <td>0.861526</td>\n",
       "      <td>0.583840</td>\n",
       "      <td>0.745488</td>\n",
       "      <td>0.115550</td>\n",
       "    </tr>\n",
       "    <tr>\n",
       "      <th>Random Forest</th>\n",
       "      <td>0.855292</td>\n",
       "      <td>0.774591</td>\n",
       "      <td>0.861526</td>\n",
       "      <td>1.000000</td>\n",
       "      <td>0.501867</td>\n",
       "      <td>0.854541</td>\n",
       "      <td>0.076956</td>\n",
       "    </tr>\n",
       "    <tr>\n",
       "      <th>Naive Bayes</th>\n",
       "      <td>0.628498</td>\n",
       "      <td>0.507505</td>\n",
       "      <td>0.583840</td>\n",
       "      <td>0.501867</td>\n",
       "      <td>1.000000</td>\n",
       "      <td>0.381642</td>\n",
       "      <td>0.128235</td>\n",
       "    </tr>\n",
       "    <tr>\n",
       "      <th>Conditional Tree</th>\n",
       "      <td>0.757881</td>\n",
       "      <td>0.739008</td>\n",
       "      <td>0.745488</td>\n",
       "      <td>0.854541</td>\n",
       "      <td>0.381642</td>\n",
       "      <td>1.000000</td>\n",
       "      <td>0.041869</td>\n",
       "    </tr>\n",
       "    <tr>\n",
       "      <th>SVM</th>\n",
       "      <td>0.124922</td>\n",
       "      <td>0.109132</td>\n",
       "      <td>0.115550</td>\n",
       "      <td>0.076956</td>\n",
       "      <td>0.128235</td>\n",
       "      <td>0.041869</td>\n",
       "      <td>1.000000</td>\n",
       "    </tr>\n",
       "  </tbody>\n",
       "</table>\n",
       "</div>"
      ],
      "text/plain": [
       "                     Logistic regression   XGBoost  AdaBoost  Random Forest  \\\n",
       "Logistic regression             1.000000  0.838907  0.914563       0.855292   \n",
       "XGBoost                         0.838907  1.000000  0.803117       0.774591   \n",
       "AdaBoost                        0.914563  0.803117  1.000000       0.861526   \n",
       "Random Forest                   0.855292  0.774591  0.861526       1.000000   \n",
       "Naive Bayes                     0.628498  0.507505  0.583840       0.501867   \n",
       "Conditional Tree                0.757881  0.739008  0.745488       0.854541   \n",
       "SVM                             0.124922  0.109132  0.115550       0.076956   \n",
       "\n",
       "                     Naive Bayes  Conditional Tree       SVM  \n",
       "Logistic regression     0.628498          0.757881  0.124922  \n",
       "XGBoost                 0.507505          0.739008  0.109132  \n",
       "AdaBoost                0.583840          0.745488  0.115550  \n",
       "Random Forest           0.501867          0.854541  0.076956  \n",
       "Naive Bayes             1.000000          0.381642  0.128235  \n",
       "Conditional Tree        0.381642          1.000000  0.041869  \n",
       "SVM                     0.128235          0.041869  1.000000  "
      ]
     },
     "execution_count": 64,
     "metadata": {},
     "output_type": "execute_result"
    }
   ],
   "source": [
    "corr =preds.corr()\n",
    "preds.corr()"
   ]
  },
  {
   "cell_type": "code",
   "execution_count": 67,
   "metadata": {},
   "outputs": [
    {
     "data": {
      "text/plain": [
       "<matplotlib.axes._subplots.AxesSubplot at 0xd516be0>"
      ]
     },
     "execution_count": 67,
     "metadata": {},
     "output_type": "execute_result"
    },
    {
     "data": {
      "image/png": "[encoded data removed]",
      "text/plain": [
       "<Figure size 432x288 with 2 Axes>"
      ]
     },
     "metadata": {},
     "output_type": "display_data"
    }
   ],
   "source": [
    "sns.heatmap(corr, \n",
    "            xticklabels=corr.columns.values,\n",
    "            yticklabels=corr.columns.values)"
   ]
  },
  {
   "cell_type": "markdown",
   "metadata": {},
   "source": [
    "we can see that the correlation between XGboost and LR is 0.84 and between LR to Adaboost is 0.91."
   ]
  },
  {
   "cell_type": "markdown",
   "metadata": {},
   "source": [
    "Because of the high correlation between the high-ranking models and due to cost-benefit considerations and time constraints, we decided not to ensemble models and leave it to a future work.\n",
    "<br>Instead, we moved on to preform a fine tuning to the highest rated models, XG and LR."
   ]
  },
  {
   "cell_type": "code",
   "execution_count": null,
   "metadata": {},
   "outputs": [],
   "source": []
  }
 ],
 "metadata": {
  "colab": {
   "name": "Model Selection.ipynb",
   "provenance": [],
   "version": "0.3.2"
  },
  "kernelspec": {
   "display_name": "Python 3",
   "language": "python",
   "name": "python3"
  },
  "language_info": {
   "codemirror_mode": {
    "name": "ipython",
    "version": 3
   },
   "file_extension": ".py",
   "mimetype": "text/x-python",
   "name": "python",
   "nbconvert_exporter": "python",
   "pygments_lexer": "ipython3",
   "version": "3.6.5"
  }
 },
 "nbformat": 4,
 "nbformat_minor": 1
}
