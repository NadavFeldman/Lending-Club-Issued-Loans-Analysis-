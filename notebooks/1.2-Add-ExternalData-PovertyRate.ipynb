{
 "cells": [
  {
   "cell_type": "markdown",
   "metadata": {},
   "source": [
    "<b>Add Poverty Rate Data to Database"
   ]
  },
  {
   "cell_type": "code",
   "execution_count": null,
   "metadata": {},
   "outputs": [],
   "source": [
    "require(dplyr)"
   ]
  },
  {
   "cell_type": "code",
   "execution_count": 97,
   "metadata": {},
   "outputs": [],
   "source": [
    "if(!require(readxl)){install.packages(\"readxl\"); require(readxl)}\n",
    "# Load the Excel workbook\n",
    "##path <- \"D:/Google Drive/Final Project/\"\n",
    "##WorkPath\n",
    "path <- paste0(getwd(),\"/Data/Raw\") \n",
    "excel_file <- paste0(\"/PovertyRate2007-2013.xlsx\")\n",
    "# see available tabs\n",
    "excel_sheets(paste0(path, excel_file))"
   ]
  },
  {
   "cell_type": "code",
   "execution_count": 98,
   "metadata": {},
   "outputs": [],
   "source": [
    "year2007 <- read_excel(paste0(path, excel_file), sheet = \"Tabulate 1 - Table 1\")\n",
    "year2008 <- read_excel(paste0(path, excel_file), sheet = \"Tabulate 2 - Table 1\")\n",
    "year2009 <- read_excel(paste0(path, excel_file), sheet = \"Tabulate 3 - Table 1\")\n",
    "year2010 <- read_excel(paste0(path, excel_file), sheet = \"Tabulate 4 - Table 1\")\n",
    "year2011 <- read_excel(paste0(path, excel_file), sheet = \"Tabulate 5 - Table 1\")\n",
    "year2012 <- read_excel(paste0(path, excel_file), sheet = \"Tabulate 6 - Table 1\")\n",
    "year2013 <- read_excel(paste0(path, excel_file), sheet = \"Tabulate 7 - Table 1\")\n",
    "excel_file <- paste0(\"/PovertyRate2014.xlsx\")\n",
    "year2014 <- read_excel(paste0(path, excel_file), sheet = \"Tabulate 1 - Table 1\")\n",
    "excel_file <- paste0(\"/PovertyRate2015.xlsx\")\n",
    "year2015 <- read_excel(paste0(path, excel_file), sheet = \"Tabulate 1 - Table 1\")\n"
   ]
  },
  {
   "cell_type": "code",
   "execution_count": 99,
   "metadata": {},
   "outputs": [],
   "source": [
    "colnames(year2007)[colnames(year2007)==\"CPS Data Collected in Year: 2008\"] <- \"state\"\n",
    "colnames(year2008)[colnames(year2008)==\"CPS Data Collected in Year: 2009\"] <- \"state\"\n",
    "colnames(year2009)[colnames(year2009)==\"CPS Data Collected in Year: 2010\"] <- \"state\"\n",
    "colnames(year2010)[colnames(year2010)==\"CPS Data Collected in Year: 2011\"] <- \"state\"\n",
    "colnames(year2011)[colnames(year2011)==\"CPS Data Collected in Year: 2012\"] <- \"state\"\n",
    "colnames(year2012)[colnames(year2012)==\"CPS Data Collected in Year: 2013\"] <- \"state\"\n",
    "colnames(year2013)[colnames(year2013)==\"CPS Data Collected in Year: 2014\"] <- \"state\"\n",
    "colnames(year2014)[colnames(year2014)==\"CPS Data Collected in Year: 2015\"] <- \"state\"\n",
    "colnames(year2015)[colnames(year2015)==\"CPS Data Collected in Year: 2016\"] <- \"state\""
   ]
  },
  {
   "cell_type": "code",
   "execution_count": 100,
   "metadata": {},
   "outputs": [],
   "source": [
    "create_dsByYear <- function(data,year){\n",
    "    percentColumn <-data %>% select(\"X__4\") %>% filter(grepl(\"%\",X__4))\n",
    "    ##remove first row - it's a total value\n",
    "    percentColumn <- percentColumn[-1,]\n",
    "    statesColumn <-data %>% select(\"state\") %>% filter(nchar(data$state)==2)\n",
    "    if  (nrow(statesColumn) == nrow(percentColumn)){\n",
    "      newData <- cbind(statesColumn,percentColumn,c(year))\n",
    "      names(newData) <- c(\"state\", \"poverty_rate\",\"year\")\n",
    "      return (newData)\n",
    "     }\n",
    "    else\n",
    "      return (NULL)\n",
    "  } "
   ]
  },
  {
   "cell_type": "code",
   "execution_count": 101,
   "metadata": {},
   "outputs": [],
   "source": [
    "povertyRate2007 <- create_dsByYear(year2007,2007)\n",
    "povertyRate2008 <- create_dsByYear(year2008,2008)\n",
    "povertyRate2009 <- create_dsByYear(year2009,2009)\n",
    "povertyRate2010 <- create_dsByYear(year2010,2010)\n",
    "povertyRate2011 <- create_dsByYear(year2011,2011)\n",
    "povertyRate2012 <- create_dsByYear(year2012,2012)\n",
    "povertyRate2013 <- create_dsByYear(year2013,2013)\n",
    "povertyRate2014 <- create_dsByYear(year2014,2014)\n",
    "povertyRate2015 <- create_dsByYear(year2015,2015)"
   ]
  },
  {
   "cell_type": "code",
   "execution_count": 141,
   "metadata": {},
   "outputs": [
    {
     "data": {
      "text/html": [
       "<table>\n",
       "<thead><tr><th scope=col>state</th><th scope=col>poverty_rate</th><th scope=col>year</th></tr></thead>\n",
       "<tbody>\n",
       "\t<tr><td>AL   </td><td>14.5%</td><td>2007 </td></tr>\n",
       "\t<tr><td>AK   </td><td>7.6% </td><td>2007 </td></tr>\n",
       "\t<tr><td>AZ   </td><td>14.3%</td><td>2007 </td></tr>\n",
       "\t<tr><td>AR   </td><td>13.8%</td><td>2007 </td></tr>\n",
       "\t<tr><td>CA   </td><td>12.7%</td><td>2007 </td></tr>\n",
       "\t<tr><td>CO   </td><td>9.8% </td><td>2007 </td></tr>\n",
       "\t<tr><td>CT   </td><td>8.9% </td><td>2007 </td></tr>\n",
       "\t<tr><td>DE   </td><td>9.3% </td><td>2007 </td></tr>\n",
       "\t<tr><td>DC   </td><td>18.0%</td><td>2007 </td></tr>\n",
       "\t<tr><td>FL   </td><td>12.5%</td><td>2007 </td></tr>\n",
       "\t<tr><td>GA   </td><td>13.6%</td><td>2007 </td></tr>\n",
       "\t<tr><td>HI   </td><td>7.5% </td><td>2007 </td></tr>\n",
       "\t<tr><td>ID   </td><td>9.9% </td><td>2007 </td></tr>\n",
       "\t<tr><td>IL   </td><td>10.0%</td><td>2007 </td></tr>\n",
       "\t<tr><td>IN   </td><td>11.8%</td><td>2007 </td></tr>\n",
       "\t<tr><td>IA   </td><td>8.9% </td><td>2007 </td></tr>\n",
       "\t<tr><td>KS   </td><td>11.7%</td><td>2007 </td></tr>\n",
       "\t<tr><td>KY   </td><td>15.5%</td><td>2007 </td></tr>\n",
       "\t<tr><td>LA   </td><td>16.1%</td><td>2007 </td></tr>\n",
       "\t<tr><td>ME   </td><td>10.9%</td><td>2007 </td></tr>\n",
       "\t<tr><td>MD   </td><td>8.8% </td><td>2007 </td></tr>\n",
       "\t<tr><td>MA   </td><td>11.2%</td><td>2007 </td></tr>\n",
       "\t<tr><td>MI   </td><td>10.8%</td><td>2007 </td></tr>\n",
       "\t<tr><td>MN   </td><td>9.3% </td><td>2007 </td></tr>\n",
       "\t<tr><td>MS   </td><td>22.6%</td><td>2007 </td></tr>\n",
       "\t<tr><td>MO   </td><td>12.8%</td><td>2007 </td></tr>\n",
       "\t<tr><td>MT   </td><td>13.0%</td><td>2007 </td></tr>\n",
       "\t<tr><td>NE   </td><td>9.9% </td><td>2007 </td></tr>\n",
       "\t<tr><td>NV   </td><td>9.7% </td><td>2007 </td></tr>\n",
       "\t<tr><td>NH   </td><td>5.8% </td><td>2007 </td></tr>\n",
       "\t<tr><td>NJ   </td><td>8.7% </td><td>2007 </td></tr>\n",
       "\t<tr><td>NM   </td><td>14.0%</td><td>2007 </td></tr>\n",
       "\t<tr><td>NY   </td><td>14.5%</td><td>2007 </td></tr>\n",
       "\t<tr><td>NC   </td><td>15.5%</td><td>2007 </td></tr>\n",
       "\t<tr><td>ND   </td><td>9.3% </td><td>2007 </td></tr>\n",
       "\t<tr><td>OH   </td><td>12.8%</td><td>2007 </td></tr>\n",
       "\t<tr><td>OK   </td><td>13.4%</td><td>2007 </td></tr>\n",
       "\t<tr><td>OR   </td><td>12.8%</td><td>2007 </td></tr>\n",
       "\t<tr><td>PA   </td><td>10.4%</td><td>2007 </td></tr>\n",
       "\t<tr><td>RI   </td><td>9.5% </td><td>2007 </td></tr>\n",
       "\t<tr><td>SC   </td><td>14.1%</td><td>2007 </td></tr>\n",
       "\t<tr><td>SD   </td><td>9.4% </td><td>2007 </td></tr>\n",
       "\t<tr><td>TN   </td><td>14.8%</td><td>2007 </td></tr>\n",
       "\t<tr><td>TX   </td><td>16.5%</td><td>2007 </td></tr>\n",
       "\t<tr><td>UT   </td><td>9.6% </td><td>2007 </td></tr>\n",
       "\t<tr><td>VT   </td><td>9.9% </td><td>2007 </td></tr>\n",
       "\t<tr><td>VA   </td><td>8.6% </td><td>2007 </td></tr>\n",
       "\t<tr><td>WA   </td><td>10.2%</td><td>2007 </td></tr>\n",
       "\t<tr><td>WV   </td><td>14.8%</td><td>2007 </td></tr>\n",
       "\t<tr><td>WI   </td><td>11.0%</td><td>2007 </td></tr>\n",
       "\t<tr><td>WY   </td><td>10.9%</td><td>2007 </td></tr>\n",
       "</tbody>\n",
       "</table>\n"
      ],
      "text/latex": [
       "\\begin{tabular}{r|lll}\n",
       " state & poverty\\_rate & year\\\\\n",
       "\\hline\n",
       "\t AL      & 14.5\\% & 2007   \\\\\n",
       "\t AK      & 7.6\\%  & 2007   \\\\\n",
       "\t AZ      & 14.3\\% & 2007   \\\\\n",
       "\t AR      & 13.8\\% & 2007   \\\\\n",
       "\t CA      & 12.7\\% & 2007   \\\\\n",
       "\t CO      & 9.8\\%  & 2007   \\\\\n",
       "\t CT      & 8.9\\%  & 2007   \\\\\n",
       "\t DE      & 9.3\\%  & 2007   \\\\\n",
       "\t DC      & 18.0\\% & 2007   \\\\\n",
       "\t FL      & 12.5\\% & 2007   \\\\\n",
       "\t GA      & 13.6\\% & 2007   \\\\\n",
       "\t HI      & 7.5\\%  & 2007   \\\\\n",
       "\t ID      & 9.9\\%  & 2007   \\\\\n",
       "\t IL      & 10.0\\% & 2007   \\\\\n",
       "\t IN      & 11.8\\% & 2007   \\\\\n",
       "\t IA      & 8.9\\%  & 2007   \\\\\n",
       "\t KS      & 11.7\\% & 2007   \\\\\n",
       "\t KY      & 15.5\\% & 2007   \\\\\n",
       "\t LA      & 16.1\\% & 2007   \\\\\n",
       "\t ME      & 10.9\\% & 2007   \\\\\n",
       "\t MD      & 8.8\\%  & 2007   \\\\\n",
       "\t MA      & 11.2\\% & 2007   \\\\\n",
       "\t MI      & 10.8\\% & 2007   \\\\\n",
       "\t MN      & 9.3\\%  & 2007   \\\\\n",
       "\t MS      & 22.6\\% & 2007   \\\\\n",
       "\t MO      & 12.8\\% & 2007   \\\\\n",
       "\t MT      & 13.0\\% & 2007   \\\\\n",
       "\t NE      & 9.9\\%  & 2007   \\\\\n",
       "\t NV      & 9.7\\%  & 2007   \\\\\n",
       "\t NH      & 5.8\\%  & 2007   \\\\\n",
       "\t NJ      & 8.7\\%  & 2007   \\\\\n",
       "\t NM      & 14.0\\% & 2007   \\\\\n",
       "\t NY      & 14.5\\% & 2007   \\\\\n",
       "\t NC      & 15.5\\% & 2007   \\\\\n",
       "\t ND      & 9.3\\%  & 2007   \\\\\n",
       "\t OH      & 12.8\\% & 2007   \\\\\n",
       "\t OK      & 13.4\\% & 2007   \\\\\n",
       "\t OR      & 12.8\\% & 2007   \\\\\n",
       "\t PA      & 10.4\\% & 2007   \\\\\n",
       "\t RI      & 9.5\\%  & 2007   \\\\\n",
       "\t SC      & 14.1\\% & 2007   \\\\\n",
       "\t SD      & 9.4\\%  & 2007   \\\\\n",
       "\t TN      & 14.8\\% & 2007   \\\\\n",
       "\t TX      & 16.5\\% & 2007   \\\\\n",
       "\t UT      & 9.6\\%  & 2007   \\\\\n",
       "\t VT      & 9.9\\%  & 2007   \\\\\n",
       "\t VA      & 8.6\\%  & 2007   \\\\\n",
       "\t WA      & 10.2\\% & 2007   \\\\\n",
       "\t WV      & 14.8\\% & 2007   \\\\\n",
       "\t WI      & 11.0\\% & 2007   \\\\\n",
       "\t WY      & 10.9\\% & 2007   \\\\\n",
       "\\end{tabular}\n"
      ],
      "text/markdown": [
       "\n",
       "state | poverty_rate | year | \n",
       "|---|---|---|---|---|---|---|---|---|---|---|---|---|---|---|---|---|---|---|---|---|---|---|---|---|---|---|---|---|---|---|---|---|---|---|---|---|---|---|---|---|---|---|---|---|---|---|---|---|---|---|\n",
       "| AL    | 14.5% | 2007  | \n",
       "| AK    | 7.6%  | 2007  | \n",
       "| AZ    | 14.3% | 2007  | \n",
       "| AR    | 13.8% | 2007  | \n",
       "| CA    | 12.7% | 2007  | \n",
       "| CO    | 9.8%  | 2007  | \n",
       "| CT    | 8.9%  | 2007  | \n",
       "| DE    | 9.3%  | 2007  | \n",
       "| DC    | 18.0% | 2007  | \n",
       "| FL    | 12.5% | 2007  | \n",
       "| GA    | 13.6% | 2007  | \n",
       "| HI    | 7.5%  | 2007  | \n",
       "| ID    | 9.9%  | 2007  | \n",
       "| IL    | 10.0% | 2007  | \n",
       "| IN    | 11.8% | 2007  | \n",
       "| IA    | 8.9%  | 2007  | \n",
       "| KS    | 11.7% | 2007  | \n",
       "| KY    | 15.5% | 2007  | \n",
       "| LA    | 16.1% | 2007  | \n",
       "| ME    | 10.9% | 2007  | \n",
       "| MD    | 8.8%  | 2007  | \n",
       "| MA    | 11.2% | 2007  | \n",
       "| MI    | 10.8% | 2007  | \n",
       "| MN    | 9.3%  | 2007  | \n",
       "| MS    | 22.6% | 2007  | \n",
       "| MO    | 12.8% | 2007  | \n",
       "| MT    | 13.0% | 2007  | \n",
       "| NE    | 9.9%  | 2007  | \n",
       "| NV    | 9.7%  | 2007  | \n",
       "| NH    | 5.8%  | 2007  | \n",
       "| NJ    | 8.7%  | 2007  | \n",
       "| NM    | 14.0% | 2007  | \n",
       "| NY    | 14.5% | 2007  | \n",
       "| NC    | 15.5% | 2007  | \n",
       "| ND    | 9.3%  | 2007  | \n",
       "| OH    | 12.8% | 2007  | \n",
       "| OK    | 13.4% | 2007  | \n",
       "| OR    | 12.8% | 2007  | \n",
       "| PA    | 10.4% | 2007  | \n",
       "| RI    | 9.5%  | 2007  | \n",
       "| SC    | 14.1% | 2007  | \n",
       "| SD    | 9.4%  | 2007  | \n",
       "| TN    | 14.8% | 2007  | \n",
       "| TX    | 16.5% | 2007  | \n",
       "| UT    | 9.6%  | 2007  | \n",
       "| VT    | 9.9%  | 2007  | \n",
       "| VA    | 8.6%  | 2007  | \n",
       "| WA    | 10.2% | 2007  | \n",
       "| WV    | 14.8% | 2007  | \n",
       "| WI    | 11.0% | 2007  | \n",
       "| WY    | 10.9% | 2007  | \n",
       "\n",
       "\n"
      ],
      "text/plain": [
       "   state poverty_rate year\n",
       "1  AL    14.5%        2007\n",
       "2  AK    7.6%         2007\n",
       "3  AZ    14.3%        2007\n",
       "4  AR    13.8%        2007\n",
       "5  CA    12.7%        2007\n",
       "6  CO    9.8%         2007\n",
       "7  CT    8.9%         2007\n",
       "8  DE    9.3%         2007\n",
       "9  DC    18.0%        2007\n",
       "10 FL    12.5%        2007\n",
       "11 GA    13.6%        2007\n",
       "12 HI    7.5%         2007\n",
       "13 ID    9.9%         2007\n",
       "14 IL    10.0%        2007\n",
       "15 IN    11.8%        2007\n",
       "16 IA    8.9%         2007\n",
       "17 KS    11.7%        2007\n",
       "18 KY    15.5%        2007\n",
       "19 LA    16.1%        2007\n",
       "20 ME    10.9%        2007\n",
       "21 MD    8.8%         2007\n",
       "22 MA    11.2%        2007\n",
       "23 MI    10.8%        2007\n",
       "24 MN    9.3%         2007\n",
       "25 MS    22.6%        2007\n",
       "26 MO    12.8%        2007\n",
       "27 MT    13.0%        2007\n",
       "28 NE    9.9%         2007\n",
       "29 NV    9.7%         2007\n",
       "30 NH    5.8%         2007\n",
       "31 NJ    8.7%         2007\n",
       "32 NM    14.0%        2007\n",
       "33 NY    14.5%        2007\n",
       "34 NC    15.5%        2007\n",
       "35 ND    9.3%         2007\n",
       "36 OH    12.8%        2007\n",
       "37 OK    13.4%        2007\n",
       "38 OR    12.8%        2007\n",
       "39 PA    10.4%        2007\n",
       "40 RI    9.5%         2007\n",
       "41 SC    14.1%        2007\n",
       "42 SD    9.4%         2007\n",
       "43 TN    14.8%        2007\n",
       "44 TX    16.5%        2007\n",
       "45 UT    9.6%         2007\n",
       "46 VT    9.9%         2007\n",
       "47 VA    8.6%         2007\n",
       "48 WA    10.2%        2007\n",
       "49 WV    14.8%        2007\n",
       "50 WI    11.0%        2007\n",
       "51 WY    10.9%        2007"
      ]
     },
     "metadata": {},
     "output_type": "display_data"
    }
   ],
   "source": [
    "povertyRate2007"
   ]
  },
  {
   "cell_type": "code",
   "execution_count": 162,
   "metadata": {},
   "outputs": [],
   "source": [
    "poverty_rate_ds <- bind_rows(povertyRate2007,povertyRate2008,povertyRate2009,povertyRate2010,povertyRate2011,povertyRate2012,povertyRate2013,povertyRate2014,povertyRate2015)"
   ]
  },
  {
   "cell_type": "code",
   "execution_count": 163,
   "metadata": {},
   "outputs": [
    {
     "data": {
      "text/html": [
       "<ol class=list-inline>\n",
       "\t<li>459</li>\n",
       "\t<li>3</li>\n",
       "</ol>\n"
      ],
      "text/latex": [
       "\\begin{enumerate*}\n",
       "\\item 459\n",
       "\\item 3\n",
       "\\end{enumerate*}\n"
      ],
      "text/markdown": [
       "1. 459\n",
       "2. 3\n",
       "\n",
       "\n"
      ],
      "text/plain": [
       "[1] 459   3"
      ]
     },
     "metadata": {},
     "output_type": "display_data"
    }
   ],
   "source": [
    "dim(poverty_rate_ds)"
   ]
  },
  {
   "cell_type": "code",
   "execution_count": 132,
   "metadata": {},
   "outputs": [],
   "source": [
    "create_dsByYearTranspose <- function(data){\n",
    "    cat <- levels(factor(data[[\"state\"]]))\n",
    "    res <- data %>% group_by_(\"state\") %>% select_(\"state\") %>% distinct_()\n",
    "    for (l in 1:length(cat)) {\n",
    "        cname <- paste(cat[l])\n",
    "        cc1 <- data %>% select(\"poverty_rate\") %>% filter(povertyRate2007[[\"state\"]]==cat[l]) \n",
    "        res[[cname]] <- as.character(cc1)\n",
    "    }\n",
    "    return (res)\n",
    "}"
   ]
  },
  {
   "cell_type": "code",
   "execution_count": 135,
   "metadata": {},
   "outputs": [],
   "source": [
    "try2007 <- create_dsByYearTranspose(povertyRate2007)\n",
    "try2008 <- create_dsByYearTranspose(povertyRate2008)"
   ]
  },
  {
   "cell_type": "code",
   "execution_count": 136,
   "metadata": {},
   "outputs": [
    {
     "data": {
      "text/html": [
       "<table>\n",
       "<thead><tr><th scope=col>year</th><th scope=col>AK</th><th scope=col>AL</th><th scope=col>AR</th><th scope=col>AZ</th><th scope=col>CA</th><th scope=col>CO</th><th scope=col>CT</th><th scope=col>DC</th><th scope=col>DE</th><th scope=col>...</th><th scope=col>SD</th><th scope=col>TN</th><th scope=col>TX</th><th scope=col>UT</th><th scope=col>VA</th><th scope=col>VT</th><th scope=col>WA</th><th scope=col>WI</th><th scope=col>WV</th><th scope=col>WY</th></tr></thead>\n",
       "<tbody>\n",
       "\t<tr><td>2007 </td><td>7.6% </td><td>14.5%</td><td>13.8%</td><td>14.3%</td><td>12.7%</td><td>9.8% </td><td>8.9% </td><td>18.0%</td><td>9.3% </td><td>...  </td><td>9.4% </td><td>14.8%</td><td>16.5%</td><td>9.6% </td><td>8.6% </td><td>9.9% </td><td>10.2%</td><td>11.0%</td><td>14.8%</td><td>10.9%</td></tr>\n",
       "</tbody>\n",
       "</table>\n"
      ],
      "text/latex": [
       "\\begin{tabular}{r|llllllllllllllllllllllllllllllllllllllllllllllllllll}\n",
       " year & AK & AL & AR & AZ & CA & CO & CT & DC & DE & ... & SD & TN & TX & UT & VA & VT & WA & WI & WV & WY\\\\\n",
       "\\hline\n",
       "\t 2007    & 7.6\\%  & 14.5\\% & 13.8\\% & 14.3\\% & 12.7\\% & 9.8\\%  & 8.9\\%  & 18.0\\% & 9.3\\%  & ...     & 9.4\\%  & 14.8\\% & 16.5\\% & 9.6\\%  & 8.6\\%  & 9.9\\%  & 10.2\\% & 11.0\\% & 14.8\\% & 10.9\\%\\\\\n",
       "\\end{tabular}\n"
      ],
      "text/markdown": [
       "\n",
       "year | AK | AL | AR | AZ | CA | CO | CT | DC | DE | ... | SD | TN | TX | UT | VA | VT | WA | WI | WV | WY | \n",
       "|---|\n",
       "| 2007  | 7.6%  | 14.5% | 13.8% | 14.3% | 12.7% | 9.8%  | 8.9%  | 18.0% | 9.3%  | ...   | 9.4%  | 14.8% | 16.5% | 9.6%  | 8.6%  | 9.9%  | 10.2% | 11.0% | 14.8% | 10.9% | \n",
       "\n",
       "\n"
      ],
      "text/plain": [
       "  year AK   AL    AR    AZ    CA    CO   CT   DC    DE   ... SD   TN    TX   \n",
       "1 2007 7.6% 14.5% 13.8% 14.3% 12.7% 9.8% 8.9% 18.0% 9.3% ... 9.4% 14.8% 16.5%\n",
       "  UT   VA   VT   WA    WI    WV    WY   \n",
       "1 9.6% 8.6% 9.9% 10.2% 11.0% 14.8% 10.9%"
      ]
     },
     "metadata": {},
     "output_type": "display_data"
    },
    {
     "data": {
      "text/html": [
       "<table>\n",
       "<thead><tr><th scope=col>year</th><th scope=col>AK</th><th scope=col>AL</th><th scope=col>AR</th><th scope=col>AZ</th><th scope=col>CA</th><th scope=col>CO</th><th scope=col>CT</th><th scope=col>DC</th><th scope=col>DE</th><th scope=col>...</th><th scope=col>SD</th><th scope=col>TN</th><th scope=col>TX</th><th scope=col>UT</th><th scope=col>VA</th><th scope=col>VT</th><th scope=col>WA</th><th scope=col>WI</th><th scope=col>WV</th><th scope=col>WY</th></tr></thead>\n",
       "<tbody>\n",
       "\t<tr><td>2008 </td><td>8.2% </td><td>14.3%</td><td>15.3%</td><td>18.0%</td><td>14.6%</td><td>11.0%</td><td>8.1% </td><td>16.5%</td><td>9.6% </td><td>...  </td><td>13.1%</td><td>15.0%</td><td>15.9%</td><td>7.6% </td><td>10.3%</td><td>9.0% </td><td>10.4%</td><td>9.8% </td><td>14.5%</td><td>10.1%</td></tr>\n",
       "</tbody>\n",
       "</table>\n"
      ],
      "text/latex": [
       "\\begin{tabular}{r|llllllllllllllllllllllllllllllllllllllllllllllllllll}\n",
       " year & AK & AL & AR & AZ & CA & CO & CT & DC & DE & ... & SD & TN & TX & UT & VA & VT & WA & WI & WV & WY\\\\\n",
       "\\hline\n",
       "\t 2008    & 8.2\\%  & 14.3\\% & 15.3\\% & 18.0\\% & 14.6\\% & 11.0\\% & 8.1\\%  & 16.5\\% & 9.6\\%  & ...     & 13.1\\% & 15.0\\% & 15.9\\% & 7.6\\%  & 10.3\\% & 9.0\\%  & 10.4\\% & 9.8\\%  & 14.5\\% & 10.1\\%\\\\\n",
       "\\end{tabular}\n"
      ],
      "text/markdown": [
       "\n",
       "year | AK | AL | AR | AZ | CA | CO | CT | DC | DE | ... | SD | TN | TX | UT | VA | VT | WA | WI | WV | WY | \n",
       "|---|\n",
       "| 2008  | 8.2%  | 14.3% | 15.3% | 18.0% | 14.6% | 11.0% | 8.1%  | 16.5% | 9.6%  | ...   | 13.1% | 15.0% | 15.9% | 7.6%  | 10.3% | 9.0%  | 10.4% | 9.8%  | 14.5% | 10.1% | \n",
       "\n",
       "\n"
      ],
      "text/plain": [
       "  year AK   AL    AR    AZ    CA    CO    CT   DC    DE   ... SD    TN    TX   \n",
       "1 2008 8.2% 14.3% 15.3% 18.0% 14.6% 11.0% 8.1% 16.5% 9.6% ... 13.1% 15.0% 15.9%\n",
       "  UT   VA    VT   WA    WI   WV    WY   \n",
       "1 7.6% 10.3% 9.0% 10.4% 9.8% 14.5% 10.1%"
      ]
     },
     "metadata": {},
     "output_type": "display_data"
    }
   ],
   "source": [
    "try2007\n",
    "try2008"
   ]
  },
  {
   "cell_type": "code",
   "execution_count": 139,
   "metadata": {},
   "outputs": [],
   "source": [
    "tryj <- rbind(try2007,try2008)"
   ]
  },
  {
   "cell_type": "code",
   "execution_count": 140,
   "metadata": {},
   "outputs": [
    {
     "data": {
      "text/html": [
       "<table>\n",
       "<thead><tr><th scope=col>year</th><th scope=col>AK</th><th scope=col>AL</th><th scope=col>AR</th><th scope=col>AZ</th><th scope=col>CA</th><th scope=col>CO</th><th scope=col>CT</th><th scope=col>DC</th><th scope=col>DE</th><th scope=col>...</th><th scope=col>SD</th><th scope=col>TN</th><th scope=col>TX</th><th scope=col>UT</th><th scope=col>VA</th><th scope=col>VT</th><th scope=col>WA</th><th scope=col>WI</th><th scope=col>WV</th><th scope=col>WY</th></tr></thead>\n",
       "<tbody>\n",
       "\t<tr><td>2007 </td><td>7.6% </td><td>14.5%</td><td>13.8%</td><td>14.3%</td><td>12.7%</td><td>9.8% </td><td>8.9% </td><td>18.0%</td><td>9.3% </td><td>...  </td><td>9.4% </td><td>14.8%</td><td>16.5%</td><td>9.6% </td><td>8.6% </td><td>9.9% </td><td>10.2%</td><td>11.0%</td><td>14.8%</td><td>10.9%</td></tr>\n",
       "\t<tr><td>2008 </td><td>8.2% </td><td>14.3%</td><td>15.3%</td><td>18.0%</td><td>14.6%</td><td>11.0%</td><td>8.1% </td><td>16.5%</td><td>9.6% </td><td>...  </td><td>13.1%</td><td>15.0%</td><td>15.9%</td><td>7.6% </td><td>10.3%</td><td>9.0% </td><td>10.4%</td><td>9.8% </td><td>14.5%</td><td>10.1%</td></tr>\n",
       "</tbody>\n",
       "</table>\n"
      ],
      "text/latex": [
       "\\begin{tabular}{r|llllllllllllllllllllllllllllllllllllllllllllllllllll}\n",
       " year & AK & AL & AR & AZ & CA & CO & CT & DC & DE & ... & SD & TN & TX & UT & VA & VT & WA & WI & WV & WY\\\\\n",
       "\\hline\n",
       "\t 2007    & 7.6\\%  & 14.5\\% & 13.8\\% & 14.3\\% & 12.7\\% & 9.8\\%  & 8.9\\%  & 18.0\\% & 9.3\\%  & ...     & 9.4\\%  & 14.8\\% & 16.5\\% & 9.6\\%  & 8.6\\%  & 9.9\\%  & 10.2\\% & 11.0\\% & 14.8\\% & 10.9\\%\\\\\n",
       "\t 2008    & 8.2\\%  & 14.3\\% & 15.3\\% & 18.0\\% & 14.6\\% & 11.0\\% & 8.1\\%  & 16.5\\% & 9.6\\%  & ...     & 13.1\\% & 15.0\\% & 15.9\\% & 7.6\\%  & 10.3\\% & 9.0\\%  & 10.4\\% & 9.8\\%  & 14.5\\% & 10.1\\%\\\\\n",
       "\\end{tabular}\n"
      ],
      "text/markdown": [
       "\n",
       "year | AK | AL | AR | AZ | CA | CO | CT | DC | DE | ... | SD | TN | TX | UT | VA | VT | WA | WI | WV | WY | \n",
       "|---|---|\n",
       "| 2007  | 7.6%  | 14.5% | 13.8% | 14.3% | 12.7% | 9.8%  | 8.9%  | 18.0% | 9.3%  | ...   | 9.4%  | 14.8% | 16.5% | 9.6%  | 8.6%  | 9.9%  | 10.2% | 11.0% | 14.8% | 10.9% | \n",
       "| 2008  | 8.2%  | 14.3% | 15.3% | 18.0% | 14.6% | 11.0% | 8.1%  | 16.5% | 9.6%  | ...   | 13.1% | 15.0% | 15.9% | 7.6%  | 10.3% | 9.0%  | 10.4% | 9.8%  | 14.5% | 10.1% | \n",
       "\n",
       "\n"
      ],
      "text/plain": [
       "  year AK   AL    AR    AZ    CA    CO    CT   DC    DE   ... SD    TN    TX   \n",
       "1 2007 7.6% 14.5% 13.8% 14.3% 12.7% 9.8%  8.9% 18.0% 9.3% ... 9.4%  14.8% 16.5%\n",
       "2 2008 8.2% 14.3% 15.3% 18.0% 14.6% 11.0% 8.1% 16.5% 9.6% ... 13.1% 15.0% 15.9%\n",
       "  UT   VA    VT   WA    WI    WV    WY   \n",
       "1 9.6% 8.6%  9.9% 10.2% 11.0% 14.8% 10.9%\n",
       "2 7.6% 10.3% 9.0% 10.4% 9.8%  14.5% 10.1%"
      ]
     },
     "metadata": {},
     "output_type": "display_data"
    }
   ],
   "source": [
    "tryj"
   ]
  },
  {
   "cell_type": "code",
   "execution_count": 142,
   "metadata": {},
   "outputs": [
    {
     "data": {
      "text/html": [
       "<table>\n",
       "<tbody>\n",
       "\t<tr><th scope=row>year</th><td>2007 </td><td>2008 </td></tr>\n",
       "\t<tr><th scope=row>AK</th><td>7.6% </td><td>8.2% </td></tr>\n",
       "\t<tr><th scope=row>AL</th><td>14.5%</td><td>14.3%</td></tr>\n",
       "\t<tr><th scope=row>AR</th><td>13.8%</td><td>15.3%</td></tr>\n",
       "\t<tr><th scope=row>AZ</th><td>14.3%</td><td>18.0%</td></tr>\n",
       "\t<tr><th scope=row>CA</th><td>12.7%</td><td>14.6%</td></tr>\n",
       "\t<tr><th scope=row>CO</th><td>9.8% </td><td>11.0%</td></tr>\n",
       "\t<tr><th scope=row>CT</th><td>8.9% </td><td>8.1% </td></tr>\n",
       "\t<tr><th scope=row>DC</th><td>18.0%</td><td>16.5%</td></tr>\n",
       "\t<tr><th scope=row>DE</th><td>9.3% </td><td>9.6% </td></tr>\n",
       "\t<tr><th scope=row>FL</th><td>12.5%</td><td>13.1%</td></tr>\n",
       "\t<tr><th scope=row>GA</th><td>13.6%</td><td>15.5%</td></tr>\n",
       "\t<tr><th scope=row>HI</th><td>7.5% </td><td>9.9% </td></tr>\n",
       "\t<tr><th scope=row>IA</th><td>8.9% </td><td>9.5% </td></tr>\n",
       "\t<tr><th scope=row>ID</th><td>9.9% </td><td>12.2%</td></tr>\n",
       "\t<tr><th scope=row>IL</th><td>10.0%</td><td>12.3%</td></tr>\n",
       "\t<tr><th scope=row>IN</th><td>11.8%</td><td>14.3%</td></tr>\n",
       "\t<tr><th scope=row>KS</th><td>11.7%</td><td>12.7%</td></tr>\n",
       "\t<tr><th scope=row>KY</th><td>15.5%</td><td>17.1%</td></tr>\n",
       "\t<tr><th scope=row>LA</th><td>16.1%</td><td>18.2%</td></tr>\n",
       "\t<tr><th scope=row>MA</th><td>11.2%</td><td>11.3%</td></tr>\n",
       "\t<tr><th scope=row>MD</th><td>8.8% </td><td>8.7% </td></tr>\n",
       "\t<tr><th scope=row>ME</th><td>10.9%</td><td>12.0%</td></tr>\n",
       "\t<tr><th scope=row>MI</th><td>10.8%</td><td>13.0%</td></tr>\n",
       "\t<tr><th scope=row>MN</th><td>9.3% </td><td>9.9% </td></tr>\n",
       "\t<tr><th scope=row>MO</th><td>12.8%</td><td>13.3%</td></tr>\n",
       "\t<tr><th scope=row>MS</th><td>22.6%</td><td>18.1%</td></tr>\n",
       "\t<tr><th scope=row>MT</th><td>13.0%</td><td>12.9%</td></tr>\n",
       "\t<tr><th scope=row>NC</th><td>15.5%</td><td>13.9%</td></tr>\n",
       "\t<tr><th scope=row>ND</th><td>9.3% </td><td>11.8%</td></tr>\n",
       "\t<tr><th scope=row>NE</th><td>9.9% </td><td>10.6%</td></tr>\n",
       "\t<tr><th scope=row>NH</th><td>5.8% </td><td>7.0% </td></tr>\n",
       "\t<tr><th scope=row>NJ</th><td>8.7% </td><td>9.2% </td></tr>\n",
       "\t<tr><th scope=row>NM</th><td>14.0%</td><td>19.3%</td></tr>\n",
       "\t<tr><th scope=row>NV</th><td>9.7% </td><td>10.8%</td></tr>\n",
       "\t<tr><th scope=row>NY</th><td>14.5%</td><td>14.2%</td></tr>\n",
       "\t<tr><th scope=row>OH</th><td>12.8%</td><td>13.7%</td></tr>\n",
       "\t<tr><th scope=row>OK</th><td>13.4%</td><td>13.6%</td></tr>\n",
       "\t<tr><th scope=row>OR</th><td>12.8%</td><td>10.6%</td></tr>\n",
       "\t<tr><th scope=row>PA</th><td>10.4%</td><td>11.0%</td></tr>\n",
       "\t<tr><th scope=row>RI</th><td>9.5% </td><td>12.7%</td></tr>\n",
       "\t<tr><th scope=row>SC</th><td>14.1%</td><td>14.0%</td></tr>\n",
       "\t<tr><th scope=row>SD</th><td>9.4% </td><td>13.1%</td></tr>\n",
       "\t<tr><th scope=row>TN</th><td>14.8%</td><td>15.0%</td></tr>\n",
       "\t<tr><th scope=row>TX</th><td>16.5%</td><td>15.9%</td></tr>\n",
       "\t<tr><th scope=row>UT</th><td>9.6% </td><td>7.6% </td></tr>\n",
       "\t<tr><th scope=row>VA</th><td>8.6% </td><td>10.3%</td></tr>\n",
       "\t<tr><th scope=row>VT</th><td>9.9% </td><td>9.0% </td></tr>\n",
       "\t<tr><th scope=row>WA</th><td>10.2%</td><td>10.4%</td></tr>\n",
       "\t<tr><th scope=row>WI</th><td>11.0%</td><td>9.8% </td></tr>\n",
       "\t<tr><th scope=row>WV</th><td>14.8%</td><td>14.5%</td></tr>\n",
       "\t<tr><th scope=row>WY</th><td>10.9%</td><td>10.1%</td></tr>\n",
       "</tbody>\n",
       "</table>\n"
      ],
      "text/latex": [
       "\\begin{tabular}{r|ll}\n",
       "\tyear & 2007  & 2008 \\\\\n",
       "\tAK & 7.6\\%  & 8.2\\% \\\\\n",
       "\tAL & 14.5\\% & 14.3\\%\\\\\n",
       "\tAR & 13.8\\% & 15.3\\%\\\\\n",
       "\tAZ & 14.3\\% & 18.0\\%\\\\\n",
       "\tCA & 12.7\\% & 14.6\\%\\\\\n",
       "\tCO & 9.8\\%  & 11.0\\%\\\\\n",
       "\tCT & 8.9\\%  & 8.1\\% \\\\\n",
       "\tDC & 18.0\\% & 16.5\\%\\\\\n",
       "\tDE & 9.3\\%  & 9.6\\% \\\\\n",
       "\tFL & 12.5\\% & 13.1\\%\\\\\n",
       "\tGA & 13.6\\% & 15.5\\%\\\\\n",
       "\tHI & 7.5\\%  & 9.9\\% \\\\\n",
       "\tIA & 8.9\\%  & 9.5\\% \\\\\n",
       "\tID & 9.9\\%  & 12.2\\%\\\\\n",
       "\tIL & 10.0\\% & 12.3\\%\\\\\n",
       "\tIN & 11.8\\% & 14.3\\%\\\\\n",
       "\tKS & 11.7\\% & 12.7\\%\\\\\n",
       "\tKY & 15.5\\% & 17.1\\%\\\\\n",
       "\tLA & 16.1\\% & 18.2\\%\\\\\n",
       "\tMA & 11.2\\% & 11.3\\%\\\\\n",
       "\tMD & 8.8\\%  & 8.7\\% \\\\\n",
       "\tME & 10.9\\% & 12.0\\%\\\\\n",
       "\tMI & 10.8\\% & 13.0\\%\\\\\n",
       "\tMN & 9.3\\%  & 9.9\\% \\\\\n",
       "\tMO & 12.8\\% & 13.3\\%\\\\\n",
       "\tMS & 22.6\\% & 18.1\\%\\\\\n",
       "\tMT & 13.0\\% & 12.9\\%\\\\\n",
       "\tNC & 15.5\\% & 13.9\\%\\\\\n",
       "\tND & 9.3\\%  & 11.8\\%\\\\\n",
       "\tNE & 9.9\\%  & 10.6\\%\\\\\n",
       "\tNH & 5.8\\%  & 7.0\\% \\\\\n",
       "\tNJ & 8.7\\%  & 9.2\\% \\\\\n",
       "\tNM & 14.0\\% & 19.3\\%\\\\\n",
       "\tNV & 9.7\\%  & 10.8\\%\\\\\n",
       "\tNY & 14.5\\% & 14.2\\%\\\\\n",
       "\tOH & 12.8\\% & 13.7\\%\\\\\n",
       "\tOK & 13.4\\% & 13.6\\%\\\\\n",
       "\tOR & 12.8\\% & 10.6\\%\\\\\n",
       "\tPA & 10.4\\% & 11.0\\%\\\\\n",
       "\tRI & 9.5\\%  & 12.7\\%\\\\\n",
       "\tSC & 14.1\\% & 14.0\\%\\\\\n",
       "\tSD & 9.4\\%  & 13.1\\%\\\\\n",
       "\tTN & 14.8\\% & 15.0\\%\\\\\n",
       "\tTX & 16.5\\% & 15.9\\%\\\\\n",
       "\tUT & 9.6\\%  & 7.6\\% \\\\\n",
       "\tVA & 8.6\\%  & 10.3\\%\\\\\n",
       "\tVT & 9.9\\%  & 9.0\\% \\\\\n",
       "\tWA & 10.2\\% & 10.4\\%\\\\\n",
       "\tWI & 11.0\\% & 9.8\\% \\\\\n",
       "\tWV & 14.8\\% & 14.5\\%\\\\\n",
       "\tWY & 10.9\\% & 10.1\\%\\\\\n",
       "\\end{tabular}\n"
      ],
      "text/markdown": [
       "\n",
       "| year | 2007  | 2008  | \n",
       "| AK | 7.6%  | 8.2%  | \n",
       "| AL | 14.5% | 14.3% | \n",
       "| AR | 13.8% | 15.3% | \n",
       "| AZ | 14.3% | 18.0% | \n",
       "| CA | 12.7% | 14.6% | \n",
       "| CO | 9.8%  | 11.0% | \n",
       "| CT | 8.9%  | 8.1%  | \n",
       "| DC | 18.0% | 16.5% | \n",
       "| DE | 9.3%  | 9.6%  | \n",
       "| FL | 12.5% | 13.1% | \n",
       "| GA | 13.6% | 15.5% | \n",
       "| HI | 7.5%  | 9.9%  | \n",
       "| IA | 8.9%  | 9.5%  | \n",
       "| ID | 9.9%  | 12.2% | \n",
       "| IL | 10.0% | 12.3% | \n",
       "| IN | 11.8% | 14.3% | \n",
       "| KS | 11.7% | 12.7% | \n",
       "| KY | 15.5% | 17.1% | \n",
       "| LA | 16.1% | 18.2% | \n",
       "| MA | 11.2% | 11.3% | \n",
       "| MD | 8.8%  | 8.7%  | \n",
       "| ME | 10.9% | 12.0% | \n",
       "| MI | 10.8% | 13.0% | \n",
       "| MN | 9.3%  | 9.9%  | \n",
       "| MO | 12.8% | 13.3% | \n",
       "| MS | 22.6% | 18.1% | \n",
       "| MT | 13.0% | 12.9% | \n",
       "| NC | 15.5% | 13.9% | \n",
       "| ND | 9.3%  | 11.8% | \n",
       "| NE | 9.9%  | 10.6% | \n",
       "| NH | 5.8%  | 7.0%  | \n",
       "| NJ | 8.7%  | 9.2%  | \n",
       "| NM | 14.0% | 19.3% | \n",
       "| NV | 9.7%  | 10.8% | \n",
       "| NY | 14.5% | 14.2% | \n",
       "| OH | 12.8% | 13.7% | \n",
       "| OK | 13.4% | 13.6% | \n",
       "| OR | 12.8% | 10.6% | \n",
       "| PA | 10.4% | 11.0% | \n",
       "| RI | 9.5%  | 12.7% | \n",
       "| SC | 14.1% | 14.0% | \n",
       "| SD | 9.4%  | 13.1% | \n",
       "| TN | 14.8% | 15.0% | \n",
       "| TX | 16.5% | 15.9% | \n",
       "| UT | 9.6%  | 7.6%  | \n",
       "| VA | 8.6%  | 10.3% | \n",
       "| VT | 9.9%  | 9.0%  | \n",
       "| WA | 10.2% | 10.4% | \n",
       "| WI | 11.0% | 9.8%  | \n",
       "| WV | 14.8% | 14.5% | \n",
       "| WY | 10.9% | 10.1% | \n",
       "\n",
       "\n"
      ],
      "text/plain": [
       "     [,1]  [,2] \n",
       "year 2007  2008 \n",
       "AK   7.6%  8.2% \n",
       "AL   14.5% 14.3%\n",
       "AR   13.8% 15.3%\n",
       "AZ   14.3% 18.0%\n",
       "CA   12.7% 14.6%\n",
       "CO   9.8%  11.0%\n",
       "CT   8.9%  8.1% \n",
       "DC   18.0% 16.5%\n",
       "DE   9.3%  9.6% \n",
       "FL   12.5% 13.1%\n",
       "GA   13.6% 15.5%\n",
       "HI   7.5%  9.9% \n",
       "IA   8.9%  9.5% \n",
       "ID   9.9%  12.2%\n",
       "IL   10.0% 12.3%\n",
       "IN   11.8% 14.3%\n",
       "KS   11.7% 12.7%\n",
       "KY   15.5% 17.1%\n",
       "LA   16.1% 18.2%\n",
       "MA   11.2% 11.3%\n",
       "MD   8.8%  8.7% \n",
       "ME   10.9% 12.0%\n",
       "MI   10.8% 13.0%\n",
       "MN   9.3%  9.9% \n",
       "MO   12.8% 13.3%\n",
       "MS   22.6% 18.1%\n",
       "MT   13.0% 12.9%\n",
       "NC   15.5% 13.9%\n",
       "ND   9.3%  11.8%\n",
       "NE   9.9%  10.6%\n",
       "NH   5.8%  7.0% \n",
       "NJ   8.7%  9.2% \n",
       "NM   14.0% 19.3%\n",
       "NV   9.7%  10.8%\n",
       "NY   14.5% 14.2%\n",
       "OH   12.8% 13.7%\n",
       "OK   13.4% 13.6%\n",
       "OR   12.8% 10.6%\n",
       "PA   10.4% 11.0%\n",
       "RI   9.5%  12.7%\n",
       "SC   14.1% 14.0%\n",
       "SD   9.4%  13.1%\n",
       "TN   14.8% 15.0%\n",
       "TX   16.5% 15.9%\n",
       "UT   9.6%  7.6% \n",
       "VA   8.6%  10.3%\n",
       "VT   9.9%  9.0% \n",
       "WA   10.2% 10.4%\n",
       "WI   11.0% 9.8% \n",
       "WV   14.8% 14.5%\n",
       "WY   10.9% 10.1%"
      ]
     },
     "metadata": {},
     "output_type": "display_data"
    }
   ],
   "source": [
    "t(tryj)"
   ]
  },
  {
   "cell_type": "code",
   "execution_count": 161,
   "metadata": {},
   "outputs": [
    {
     "name": "stderr",
     "output_type": "stream",
     "text": [
      "Loading required package: openintro\n",
      "Warning message in library(package, lib.loc = lib.loc, character.only = TRUE, logical.return = TRUE, :\n",
      "\"there is no package called 'openintro'\""
     ]
    },
    {
     "name": "stdout",
     "output_type": "stream",
     "text": [
      "package 'openintro' successfully unpacked and MD5 sums checked\n",
      "\n",
      "The downloaded binary packages are in\n",
      "\tC:\\Users\\Kobi\\AppData\\Local\\Temp\\RtmpOikrfC\\downloaded_packages\n"
     ]
    },
    {
     "name": "stderr",
     "output_type": "stream",
     "text": [
      "Loading required package: openintro\n",
      "Warning message:\n",
      "\"package 'openintro' was built under R version 3.5.2\"Please visit openintro.org for free statistics materials\n",
      "\n",
      "Attaching package: 'openintro'\n",
      "\n",
      "The following objects are masked from 'package:datasets':\n",
      "\n",
      "    cars, trees\n",
      "\n"
     ]
    }
   ],
   "source": [
    "if(!require(openintro)){install.packages(\"openintro\"); require(openintro)}"
   ]
  },
  {
   "cell_type": "code",
   "execution_count": 169,
   "metadata": {},
   "outputs": [],
   "source": [
    "poverty_rate_ds <- poverty_rate_ds %>%select(everything())%>%mutate(state_name= abbr2state(poverty_rate_ds$state) , poverty_rate_p =  as.numeric(sub(\"%\", \"\",poverty_rate_ds$poverty_rate,fixed=TRUE))/100)"
   ]
  },
  {
   "cell_type": "code",
   "execution_count": 170,
   "metadata": {},
   "outputs": [],
   "source": [
    "DB_FILE = paste0(getwd(),\"/Data/loans.db\") \n",
    "\n",
    "##############################################################################\n",
    "##########                DATABASE FUNCTIONS                     #############\n",
    "##############################################################################\n",
    "            \n",
    "#### Read function to import data from the SQL to a pandas dataframe.\n",
    "readSQL <- function(query, db=DB_FILE) {\n",
    "    require(DBI)\n",
    "    require(RSQLite)\n",
    "    con <- dbConnect(SQLite(), DB_FILE)\n",
    "    df <- dbGetQuery(con, query)\n",
    "    return(df)\n",
    "}\n",
    "#### Write a pandas dataframe into an SQL table. Use overwrite=True if you want to delete \n",
    "#### first a pre-existent table with the same name. Use append=True if you want to append\n",
    "#### the data in the dataframe to a pre-existent table.\n",
    "writeSQL <- function(df,tablename,overwrite=FALSE, append=FALSE,db=DB_FILE) {\n",
    "    require(DBI)\n",
    "    require(RSQLite)\n",
    "    con <- dbConnect(SQLite(), DB_FILE)\n",
    "    dbWriteTable(con,tablename,df,overwrite,append)\n",
    "}\n"
   ]
  },
  {
   "cell_type": "code",
   "execution_count": 171,
   "metadata": {},
   "outputs": [
    {
     "name": "stderr",
     "output_type": "stream",
     "text": [
      "Loading required package: DBI\n",
      "Loading required package: RSQLite\n"
     ]
    }
   ],
   "source": [
    "writeSQL(poverty_rate_ds, \"povertyRateByStates\")"
   ]
  },
  {
   "cell_type": "code",
   "execution_count": null,
   "metadata": {},
   "outputs": [],
   "source": []
  }
 ],
 "metadata": {
  "kernelspec": {
   "display_name": "R",
   "language": "R",
   "name": "ir"
  },
  "language_info": {
   "codemirror_mode": "r",
   "file_extension": ".r",
   "mimetype": "text/x-r-source",
   "name": "R",
   "pygments_lexer": "r",
   "version": "3.5.1"
  }
 },
 "nbformat": 4,
 "nbformat_minor": 2
}
