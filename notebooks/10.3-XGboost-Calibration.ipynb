{
 "cells": [
  {
   "cell_type": "code",
   "execution_count": 1,
   "metadata": {},
   "outputs": [],
   "source": [
    "import numpy as np\n",
    "import pandas as pd\n",
    "import matplotlib.pyplot as plt\n",
    "from sklearn import metrics\n",
    "import xgboost as xgb\n",
    "import pickle\n",
    "from sklearn.calibration import CalibratedClassifierCV\n",
    "from sklearn.metrics import brier_score_loss\n",
    "from sklearn.calibration import calibration_curve\n"
   ]
  },
  {
   "cell_type": "code",
   "execution_count": 2,
   "metadata": {},
   "outputs": [],
   "source": [
    "##############################################################################\n",
    "##########                DATABASE FUNCTIONS                     #############\n",
    "##############################################################################\n",
    "#### Read function to import data from the SQL to a pandas dataframe.\n",
    "def readSQL(query):\n",
    "    import pandas as pd\n",
    "    import sqlite3 as sql3\n",
    "    db = sql3.connect(DB_FILE)\n",
    "    df = pd.read_sql_query(query, db)\n",
    "    db.close()\n",
    "    return(df)\n",
    "\n",
    "#### Write a pandas dataframe into an SQL table. Use overwrite=True if you want to delete \n",
    "#### first a pre-existent table with the same name. Use append=True if you want to append\n",
    "#### the data in the dataframe to a pre-existent table.\n",
    "def writeSQL(df,tablename,overwrite=False, append=False):\n",
    "    import pandas as pd\n",
    "    import sqlite3 as sql\n",
    "    db = sql.connect(DB_FILE)\n",
    "    if (overwrite):\n",
    "        action = \"replace\"\n",
    "    elif (append):\n",
    "        action = \"append\"\n",
    "    else: \n",
    "        action = \"fail\"\n",
    "    df.to_sql(tablename, db, if_exists=action)\n",
    "    db.close()\n",
    "def listTables():\n",
    "    import sqlite3 as sql3\n",
    "    db = sql3.connect(DB_FILE)\n",
    "    cur = db.cursor()\n",
    "    cur.execute(\"SELECT name FROM sqlite_master WHERE type='table';\")\n",
    "    res = cur.fetchall()\n",
    "    cur.close()\n",
    "    db.close()\n",
    "    return(res)"
   ]
  },
  {
   "cell_type": "code",
   "execution_count": 3,
   "metadata": {},
   "outputs": [],
   "source": [
    "import os\n",
    "cwd = os.getcwd()\n",
    "DB_FILE = \"%s\\Data\\loans.db\" % cwd\n",
    "#DB_FILE = \"loans.db\"\n",
    "X_Train = readSQL('''SELECT * FROM X_train_scaled''')\n",
    "Y_Train = readSQL('''SELECT * FROM Y_train''')\n",
    "X_Train = X_Train.drop([\"index\"],axis=1)\n",
    "Y_Train = Y_Train.drop([\"index\"],axis=1)\n",
    "X_Dev = readSQL('''SELECT * FROM X_dev_scaled''')\n",
    "X_Dev = X_Dev.drop([\"index\"],axis=1)\n",
    "Y_Dev = readSQL('''SELECT * FROM Y_dev''')\n",
    "Y_Dev = Y_Dev.drop([\"index\"],axis=1)\n",
    "Y_Train = Y_Train.values.ravel()\n",
    "Y_Dev = Y_Dev.values.ravel()"
   ]
  },
  {
   "cell_type": "code",
   "execution_count": 4,
   "metadata": {},
   "outputs": [
    {
     "name": "stderr",
     "output_type": "stream",
     "text": [
      "C:\\Users\\Kobi\\Anaconda3\\lib\\site-packages\\sklearn\\base.py:251: UserWarning: Trying to unpickle estimator LogisticRegression from version 0.19.1 when using version 0.20.1. This might lead to breaking code or invalid results. Use at your own risk.\n",
      "  UserWarning)\n"
     ]
    }
   ],
   "source": [
    "filename= \"%s\\Models\\XGB_best_model.sav\" % cwd\n",
    "mod_xgb = pickle.load(open(filename, 'rb'))\n",
    "filename= \"%s\\Models\\logistic_best_model.sav\" % cwd\n",
    "mod_logistic = pickle.load(open(filename, 'rb'))"
   ]
  },
  {
   "cell_type": "code",
   "execution_count": 5,
   "metadata": {},
   "outputs": [],
   "source": [
    "pred_dev_log = mod_logistic.predict_proba(X_Dev)\n",
    "pred_dev_xgb = mod_xgb.predict_proba(X_Dev)"
   ]
  },
  {
   "cell_type": "markdown",
   "metadata": {},
   "source": [
    "In previous notebooks we have seen that xgb gives the highest AUC"
   ]
  },
  {
   "cell_type": "code",
   "execution_count": 6,
   "metadata": {},
   "outputs": [
    {
     "name": "stdout",
     "output_type": "stream",
     "text": [
      "0.6895065790533634\n",
      "0.7041575954287301\n"
     ]
    }
   ],
   "source": [
    "dev_score_log = metrics.roc_auc_score(Y_Dev, pred_dev_log[:,1])\n",
    "dev_score_xgb = metrics.roc_auc_score(Y_Dev, pred_dev_xgb[:,1])\n",
    "print(dev_score_log)\n",
    "print(dev_score_xgb)"
   ]
  },
  {
   "cell_type": "markdown",
   "metadata": {},
   "source": [
    "At the same time, it is known that while theoretically logistic regression produces a forecast that is reliable, XGB does not necessarily  produce such a forecast."
   ]
  },
  {
   "cell_type": "markdown",
   "metadata": {},
   "source": [
    "Since the purpose of our project is ultimately to predict probabilities, in order to estimate risk and not to execute a binary forecast, in this notebook we will make the forecast produced by the XGB more reliable."
   ]
  },
  {
   "cell_type": "code",
   "execution_count": 7,
   "metadata": {},
   "outputs": [],
   "source": [
    "fop_dev_log, mpv_dev_log = calibration_curve(Y_Dev, pred_dev_log[:,1], n_bins=10, normalize=True)\n",
    "fop_dev_xgb, mpv_dev_xgb = calibration_curve(Y_Dev, pred_dev_xgb[:,1], n_bins=10, normalize=True)"
   ]
  },
  {
   "cell_type": "code",
   "execution_count": 8,
   "metadata": {},
   "outputs": [
    {
     "data": {
      "image/png": "[encoded data removed]",
      "text/plain": [
       "<Figure size 432x288 with 1 Axes>"
      ]
     },
     "metadata": {},
     "output_type": "display_data"
    }
   ],
   "source": [
    "plt.plot([0, 1], [0, 1], linestyle='--')\n",
    "# plot model reliability\n",
    "plt.plot(mpv_dev_log, fop_dev_log, marker='.')\n",
    "plt.plot(mpv_dev_xgb, fop_dev_xgb, marker='*')\n",
    "plt.show()"
   ]
  },
  {
   "cell_type": "code",
   "execution_count": 10,
   "metadata": {},
   "outputs": [
    {
     "name": "stdout",
     "output_type": "stream",
     "text": [
      "0.13795208331363348\n",
      "0.1361149630695373\n"
     ]
    }
   ],
   "source": [
    "brier_score_loss_log=brier_score_loss(Y_Dev, pred_dev_log[:,1])\n",
    "brier_score_loss_xgb=brier_score_loss(Y_Dev, pred_dev_xgb[:,1])\n",
    "print(brier_score_loss_log)\n",
    "print(brier_score_loss_xgb)\n",
    "\n"
   ]
  },
  {
   "cell_type": "code",
   "execution_count": 11,
   "metadata": {},
   "outputs": [],
   "source": [
    "##sigmoid calibration\n",
    "calibrated = CalibratedClassifierCV(mod_xgb, method='sigmoid', cv=5)\n",
    "calibrated.fit(X_Train, Y_Train)\n",
    "# predict probabilities\n",
    "pred_XGB_cal_sig = calibrated.predict_proba(X_Dev)[:, 1]"
   ]
  },
  {
   "cell_type": "code",
   "execution_count": 12,
   "metadata": {},
   "outputs": [],
   "source": [
    "##Save the model\n",
    "filename= \"%s\\Models\\XGB_best_model_cal_sig.sav\" % cwd\n",
    "pickle.dump(calibrated, open( filename , 'wb'))"
   ]
  },
  {
   "cell_type": "code",
   "execution_count": 13,
   "metadata": {},
   "outputs": [],
   "source": [
    "##isotonic calibration\n",
    "calibrated = CalibratedClassifierCV(mod_xgb, method='isotonic', cv=5)\n",
    "calibrated.fit(X_Train, Y_Train)\n",
    "# predict probabilities\n",
    "pred_XGB_cal_iso = calibrated.predict_proba(X_Dev)[:, 1]"
   ]
  },
  {
   "cell_type": "code",
   "execution_count": 14,
   "metadata": {},
   "outputs": [],
   "source": [
    "##Save the model\n",
    "filename= \"%s\\Models\\XGB_best_model_cal_iso.sav\" % cwd\n",
    "pickle.dump(calibrated, open(filename, 'wb'))"
   ]
  },
  {
   "cell_type": "code",
   "execution_count": 15,
   "metadata": {},
   "outputs": [],
   "source": [
    "fop_dev_xgb_sig, mpv_dev_xgb_cal_sig = calibration_curve(Y_Dev, pred_XGB_cal_sig, n_bins=10, normalize=True)\n",
    "fop_dev_xgb_iso, mpv_dev_xgb_cal_iso = calibration_curve(Y_Dev, pred_XGB_cal_iso, n_bins=10, normalize=True)"
   ]
  },
  {
   "cell_type": "code",
   "execution_count": 16,
   "metadata": {},
   "outputs": [
    {
     "data": {
      "image/png": "[encoded data removed]",
      "text/plain": [
       "<Figure size 432x288 with 1 Axes>"
      ]
     },
     "metadata": {},
     "output_type": "display_data"
    }
   ],
   "source": [
    "plt.plot([0, 1], [0, 1], linestyle='--')\n",
    "# plot model reliability\n",
    "plt.plot(mpv_dev_xgb_cal_sig, fop_dev_xgb_sig, marker='.')\n",
    "plt.plot(mpv_dev_xgb_cal_iso, fop_dev_xgb_iso, marker='*')\n",
    "plt.plot(mpv_dev_xgb, fop_dev_xgb, marker='^')\n",
    "plt.show()"
   ]
  },
  {
   "cell_type": "code",
   "execution_count": 17,
   "metadata": {},
   "outputs": [
    {
     "name": "stdout",
     "output_type": "stream",
     "text": [
      "0.1361149630695373\n",
      "0.14222660711065233\n",
      "0.13933904717771425\n"
     ]
    }
   ],
   "source": [
    "\n",
    "brier_score_loss_sig=brier_score_loss(Y_Dev, pred_XGB_cal_sig)\n",
    "brier_score_loss_iso=brier_score_loss(Y_Dev, pred_XGB_cal_iso)\n",
    "print(brier_score_loss_xgb)\n",
    "print(brier_score_loss_sig)\n",
    "print(brier_score_loss_iso)"
   ]
  },
  {
   "cell_type": "code",
   "execution_count": 18,
   "metadata": {},
   "outputs": [
    {
     "name": "stdout",
     "output_type": "stream",
     "text": [
      "0.6997257761956649\n",
      "0.7016643540965025\n",
      "0.7041575954287301\n"
     ]
    }
   ],
   "source": [
    "dev_score_xgb_sig = metrics.roc_auc_score(Y_Dev, pred_XGB_cal_sig)\n",
    "dev_score_xgb_iso = metrics.roc_auc_score(Y_Dev, pred_XGB_cal_iso)\n",
    "print(dev_score_xgb_sig)\n",
    "print(dev_score_xgb_iso)\n",
    "print(dev_score_xgb)"
   ]
  },
  {
   "cell_type": "markdown",
   "metadata": {},
   "source": [
    "We can see that the sigmoid and the isotonic gave very similar results.\n",
    "Both models do give us less reliable results than the XGB prior to calibration, with a higher Brier score, and also showed a small decrease in AUC. Despite this decline, XGB still gave better results than the LR.\n",
    "\n",
    "Therefore we chose to use the original XGB model, prior to calibration, to be our final model.\n",
    "\n"
   ]
  },
  {
   "cell_type": "code",
   "execution_count": null,
   "metadata": {},
   "outputs": [],
   "source": []
  }
 ],
 "metadata": {
  "kernelspec": {
   "display_name": "Python 3",
   "language": "python",
   "name": "python3"
  },
  "language_info": {
   "codemirror_mode": {
    "name": "ipython",
    "version": 3
   },
   "file_extension": ".py",
   "mimetype": "text/x-python",
   "name": "python",
   "nbconvert_exporter": "python",
   "pygments_lexer": "ipython3",
   "version": "3.6.5"
  }
 },
 "nbformat": 4,
 "nbformat_minor": 2
}
