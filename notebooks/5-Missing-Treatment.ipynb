{
 "cells": [
  {
   "cell_type": "markdown",
   "metadata": {},
   "source": [
    "# Data Missingness Treatment"
   ]
  },
  {
   "cell_type": "code",
   "execution_count": 1,
   "metadata": {},
   "outputs": [
    {
     "name": "stderr",
     "output_type": "stream",
     "text": [
      "Loading required package: dplyr\n",
      "\n",
      "Attaching package: 'dplyr'\n",
      "\n",
      "The following objects are masked from 'package:stats':\n",
      "\n",
      "    filter, lag\n",
      "\n",
      "The following objects are masked from 'package:base':\n",
      "\n",
      "    intersect, setdiff, setequal, union\n",
      "\n",
      "Loading required package: ggplot2\n",
      "Loading required package: ggExtra\n",
      "Warning message:\n",
      "\"package 'ggExtra' was built under R version 3.5.2\"Loading required package: naniar\n",
      "Warning message:\n",
      "\"package 'naniar' was built under R version 3.5.2\"Loading required package: mvoutlier\n",
      "Loading required package: sgeostat\n",
      "sROC 0.1-2 loaded\n",
      "Loading required package: MissMech\n",
      "Warning message:\n",
      "\"package 'MissMech' was built under R version 3.5.2\"Loading required package: mice\n",
      "Loading required package: lattice\n",
      "\n",
      "Attaching package: 'mice'\n",
      "\n",
      "The following objects are masked from 'package:base':\n",
      "\n",
      "    cbind, rbind\n",
      "\n",
      "Loading required package: MatchIt\n",
      "Warning message:\n",
      "\"package 'MatchIt' was built under R version 3.5.2\"Loading required package: DBI\n",
      "Loading required package: RSQLite\n",
      "Loading required package: funModeling\n",
      "Warning message:\n",
      "\"package 'funModeling' was built under R version 3.5.2\"Loading required package: Hmisc\n",
      "Loading required package: survival\n",
      "Loading required package: Formula\n",
      "\n",
      "Attaching package: 'Hmisc'\n",
      "\n",
      "The following objects are masked from 'package:dplyr':\n",
      "\n",
      "    src, summarize\n",
      "\n",
      "The following objects are masked from 'package:base':\n",
      "\n",
      "    format.pval, units\n",
      "\n",
      "funModeling v.1.6.8 :)\n",
      "Examples and tutorials at livebook.datascienceheroes.com\n",
      "\n",
      "Loading required package: tidyr\n",
      "\n",
      "Attaching package: 'tidyr'\n",
      "\n",
      "The following object is masked from 'package:mice':\n",
      "\n",
      "    complete\n",
      "\n",
      "Loading required package: NbClust\n"
     ]
    }
   ],
   "source": [
    "if(!require(dplyr)) {install.packages(\"dplyr\");require(dplyr)}\n",
    "if(!require(ggplot2)) {install.packages(\"ggplot2\");require(ggplot2)}\n",
    "if(!require(ggExtra)) {install.packages(\"ggExtra\");require(ggExtra)}\n",
    "if(!require(naniar)) {install.packages(\"naniar\");require(naniar)}\n",
    "if(!require(mvoutlier)) {install.packages(\"mvoutlier\");require(mvoutlier)}\n",
    "if(!require(MissMech)) {install.packages(\"MissMech\");require(MissMech)}\n",
    "if(!require(mice)) {install.packages(\"mice\");require(mice)}\n",
    "if(!require(MatchIt)) {install.packages(\"MatchIt\");require(MatchIt)}\n",
    "if(!require(DBI)){install.packages(\"DBI\"); require(DBI)}\n",
    "if(!require(RSQLite)){install.packages(\"RSQLite\"); require(RSQLite)}\n",
    "if(!require(funModeling)){install.packages(\"funModeling\"); require(funModeling)}\n",
    "if(!require(tidyr)){install.packages(\"tidyr\"); require(tidyr)}\n",
    "if(!require(NbClust)) {install.packages(\"NbClust\");require(NbClust)}"
   ]
  },
  {
   "cell_type": "code",
   "execution_count": 2,
   "metadata": {},
   "outputs": [],
   "source": [
    "missingMatrix <- function(data) {\n",
    "    vn <- names(data)\n",
    "    missdata <- data.frame(row1=1:nrow(data))\n",
    "    for(v in vn) {\n",
    "        newn <- paste0(v,\"_na\")\n",
    "        mv <- ifelse(is.na(data[[v]]),1,0)\n",
    "        missdata[newn] <- mv\n",
    "    }\n",
    "    missdata$row1 <- NULL\n",
    "    return(missdata)\n",
    "}\n",
    "\n",
    "minmax <- function(x) {\n",
    "    return(((x-min(x,na.rm=T))/(max(x,na.rm=T)-min(x,na.rm=T))))\n",
    "}\n",
    "\n",
    "getMissingness <- function (data, getRows = FALSE) {\n",
    "    require(dplyr)\n",
    "    l <- nrow(data)\n",
    "    vn <- names(data)\n",
    "    nadf <- data\n",
    "    cnt <- NULL\n",
    "    miss <- function(x) return(sum(is.na(x)))\n",
    "    for (n in vn) {\n",
    "        nadf[[n]] <- ifelse(is.na(nadf[[n]]) == T, 1, 0)\n",
    "        cnt <- rbind(cnt, data.frame(n, sum(nadf[[n]])))\n",
    "    }\n",
    "    names(cnt) <- c(\"var\", \"na.count\")\n",
    "    cnt$rate <- round((cnt$na.count/nrow(nadf)) * 100, 1)\n",
    "    nadf$na.cnt <- 0\n",
    "    nadf$na.cnt <- rowSums(nadf)\n",
    "    cnt <- cnt %>% dplyr::arrange(desc(na.count)) %>% dplyr::filter(na.count > \n",
    "        0)\n",
    "    totmiss <- nadf %>% dplyr::filter(na.cnt == 0) %>% dplyr::tally()\n",
    "    idx <- NULL\n",
    "    msg <- (paste(\"This dataset has \", as.character(totmiss), \n",
    "        \" (\", as.character(round(totmiss/nrow(data) * 100, 1)), \n",
    "        \"%)\", \" complete rows. Original data has \", nrow(data), \n",
    "        \" rows.\", sep = \"\"))\n",
    "    if (getRows == TRUE & totmiss != 0) {\n",
    "        nadf$rn <- seq_len(nrow(data))\n",
    "        idx <- nadf %>% dplyr::filter(na.cnt == 0) %>% dplyr::select(rn)\n",
    "    }\n",
    "    print(list(head(cnt, n = 10), msg))\n",
    "    return(list(missingness = cnt, message = msg, rows = idx$rn))\n",
    "}"
   ]
  },
  {
   "cell_type": "code",
   "execution_count": 3,
   "metadata": {},
   "outputs": [],
   "source": [
    "##############################################################################\n",
    "##########                DATABASE FUNCTIONS                     #############\n",
    "##############################################################################\n",
    "            \n",
    "#### Read function to import data from the SQL to a pandas dataframe.\n",
    "readSQL <- function(query, db=DB_FILE) {\n",
    "    require(DBI)\n",
    "    require(RSQLite)\n",
    "    con <- dbConnect(SQLite(), DB_FILE)\n",
    "    df <- dbGetQuery(con, query)\n",
    "    return(df)\n",
    "}\n",
    "#### Write a pandas dataframe into an SQL table. Use overwrite=True if you want to delete \n",
    "#### first a pre-existent table with the same name. Use append=True if you want to append\n",
    "#### the data in the dataframe to a pre-existent table.\n",
    "writeSQL <- function(df,tablename,overwrite=FALSE, append=FALSE,db=DB_FILE) {\n",
    "    require(DBI)\n",
    "    require(RSQLite)\n",
    "    con <- dbConnect(SQLite(), DB_FILE)\n",
    "    dbWriteTable(con,tablename,df,overwrite,append)\n",
    "}\n",
    "####"
   ]
  },
  {
   "cell_type": "code",
   "execution_count": 4,
   "metadata": {},
   "outputs": [],
   "source": [
    "### load data\n",
    "DB_FILE = paste0(getwd(),\"/Data/loans.db\") \n",
    "loans = readSQL(\"SELECT * FROM loans_dataset_outliers\")\n"
   ]
  },
  {
   "cell_type": "code",
   "execution_count": 5,
   "metadata": {},
   "outputs": [
    {
     "data": {
      "text/html": [
       "<ol class=list-inline>\n",
       "\t<li>254794</li>\n",
       "\t<li>66</li>\n",
       "</ol>\n"
      ],
      "text/latex": [
       "\\begin{enumerate*}\n",
       "\\item 254794\n",
       "\\item 66\n",
       "\\end{enumerate*}\n"
      ],
      "text/markdown": [
       "1. 254794\n",
       "2. 66\n",
       "\n",
       "\n"
      ],
      "text/plain": [
       "[1] 254794     66"
      ]
     },
     "metadata": {},
     "output_type": "display_data"
    },
    {
     "data": {
      "text/html": [
       "<table>\n",
       "<thead><tr><th scope=col>verification_status</th><th scope=col>issue_d</th><th scope=col>pymnt_plan</th><th scope=col>purpose</th><th scope=col>initial_list_status</th><th scope=col>emp_length</th><th scope=col>loan_amnt</th><th scope=col>funded_amnt</th><th scope=col>funded_amnt_inv</th><th scope=col>term</th><th scope=col>...</th><th scope=col>annual_inc_rt</th><th scope=col>inc_grp</th><th scope=col>revol_bal_rt</th><th scope=col>credit_hist_log</th><th scope=col>credit_hist_rt</th><th scope=col>credit_hist_grp</th><th scope=col>max_L</th><th scope=col>max_fund_L</th><th scope=col>MAX_fund_L_inv</th><th scope=col>is_acc_now_delinq_not_zero</th></tr></thead>\n",
       "<tbody>\n",
       "\t<tr><td>Not Verified      </td><td>2007-10-01        </td><td>0                 </td><td>debt_consolidation</td><td>1                 </td><td>2 years           </td><td>10000             </td><td>10000             </td><td>2175.000          </td><td>0                 </td><td>...               </td><td>190.7878          </td><td>verylow_inc       </td><td> 95.73923         </td><td>2.397895          </td><td>3.316625          </td><td>4-13_yrs          </td><td>0                 </td><td>0                 </td><td>0                 </td><td>0                 </td></tr>\n",
       "\t<tr><td>Not Verified      </td><td>2007-12-01        </td><td>0                 </td><td>credit_card       </td><td>1                 </td><td>1 year            </td><td> 5400             </td><td> 5400             </td><td> 375.000          </td><td>0                 </td><td>...               </td><td>204.9390          </td><td>verylow_inc       </td><td>195.07434         </td><td>2.079442          </td><td>2.828427          </td><td>4-13_yrs          </td><td>0                 </td><td>0                 </td><td>0                 </td><td>0                 </td></tr>\n",
       "\t<tr><td>Not Verified      </td><td>2007-11-01        </td><td>0                 </td><td>debt_consolidation</td><td>1                 </td><td>2 years           </td><td> 1500             </td><td> 1500             </td><td> 583.050          </td><td>0                 </td><td>...               </td><td>124.9000          </td><td>verylow_inc       </td><td> 79.44810         </td><td>1.945910          </td><td>2.645751          </td><td>4-13_yrs          </td><td>0                 </td><td>0                 </td><td>0                 </td><td>0                 </td></tr>\n",
       "\t<tr><td>Not Verified      </td><td>2007-12-01        </td><td>0                 </td><td>home_improvement  </td><td>1                 </td><td>6 years           </td><td> 4800             </td><td> 4800             </td><td>1550.000          </td><td>0                 </td><td>...               </td><td>244.9490          </td><td>low_inc           </td><td> 53.12250         </td><td>2.397895          </td><td>3.316625          </td><td>4-13_yrs          </td><td>0                 </td><td>0                 </td><td>0                 </td><td>0                 </td></tr>\n",
       "\t<tr><td>Not Verified      </td><td>2007-10-01        </td><td>0                 </td><td>debt_consolidation</td><td>1                 </td><td>&lt; 1 year       </td><td> 4800             </td><td> 4800             </td><td>1625.000          </td><td>0                 </td><td>...               </td><td>158.1139          </td><td>verylow_inc       </td><td> 20.22375         </td><td>2.302585          </td><td>3.162278          </td><td>4-13_yrs          </td><td>0                 </td><td>0                 </td><td>0                 </td><td>0                 </td></tr>\n",
       "\t<tr><td>Not Verified      </td><td>2007-10-01        </td><td>0                 </td><td>other             </td><td>1                 </td><td>1 year            </td><td> 4200             </td><td> 4200             </td><td>1125.002          </td><td>0                 </td><td>...               </td><td>154.9193          </td><td>verylow_inc       </td><td>  0.00000         </td><td>2.708050          </td><td>3.872983          </td><td>13-17_yrs         </td><td>0                 </td><td>0                 </td><td>0                 </td><td>0                 </td></tr>\n",
       "</tbody>\n",
       "</table>\n"
      ],
      "text/latex": [
       "\\begin{tabular}{r|llllllllllllllllllllllllllllllllllllllllllllllllllllllllllllllllll}\n",
       " verification\\_status & issue\\_d & pymnt\\_plan & purpose & initial\\_list\\_status & emp\\_length & loan\\_amnt & funded\\_amnt & funded\\_amnt\\_inv & term & ... & annual\\_inc\\_rt & inc\\_grp & revol\\_bal\\_rt & credit\\_hist\\_log & credit\\_hist\\_rt & credit\\_hist\\_grp & max\\_L & max\\_fund\\_L & MAX\\_fund\\_L\\_inv & is\\_acc\\_now\\_delinq\\_not\\_zero\\\\\n",
       "\\hline\n",
       "\t Not Verified         & 2007-10-01           & 0                    & debt\\_consolidation & 1                    & 2 years              & 10000                & 10000                & 2175.000             & 0                    & ...                  & 190.7878             & verylow\\_inc        &  95.73923            & 2.397895             & 3.316625             & 4-13\\_yrs           & 0                    & 0                    & 0                    & 0                   \\\\\n",
       "\t Not Verified         & 2007-12-01           & 0                    & credit\\_card        & 1                    & 1 year               &  5400                &  5400                &  375.000             & 0                    & ...                  & 204.9390             & verylow\\_inc        & 195.07434            & 2.079442             & 2.828427             & 4-13\\_yrs           & 0                    & 0                    & 0                    & 0                   \\\\\n",
       "\t Not Verified         & 2007-11-01           & 0                    & debt\\_consolidation & 1                    & 2 years              &  1500                &  1500                &  583.050             & 0                    & ...                  & 124.9000             & verylow\\_inc        &  79.44810            & 1.945910             & 2.645751             & 4-13\\_yrs           & 0                    & 0                    & 0                    & 0                   \\\\\n",
       "\t Not Verified         & 2007-12-01           & 0                    & home\\_improvement   & 1                    & 6 years              &  4800                &  4800                & 1550.000             & 0                    & ...                  & 244.9490             & low\\_inc            &  53.12250            & 2.397895             & 3.316625             & 4-13\\_yrs           & 0                    & 0                    & 0                    & 0                   \\\\\n",
       "\t Not Verified         & 2007-10-01           & 0                    & debt\\_consolidation & 1                    & < 1 year             &  4800                &  4800                & 1625.000             & 0                    & ...                  & 158.1139             & verylow\\_inc        &  20.22375            & 2.302585             & 3.162278             & 4-13\\_yrs           & 0                    & 0                    & 0                    & 0                   \\\\\n",
       "\t Not Verified       & 2007-10-01         & 0                  & other              & 1                  & 1 year             &  4200              &  4200              & 1125.002           & 0                  & ...                & 154.9193           & verylow\\_inc      &   0.00000          & 2.708050           & 3.872983           & 13-17\\_yrs        & 0                  & 0                  & 0                  & 0                 \\\\\n",
       "\\end{tabular}\n"
      ],
      "text/markdown": [
       "\n",
       "verification_status | issue_d | pymnt_plan | purpose | initial_list_status | emp_length | loan_amnt | funded_amnt | funded_amnt_inv | term | ... | annual_inc_rt | inc_grp | revol_bal_rt | credit_hist_log | credit_hist_rt | credit_hist_grp | max_L | max_fund_L | MAX_fund_L_inv | is_acc_now_delinq_not_zero | \n",
       "|---|---|---|---|---|---|\n",
       "| Not Verified       | 2007-10-01         | 0                  | debt_consolidation | 1                  | 2 years            | 10000              | 10000              | 2175.000           | 0                  | ...                | 190.7878           | verylow_inc        |  95.73923          | 2.397895           | 3.316625           | 4-13_yrs           | 0                  | 0                  | 0                  | 0                  | \n",
       "| Not Verified       | 2007-12-01         | 0                  | credit_card        | 1                  | 1 year             |  5400              |  5400              |  375.000           | 0                  | ...                | 204.9390           | verylow_inc        | 195.07434          | 2.079442           | 2.828427           | 4-13_yrs           | 0                  | 0                  | 0                  | 0                  | \n",
       "| Not Verified       | 2007-11-01         | 0                  | debt_consolidation | 1                  | 2 years            |  1500              |  1500              |  583.050           | 0                  | ...                | 124.9000           | verylow_inc        |  79.44810          | 1.945910           | 2.645751           | 4-13_yrs           | 0                  | 0                  | 0                  | 0                  | \n",
       "| Not Verified       | 2007-12-01         | 0                  | home_improvement   | 1                  | 6 years            |  4800              |  4800              | 1550.000           | 0                  | ...                | 244.9490           | low_inc            |  53.12250          | 2.397895           | 3.316625           | 4-13_yrs           | 0                  | 0                  | 0                  | 0                  | \n",
       "| Not Verified       | 2007-10-01         | 0                  | debt_consolidation | 1                  | < 1 year           |  4800              |  4800              | 1625.000           | 0                  | ...                | 158.1139           | verylow_inc        |  20.22375          | 2.302585           | 3.162278           | 4-13_yrs           | 0                  | 0                  | 0                  | 0                  | \n",
       "| Not Verified       | 2007-10-01         | 0                  | other              | 1                  | 1 year             |  4200              |  4200              | 1125.002           | 0                  | ...                | 154.9193           | verylow_inc        |   0.00000          | 2.708050           | 3.872983           | 13-17_yrs          | 0                  | 0                  | 0                  | 0                  | \n",
       "\n",
       "\n"
      ],
      "text/plain": [
       "  verification_status issue_d    pymnt_plan purpose           \n",
       "1 Not Verified        2007-10-01 0          debt_consolidation\n",
       "2 Not Verified        2007-12-01 0          credit_card       \n",
       "3 Not Verified        2007-11-01 0          debt_consolidation\n",
       "4 Not Verified        2007-12-01 0          home_improvement  \n",
       "5 Not Verified        2007-10-01 0          debt_consolidation\n",
       "6 Not Verified        2007-10-01 0          other             \n",
       "  initial_list_status emp_length loan_amnt funded_amnt funded_amnt_inv term ...\n",
       "1 1                   2 years    10000     10000       2175.000        0    ...\n",
       "2 1                   1 year      5400      5400        375.000        0    ...\n",
       "3 1                   2 years     1500      1500        583.050        0    ...\n",
       "4 1                   6 years     4800      4800       1550.000        0    ...\n",
       "5 1                   < 1 year    4800      4800       1625.000        0    ...\n",
       "6 1                   1 year      4200      4200       1125.002        0    ...\n",
       "  annual_inc_rt inc_grp     revol_bal_rt credit_hist_log credit_hist_rt\n",
       "1 190.7878      verylow_inc  95.73923    2.397895        3.316625      \n",
       "2 204.9390      verylow_inc 195.07434    2.079442        2.828427      \n",
       "3 124.9000      verylow_inc  79.44810    1.945910        2.645751      \n",
       "4 244.9490      low_inc      53.12250    2.397895        3.316625      \n",
       "5 158.1139      verylow_inc  20.22375    2.302585        3.162278      \n",
       "6 154.9193      verylow_inc   0.00000    2.708050        3.872983      \n",
       "  credit_hist_grp max_L max_fund_L MAX_fund_L_inv is_acc_now_delinq_not_zero\n",
       "1 4-13_yrs        0     0          0              0                         \n",
       "2 4-13_yrs        0     0          0              0                         \n",
       "3 4-13_yrs        0     0          0              0                         \n",
       "4 4-13_yrs        0     0          0              0                         \n",
       "5 4-13_yrs        0     0          0              0                         \n",
       "6 13-17_yrs       0     0          0              0                         "
      ]
     },
     "metadata": {},
     "output_type": "display_data"
    }
   ],
   "source": [
    "dim(loans)\n",
    "head(loans)"
   ]
  },
  {
   "cell_type": "code",
   "execution_count": 6,
   "metadata": {},
   "outputs": [],
   "source": [
    "copy1<-loans"
   ]
  },
  {
   "cell_type": "code",
   "execution_count": 7,
   "metadata": {},
   "outputs": [
    {
     "data": {
      "text/html": [
       "<dl>\n",
       "\t<dt>$character</dt>\n",
       "\t\t<dd><ol class=list-inline>\n",
       "\t<li>'verification_status'</li>\n",
       "\t<li>'issue_d'</li>\n",
       "\t<li>'pymnt_plan'</li>\n",
       "\t<li>'purpose'</li>\n",
       "\t<li>'initial_list_status'</li>\n",
       "\t<li>'emp_length'</li>\n",
       "\t<li>'term'</li>\n",
       "\t<li>'home_ownership'</li>\n",
       "\t<li>'default'</li>\n",
       "\t<li>'full_state'</li>\n",
       "\t<li>'cat_delinq_2yrs'</li>\n",
       "\t<li>'cat_inq_last_6mths'</li>\n",
       "\t<li>'cat_collections_12_mths_ex_med'</li>\n",
       "\t<li>'cat_pub_rec'</li>\n",
       "\t<li>'inc_grp'</li>\n",
       "\t<li>'credit_hist_grp'</li>\n",
       "</ol>\n",
       "</dd>\n",
       "\t<dt>$integer</dt>\n",
       "\t\t<dd><ol class=list-inline>\n",
       "\t<li>'loan_amnt'</li>\n",
       "\t<li>'funded_amnt'</li>\n",
       "\t<li>'collections_12_mths_ex_med'</li>\n",
       "\t<li>'mths_since_last_major_derog'</li>\n",
       "\t<li>'delinq_2yrs'</li>\n",
       "\t<li>'acc_now_delinq'</li>\n",
       "\t<li>'inq_last_6mths'</li>\n",
       "\t<li>'mths_since_last_delinq'</li>\n",
       "\t<li>'mths_since_last_record'</li>\n",
       "\t<li>'open_acc'</li>\n",
       "\t<li>'pub_rec'</li>\n",
       "\t<li>'total_acc'</li>\n",
       "\t<li>'tot_coll_amt'</li>\n",
       "\t<li>'open_acc_6m'</li>\n",
       "\t<li>'open_il_6m'</li>\n",
       "\t<li>'open_il_12m'</li>\n",
       "\t<li>'open_il_24m'</li>\n",
       "\t<li>'mths_since_rcnt_il'</li>\n",
       "\t<li>'total_bal_il'</li>\n",
       "\t<li>'open_rv_12m'</li>\n",
       "\t<li>'open_rv_24m'</li>\n",
       "\t<li>'max_bal_bc'</li>\n",
       "\t<li>'inq_fi'</li>\n",
       "\t<li>'total_cu_tl'</li>\n",
       "\t<li>'inq_last_12m'</li>\n",
       "\t<li>'credit_hist'</li>\n",
       "</ol>\n",
       "</dd>\n",
       "\t<dt>$numeric</dt>\n",
       "\t\t<dd><ol class=list-inline>\n",
       "\t<li>'funded_amnt_inv'</li>\n",
       "\t<li>'annual_inc'</li>\n",
       "\t<li>'dti'</li>\n",
       "\t<li>'revol_bal'</li>\n",
       "\t<li>'revol_util'</li>\n",
       "\t<li>'tot_cur_bal'</li>\n",
       "\t<li>'il_util'</li>\n",
       "\t<li>'all_util'</li>\n",
       "\t<li>'total_rev_hi_lim'</li>\n",
       "\t<li>'loan_installment'</li>\n",
       "\t<li>'acc_ratio'</li>\n",
       "\t<li>'poverty_rate_p'</li>\n",
       "\t<li>'mths_since_last_delinq_rt'</li>\n",
       "\t<li>'open_acc_rt'</li>\n",
       "\t<li>'total_acc_rt'</li>\n",
       "\t<li>'annual_inc_log'</li>\n",
       "\t<li>'annual_inc_rt'</li>\n",
       "\t<li>'revol_bal_rt'</li>\n",
       "\t<li>'credit_hist_log'</li>\n",
       "\t<li>'credit_hist_rt'</li>\n",
       "\t<li>'max_L'</li>\n",
       "\t<li>'max_fund_L'</li>\n",
       "\t<li>'MAX_fund_L_inv'</li>\n",
       "\t<li>'is_acc_now_delinq_not_zero'</li>\n",
       "</ol>\n",
       "</dd>\n",
       "</dl>\n"
      ],
      "text/latex": [
       "\\begin{description}\n",
       "\\item[\\$character] \\begin{enumerate*}\n",
       "\\item 'verification\\_status'\n",
       "\\item 'issue\\_d'\n",
       "\\item 'pymnt\\_plan'\n",
       "\\item 'purpose'\n",
       "\\item 'initial\\_list\\_status'\n",
       "\\item 'emp\\_length'\n",
       "\\item 'term'\n",
       "\\item 'home\\_ownership'\n",
       "\\item 'default'\n",
       "\\item 'full\\_state'\n",
       "\\item 'cat\\_delinq\\_2yrs'\n",
       "\\item 'cat\\_inq\\_last\\_6mths'\n",
       "\\item 'cat\\_collections\\_12\\_mths\\_ex\\_med'\n",
       "\\item 'cat\\_pub\\_rec'\n",
       "\\item 'inc\\_grp'\n",
       "\\item 'credit\\_hist\\_grp'\n",
       "\\end{enumerate*}\n",
       "\n",
       "\\item[\\$integer] \\begin{enumerate*}\n",
       "\\item 'loan\\_amnt'\n",
       "\\item 'funded\\_amnt'\n",
       "\\item 'collections\\_12\\_mths\\_ex\\_med'\n",
       "\\item 'mths\\_since\\_last\\_major\\_derog'\n",
       "\\item 'delinq\\_2yrs'\n",
       "\\item 'acc\\_now\\_delinq'\n",
       "\\item 'inq\\_last\\_6mths'\n",
       "\\item 'mths\\_since\\_last\\_delinq'\n",
       "\\item 'mths\\_since\\_last\\_record'\n",
       "\\item 'open\\_acc'\n",
       "\\item 'pub\\_rec'\n",
       "\\item 'total\\_acc'\n",
       "\\item 'tot\\_coll\\_amt'\n",
       "\\item 'open\\_acc\\_6m'\n",
       "\\item 'open\\_il\\_6m'\n",
       "\\item 'open\\_il\\_12m'\n",
       "\\item 'open\\_il\\_24m'\n",
       "\\item 'mths\\_since\\_rcnt\\_il'\n",
       "\\item 'total\\_bal\\_il'\n",
       "\\item 'open\\_rv\\_12m'\n",
       "\\item 'open\\_rv\\_24m'\n",
       "\\item 'max\\_bal\\_bc'\n",
       "\\item 'inq\\_fi'\n",
       "\\item 'total\\_cu\\_tl'\n",
       "\\item 'inq\\_last\\_12m'\n",
       "\\item 'credit\\_hist'\n",
       "\\end{enumerate*}\n",
       "\n",
       "\\item[\\$numeric] \\begin{enumerate*}\n",
       "\\item 'funded\\_amnt\\_inv'\n",
       "\\item 'annual\\_inc'\n",
       "\\item 'dti'\n",
       "\\item 'revol\\_bal'\n",
       "\\item 'revol\\_util'\n",
       "\\item 'tot\\_cur\\_bal'\n",
       "\\item 'il\\_util'\n",
       "\\item 'all\\_util'\n",
       "\\item 'total\\_rev\\_hi\\_lim'\n",
       "\\item 'loan\\_installment'\n",
       "\\item 'acc\\_ratio'\n",
       "\\item 'poverty\\_rate\\_p'\n",
       "\\item 'mths\\_since\\_last\\_delinq\\_rt'\n",
       "\\item 'open\\_acc\\_rt'\n",
       "\\item 'total\\_acc\\_rt'\n",
       "\\item 'annual\\_inc\\_log'\n",
       "\\item 'annual\\_inc\\_rt'\n",
       "\\item 'revol\\_bal\\_rt'\n",
       "\\item 'credit\\_hist\\_log'\n",
       "\\item 'credit\\_hist\\_rt'\n",
       "\\item 'max\\_L'\n",
       "\\item 'max\\_fund\\_L'\n",
       "\\item 'MAX\\_fund\\_L\\_inv'\n",
       "\\item 'is\\_acc\\_now\\_delinq\\_not\\_zero'\n",
       "\\end{enumerate*}\n",
       "\n",
       "\\end{description}\n"
      ],
      "text/markdown": [
       "$character\n",
       ":   1. 'verification_status'\n",
       "2. 'issue_d'\n",
       "3. 'pymnt_plan'\n",
       "4. 'purpose'\n",
       "5. 'initial_list_status'\n",
       "6. 'emp_length'\n",
       "7. 'term'\n",
       "8. 'home_ownership'\n",
       "9. 'default'\n",
       "10. 'full_state'\n",
       "11. 'cat_delinq_2yrs'\n",
       "12. 'cat_inq_last_6mths'\n",
       "13. 'cat_collections_12_mths_ex_med'\n",
       "14. 'cat_pub_rec'\n",
       "15. 'inc_grp'\n",
       "16. 'credit_hist_grp'\n",
       "\n",
       "\n",
       "\n",
       "$integer\n",
       ":   1. 'loan_amnt'\n",
       "2. 'funded_amnt'\n",
       "3. 'collections_12_mths_ex_med'\n",
       "4. 'mths_since_last_major_derog'\n",
       "5. 'delinq_2yrs'\n",
       "6. 'acc_now_delinq'\n",
       "7. 'inq_last_6mths'\n",
       "8. 'mths_since_last_delinq'\n",
       "9. 'mths_since_last_record'\n",
       "10. 'open_acc'\n",
       "11. 'pub_rec'\n",
       "12. 'total_acc'\n",
       "13. 'tot_coll_amt'\n",
       "14. 'open_acc_6m'\n",
       "15. 'open_il_6m'\n",
       "16. 'open_il_12m'\n",
       "17. 'open_il_24m'\n",
       "18. 'mths_since_rcnt_il'\n",
       "19. 'total_bal_il'\n",
       "20. 'open_rv_12m'\n",
       "21. 'open_rv_24m'\n",
       "22. 'max_bal_bc'\n",
       "23. 'inq_fi'\n",
       "24. 'total_cu_tl'\n",
       "25. 'inq_last_12m'\n",
       "26. 'credit_hist'\n",
       "\n",
       "\n",
       "\n",
       "$numeric\n",
       ":   1. 'funded_amnt_inv'\n",
       "2. 'annual_inc'\n",
       "3. 'dti'\n",
       "4. 'revol_bal'\n",
       "5. 'revol_util'\n",
       "6. 'tot_cur_bal'\n",
       "7. 'il_util'\n",
       "8. 'all_util'\n",
       "9. 'total_rev_hi_lim'\n",
       "10. 'loan_installment'\n",
       "11. 'acc_ratio'\n",
       "12. 'poverty_rate_p'\n",
       "13. 'mths_since_last_delinq_rt'\n",
       "14. 'open_acc_rt'\n",
       "15. 'total_acc_rt'\n",
       "16. 'annual_inc_log'\n",
       "17. 'annual_inc_rt'\n",
       "18. 'revol_bal_rt'\n",
       "19. 'credit_hist_log'\n",
       "20. 'credit_hist_rt'\n",
       "21. 'max_L'\n",
       "22. 'max_fund_L'\n",
       "23. 'MAX_fund_L_inv'\n",
       "24. 'is_acc_now_delinq_not_zero'\n",
       "\n",
       "\n",
       "\n",
       "\n",
       "\n"
      ],
      "text/plain": [
       "$character\n",
       " [1] \"verification_status\"            \"issue_d\"                       \n",
       " [3] \"pymnt_plan\"                     \"purpose\"                       \n",
       " [5] \"initial_list_status\"            \"emp_length\"                    \n",
       " [7] \"term\"                           \"home_ownership\"                \n",
       " [9] \"default\"                        \"full_state\"                    \n",
       "[11] \"cat_delinq_2yrs\"                \"cat_inq_last_6mths\"            \n",
       "[13] \"cat_collections_12_mths_ex_med\" \"cat_pub_rec\"                   \n",
       "[15] \"inc_grp\"                        \"credit_hist_grp\"               \n",
       "\n",
       "$integer\n",
       " [1] \"loan_amnt\"                   \"funded_amnt\"                \n",
       " [3] \"collections_12_mths_ex_med\"  \"mths_since_last_major_derog\"\n",
       " [5] \"delinq_2yrs\"                 \"acc_now_delinq\"             \n",
       " [7] \"inq_last_6mths\"              \"mths_since_last_delinq\"     \n",
       " [9] \"mths_since_last_record\"      \"open_acc\"                   \n",
       "[11] \"pub_rec\"                     \"total_acc\"                  \n",
       "[13] \"tot_coll_amt\"                \"open_acc_6m\"                \n",
       "[15] \"open_il_6m\"                  \"open_il_12m\"                \n",
       "[17] \"open_il_24m\"                 \"mths_since_rcnt_il\"         \n",
       "[19] \"total_bal_il\"                \"open_rv_12m\"                \n",
       "[21] \"open_rv_24m\"                 \"max_bal_bc\"                 \n",
       "[23] \"inq_fi\"                      \"total_cu_tl\"                \n",
       "[25] \"inq_last_12m\"                \"credit_hist\"                \n",
       "\n",
       "$numeric\n",
       " [1] \"funded_amnt_inv\"            \"annual_inc\"                \n",
       " [3] \"dti\"                        \"revol_bal\"                 \n",
       " [5] \"revol_util\"                 \"tot_cur_bal\"               \n",
       " [7] \"il_util\"                    \"all_util\"                  \n",
       " [9] \"total_rev_hi_lim\"           \"loan_installment\"          \n",
       "[11] \"acc_ratio\"                  \"poverty_rate_p\"            \n",
       "[13] \"mths_since_last_delinq_rt\"  \"open_acc_rt\"               \n",
       "[15] \"total_acc_rt\"               \"annual_inc_log\"            \n",
       "[17] \"annual_inc_rt\"              \"revol_bal_rt\"              \n",
       "[19] \"credit_hist_log\"            \"credit_hist_rt\"            \n",
       "[21] \"max_L\"                      \"max_fund_L\"                \n",
       "[23] \"MAX_fund_L_inv\"             \"is_acc_now_delinq_not_zero\"\n"
      ]
     },
     "metadata": {},
     "output_type": "display_data"
    }
   ],
   "source": [
    "split(names(loans),sapply(loans, function(x) paste(class(x), collapse=\" \")))"
   ]
  },
  {
   "cell_type": "code",
   "execution_count": 8,
   "metadata": {},
   "outputs": [],
   "source": [
    "loans$verification_status <-as.numeric(as.factor(loans$verification_status))\n",
    "loans$purpose <-as.numeric(as.factor(loans$purpose))\n",
    "loans$emp_length <-as.numeric(as.factor(loans$emp_length))\n",
    "loans$home_ownership <-as.numeric(as.factor(loans$home_ownership))\n",
    "loans$term <-as.factor(loans$term)\n",
    "loans$pymnt_plan <-as.factor(loans$pymnt_plan)\n",
    "loans$initial_list_status <-as.factor(loans$initial_list_status)\n",
    "loans$full_state <-as.numeric(as.factor(loans$full_state))\n",
    "loans$issue_d <- as.Date(loans$issue_d)\n",
    "loans$default <- factor(loans$default)\n",
    "loans$cat_delinq_2yrs <-as.numeric(as.factor(loans$cat_delinq_2yrs))\n",
    "loans$cat_inq_last_6mths <-as.numeric(as.factor(loans$cat_inq_last_6mths))\n",
    "loans$cat_collections_12_mths_ex_med <-as.numeric(as.factor(loans$cat_collections_12_mths_ex_med))\n",
    "loans$cat_pub_rec <-as.numeric(as.factor(loans$cat_pub_rec))\n",
    "loans$inc_grp <-as.numeric(as.factor(loans$inc_grp))\n",
    "loans$credit_hist_grp <-as.numeric(as.factor(loans$credit_hist_grp))"
   ]
  },
  {
   "cell_type": "code",
   "execution_count": 9,
   "metadata": {},
   "outputs": [
    {
     "data": {
      "text/html": [
       "<ol class=list-inline>\n",
       "\t<li>'verification_status'</li>\n",
       "\t<li>'purpose'</li>\n",
       "\t<li>'emp_length'</li>\n",
       "\t<li>'loan_amnt'</li>\n",
       "\t<li>'funded_amnt'</li>\n",
       "\t<li>'funded_amnt_inv'</li>\n",
       "\t<li>'collections_12_mths_ex_med'</li>\n",
       "\t<li>'mths_since_last_major_derog'</li>\n",
       "\t<li>'home_ownership'</li>\n",
       "\t<li>'annual_inc'</li>\n",
       "\t<li>'dti'</li>\n",
       "\t<li>'delinq_2yrs'</li>\n",
       "\t<li>'acc_now_delinq'</li>\n",
       "\t<li>'inq_last_6mths'</li>\n",
       "\t<li>'mths_since_last_delinq'</li>\n",
       "\t<li>'mths_since_last_record'</li>\n",
       "\t<li>'open_acc'</li>\n",
       "\t<li>'pub_rec'</li>\n",
       "\t<li>'revol_bal'</li>\n",
       "\t<li>'revol_util'</li>\n",
       "\t<li>'total_acc'</li>\n",
       "\t<li>'tot_coll_amt'</li>\n",
       "\t<li>'tot_cur_bal'</li>\n",
       "\t<li>'open_acc_6m'</li>\n",
       "\t<li>'open_il_6m'</li>\n",
       "\t<li>'open_il_12m'</li>\n",
       "\t<li>'open_il_24m'</li>\n",
       "\t<li>'mths_since_rcnt_il'</li>\n",
       "\t<li>'total_bal_il'</li>\n",
       "\t<li>'il_util'</li>\n",
       "\t<li>'open_rv_12m'</li>\n",
       "\t<li>'open_rv_24m'</li>\n",
       "\t<li>'max_bal_bc'</li>\n",
       "\t<li>'all_util'</li>\n",
       "\t<li>'total_rev_hi_lim'</li>\n",
       "\t<li>'inq_fi'</li>\n",
       "\t<li>'total_cu_tl'</li>\n",
       "\t<li>'inq_last_12m'</li>\n",
       "\t<li>'loan_installment'</li>\n",
       "\t<li>'full_state'</li>\n",
       "\t<li>'acc_ratio'</li>\n",
       "\t<li>'credit_hist'</li>\n",
       "\t<li>'poverty_rate_p'</li>\n",
       "\t<li>'cat_delinq_2yrs'</li>\n",
       "\t<li>'cat_inq_last_6mths'</li>\n",
       "\t<li>'cat_collections_12_mths_ex_med'</li>\n",
       "\t<li>'cat_pub_rec'</li>\n",
       "\t<li>'mths_since_last_delinq_rt'</li>\n",
       "\t<li>'open_acc_rt'</li>\n",
       "\t<li>'total_acc_rt'</li>\n",
       "\t<li>'annual_inc_log'</li>\n",
       "\t<li>'annual_inc_rt'</li>\n",
       "\t<li>'inc_grp'</li>\n",
       "\t<li>'revol_bal_rt'</li>\n",
       "\t<li>'credit_hist_log'</li>\n",
       "\t<li>'credit_hist_rt'</li>\n",
       "\t<li>'credit_hist_grp'</li>\n",
       "\t<li>'max_L'</li>\n",
       "\t<li>'max_fund_L'</li>\n",
       "\t<li>'MAX_fund_L_inv'</li>\n",
       "\t<li>'is_acc_now_delinq_not_zero'</li>\n",
       "</ol>\n"
      ],
      "text/latex": [
       "\\begin{enumerate*}\n",
       "\\item 'verification\\_status'\n",
       "\\item 'purpose'\n",
       "\\item 'emp\\_length'\n",
       "\\item 'loan\\_amnt'\n",
       "\\item 'funded\\_amnt'\n",
       "\\item 'funded\\_amnt\\_inv'\n",
       "\\item 'collections\\_12\\_mths\\_ex\\_med'\n",
       "\\item 'mths\\_since\\_last\\_major\\_derog'\n",
       "\\item 'home\\_ownership'\n",
       "\\item 'annual\\_inc'\n",
       "\\item 'dti'\n",
       "\\item 'delinq\\_2yrs'\n",
       "\\item 'acc\\_now\\_delinq'\n",
       "\\item 'inq\\_last\\_6mths'\n",
       "\\item 'mths\\_since\\_last\\_delinq'\n",
       "\\item 'mths\\_since\\_last\\_record'\n",
       "\\item 'open\\_acc'\n",
       "\\item 'pub\\_rec'\n",
       "\\item 'revol\\_bal'\n",
       "\\item 'revol\\_util'\n",
       "\\item 'total\\_acc'\n",
       "\\item 'tot\\_coll\\_amt'\n",
       "\\item 'tot\\_cur\\_bal'\n",
       "\\item 'open\\_acc\\_6m'\n",
       "\\item 'open\\_il\\_6m'\n",
       "\\item 'open\\_il\\_12m'\n",
       "\\item 'open\\_il\\_24m'\n",
       "\\item 'mths\\_since\\_rcnt\\_il'\n",
       "\\item 'total\\_bal\\_il'\n",
       "\\item 'il\\_util'\n",
       "\\item 'open\\_rv\\_12m'\n",
       "\\item 'open\\_rv\\_24m'\n",
       "\\item 'max\\_bal\\_bc'\n",
       "\\item 'all\\_util'\n",
       "\\item 'total\\_rev\\_hi\\_lim'\n",
       "\\item 'inq\\_fi'\n",
       "\\item 'total\\_cu\\_tl'\n",
       "\\item 'inq\\_last\\_12m'\n",
       "\\item 'loan\\_installment'\n",
       "\\item 'full\\_state'\n",
       "\\item 'acc\\_ratio'\n",
       "\\item 'credit\\_hist'\n",
       "\\item 'poverty\\_rate\\_p'\n",
       "\\item 'cat\\_delinq\\_2yrs'\n",
       "\\item 'cat\\_inq\\_last\\_6mths'\n",
       "\\item 'cat\\_collections\\_12\\_mths\\_ex\\_med'\n",
       "\\item 'cat\\_pub\\_rec'\n",
       "\\item 'mths\\_since\\_last\\_delinq\\_rt'\n",
       "\\item 'open\\_acc\\_rt'\n",
       "\\item 'total\\_acc\\_rt'\n",
       "\\item 'annual\\_inc\\_log'\n",
       "\\item 'annual\\_inc\\_rt'\n",
       "\\item 'inc\\_grp'\n",
       "\\item 'revol\\_bal\\_rt'\n",
       "\\item 'credit\\_hist\\_log'\n",
       "\\item 'credit\\_hist\\_rt'\n",
       "\\item 'credit\\_hist\\_grp'\n",
       "\\item 'max\\_L'\n",
       "\\item 'max\\_fund\\_L'\n",
       "\\item 'MAX\\_fund\\_L\\_inv'\n",
       "\\item 'is\\_acc\\_now\\_delinq\\_not\\_zero'\n",
       "\\end{enumerate*}\n"
      ],
      "text/markdown": [
       "1. 'verification_status'\n",
       "2. 'purpose'\n",
       "3. 'emp_length'\n",
       "4. 'loan_amnt'\n",
       "5. 'funded_amnt'\n",
       "6. 'funded_amnt_inv'\n",
       "7. 'collections_12_mths_ex_med'\n",
       "8. 'mths_since_last_major_derog'\n",
       "9. 'home_ownership'\n",
       "10. 'annual_inc'\n",
       "11. 'dti'\n",
       "12. 'delinq_2yrs'\n",
       "13. 'acc_now_delinq'\n",
       "14. 'inq_last_6mths'\n",
       "15. 'mths_since_last_delinq'\n",
       "16. 'mths_since_last_record'\n",
       "17. 'open_acc'\n",
       "18. 'pub_rec'\n",
       "19. 'revol_bal'\n",
       "20. 'revol_util'\n",
       "21. 'total_acc'\n",
       "22. 'tot_coll_amt'\n",
       "23. 'tot_cur_bal'\n",
       "24. 'open_acc_6m'\n",
       "25. 'open_il_6m'\n",
       "26. 'open_il_12m'\n",
       "27. 'open_il_24m'\n",
       "28. 'mths_since_rcnt_il'\n",
       "29. 'total_bal_il'\n",
       "30. 'il_util'\n",
       "31. 'open_rv_12m'\n",
       "32. 'open_rv_24m'\n",
       "33. 'max_bal_bc'\n",
       "34. 'all_util'\n",
       "35. 'total_rev_hi_lim'\n",
       "36. 'inq_fi'\n",
       "37. 'total_cu_tl'\n",
       "38. 'inq_last_12m'\n",
       "39. 'loan_installment'\n",
       "40. 'full_state'\n",
       "41. 'acc_ratio'\n",
       "42. 'credit_hist'\n",
       "43. 'poverty_rate_p'\n",
       "44. 'cat_delinq_2yrs'\n",
       "45. 'cat_inq_last_6mths'\n",
       "46. 'cat_collections_12_mths_ex_med'\n",
       "47. 'cat_pub_rec'\n",
       "48. 'mths_since_last_delinq_rt'\n",
       "49. 'open_acc_rt'\n",
       "50. 'total_acc_rt'\n",
       "51. 'annual_inc_log'\n",
       "52. 'annual_inc_rt'\n",
       "53. 'inc_grp'\n",
       "54. 'revol_bal_rt'\n",
       "55. 'credit_hist_log'\n",
       "56. 'credit_hist_rt'\n",
       "57. 'credit_hist_grp'\n",
       "58. 'max_L'\n",
       "59. 'max_fund_L'\n",
       "60. 'MAX_fund_L_inv'\n",
       "61. 'is_acc_now_delinq_not_zero'\n",
       "\n",
       "\n"
      ],
      "text/plain": [
       " [1] \"verification_status\"            \"purpose\"                       \n",
       " [3] \"emp_length\"                     \"loan_amnt\"                     \n",
       " [5] \"funded_amnt\"                    \"funded_amnt_inv\"               \n",
       " [7] \"collections_12_mths_ex_med\"     \"mths_since_last_major_derog\"   \n",
       " [9] \"home_ownership\"                 \"annual_inc\"                    \n",
       "[11] \"dti\"                            \"delinq_2yrs\"                   \n",
       "[13] \"acc_now_delinq\"                 \"inq_last_6mths\"                \n",
       "[15] \"mths_since_last_delinq\"         \"mths_since_last_record\"        \n",
       "[17] \"open_acc\"                       \"pub_rec\"                       \n",
       "[19] \"revol_bal\"                      \"revol_util\"                    \n",
       "[21] \"total_acc\"                      \"tot_coll_amt\"                  \n",
       "[23] \"tot_cur_bal\"                    \"open_acc_6m\"                   \n",
       "[25] \"open_il_6m\"                     \"open_il_12m\"                   \n",
       "[27] \"open_il_24m\"                    \"mths_since_rcnt_il\"            \n",
       "[29] \"total_bal_il\"                   \"il_util\"                       \n",
       "[31] \"open_rv_12m\"                    \"open_rv_24m\"                   \n",
       "[33] \"max_bal_bc\"                     \"all_util\"                      \n",
       "[35] \"total_rev_hi_lim\"               \"inq_fi\"                        \n",
       "[37] \"total_cu_tl\"                    \"inq_last_12m\"                  \n",
       "[39] \"loan_installment\"               \"full_state\"                    \n",
       "[41] \"acc_ratio\"                      \"credit_hist\"                   \n",
       "[43] \"poverty_rate_p\"                 \"cat_delinq_2yrs\"               \n",
       "[45] \"cat_inq_last_6mths\"             \"cat_collections_12_mths_ex_med\"\n",
       "[47] \"cat_pub_rec\"                    \"mths_since_last_delinq_rt\"     \n",
       "[49] \"open_acc_rt\"                    \"total_acc_rt\"                  \n",
       "[51] \"annual_inc_log\"                 \"annual_inc_rt\"                 \n",
       "[53] \"inc_grp\"                        \"revol_bal_rt\"                  \n",
       "[55] \"credit_hist_log\"                \"credit_hist_rt\"                \n",
       "[57] \"credit_hist_grp\"                \"max_L\"                         \n",
       "[59] \"max_fund_L\"                     \"MAX_fund_L_inv\"                \n",
       "[61] \"is_acc_now_delinq_not_zero\"    "
      ]
     },
     "metadata": {},
     "output_type": "display_data"
    }
   ],
   "source": [
    "## numeric variables\n",
    "num_vars <- \n",
    "  loans %>% \n",
    "  sapply(is.numeric) %>% \n",
    "  which() %>% \n",
    "  names()\n",
    "num_vars"
   ]
  },
  {
   "cell_type": "markdown",
   "metadata": {},
   "source": [
    "## Missing values visualization"
   ]
  },
  {
   "cell_type": "code",
   "execution_count": 10,
   "metadata": {},
   "outputs": [
    {
     "data": {},
     "metadata": {},
     "output_type": "display_data"
    },
    {
     "data": {
      "image/png": "[encoded data removed]",
      "text/plain": [
       "plot without title"
      ]
     },
     "metadata": {},
     "output_type": "display_data"
    }
   ],
   "source": [
    "loans %>%\n",
    "  sample_n(10000) %>%\n",
    "  vis_miss()"
   ]
  },
  {
   "cell_type": "code",
   "execution_count": 13,
   "metadata": {},
   "outputs": [
    {
     "name": "stdout",
     "output_type": "stream",
     "text": [
      "[[1]]\n",
      "                  var na.count rate\n",
      "1         open_acc_6m   254794  100\n",
      "2          open_il_6m   254794  100\n",
      "3         open_il_12m   254794  100\n",
      "4         open_il_24m   254794  100\n",
      "5  mths_since_rcnt_il   254794  100\n",
      "6        total_bal_il   254794  100\n",
      "7             il_util   254794  100\n",
      "8         open_rv_12m   254794  100\n",
      "9         open_rv_24m   254794  100\n",
      "10         max_bal_bc   254794  100\n",
      "\n",
      "[[2]]\n",
      "[1] \"This dataset has 0 (0%) complete rows. Original data has 254794 rows.\"\n",
      "\n"
     ]
    },
    {
     "data": {
      "text/html": [
       "<dl>\n",
       "\t<dt>$missingness</dt>\n",
       "\t\t<dd><table>\n",
       "<thead><tr><th scope=col>var</th><th scope=col>na.count</th><th scope=col>rate</th></tr></thead>\n",
       "<tbody>\n",
       "\t<tr><td>open_acc_6m                </td><td>254794                     </td><td>100.0                      </td></tr>\n",
       "\t<tr><td>open_il_6m                 </td><td>254794                     </td><td>100.0                      </td></tr>\n",
       "\t<tr><td>open_il_12m                </td><td>254794                     </td><td>100.0                      </td></tr>\n",
       "\t<tr><td>open_il_24m                </td><td>254794                     </td><td>100.0                      </td></tr>\n",
       "\t<tr><td>mths_since_rcnt_il         </td><td>254794                     </td><td>100.0                      </td></tr>\n",
       "\t<tr><td>total_bal_il               </td><td>254794                     </td><td>100.0                      </td></tr>\n",
       "\t<tr><td>il_util                    </td><td>254794                     </td><td>100.0                      </td></tr>\n",
       "\t<tr><td>open_rv_12m                </td><td>254794                     </td><td>100.0                      </td></tr>\n",
       "\t<tr><td>open_rv_24m                </td><td>254794                     </td><td>100.0                      </td></tr>\n",
       "\t<tr><td>max_bal_bc                 </td><td>254794                     </td><td>100.0                      </td></tr>\n",
       "\t<tr><td>all_util                   </td><td>254794                     </td><td>100.0                      </td></tr>\n",
       "\t<tr><td>inq_fi                     </td><td>254794                     </td><td>100.0                      </td></tr>\n",
       "\t<tr><td>total_cu_tl                </td><td>254794                     </td><td>100.0                      </td></tr>\n",
       "\t<tr><td>inq_last_12m               </td><td>254794                     </td><td>100.0                      </td></tr>\n",
       "\t<tr><td>mths_since_last_record     </td><td>222601                     </td><td> 87.4                      </td></tr>\n",
       "\t<tr><td>mths_since_last_major_derog</td><td>207432                     </td><td> 81.4                      </td></tr>\n",
       "\t<tr><td>mths_since_last_delinq     </td><td>141632                     </td><td> 55.6                      </td></tr>\n",
       "\t<tr><td>mths_since_last_delinq_rt  </td><td>141632                     </td><td> 55.6                      </td></tr>\n",
       "\t<tr><td>tot_coll_amt               </td><td> 66095                     </td><td> 25.9                      </td></tr>\n",
       "\t<tr><td>tot_cur_bal                </td><td> 66094                     </td><td> 25.9                      </td></tr>\n",
       "\t<tr><td>total_rev_hi_lim           </td><td> 66094                     </td><td> 25.9                      </td></tr>\n",
       "</tbody>\n",
       "</table>\n",
       "</dd>\n",
       "\t<dt>$message</dt>\n",
       "\t\t<dd>'This dataset has 0 (0%) complete rows. Original data has 254794 rows.'</dd>\n",
       "\t<dt>$rows</dt>\n",
       "\t\t<dd>NULL</dd>\n",
       "</dl>\n"
      ],
      "text/latex": [
       "\\begin{description}\n",
       "\\item[\\$missingness] \\begin{tabular}{r|lll}\n",
       " var & na.count & rate\\\\\n",
       "\\hline\n",
       "\t open\\_acc\\_6m                 & 254794                          & 100.0                          \\\\\n",
       "\t open\\_il\\_6m                  & 254794                          & 100.0                          \\\\\n",
       "\t open\\_il\\_12m                 & 254794                          & 100.0                          \\\\\n",
       "\t open\\_il\\_24m                 & 254794                          & 100.0                          \\\\\n",
       "\t mths\\_since\\_rcnt\\_il          & 254794                            & 100.0                            \\\\\n",
       "\t total\\_bal\\_il                & 254794                          & 100.0                          \\\\\n",
       "\t il\\_util                     & 254794                        & 100.0                        \\\\\n",
       "\t open\\_rv\\_12m                 & 254794                          & 100.0                          \\\\\n",
       "\t open\\_rv\\_24m                 & 254794                          & 100.0                          \\\\\n",
       "\t max\\_bal\\_bc                  & 254794                          & 100.0                          \\\\\n",
       "\t all\\_util                    & 254794                        & 100.0                        \\\\\n",
       "\t inq\\_fi                      & 254794                        & 100.0                        \\\\\n",
       "\t total\\_cu\\_tl                 & 254794                          & 100.0                          \\\\\n",
       "\t inq\\_last\\_12m                & 254794                          & 100.0                          \\\\\n",
       "\t mths\\_since\\_last\\_record      & 222601                            &  87.4                            \\\\\n",
       "\t mths\\_since\\_last\\_major\\_derog & 207432                              &  81.4                              \\\\\n",
       "\t mths\\_since\\_last\\_delinq      & 141632                            &  55.6                            \\\\\n",
       "\t mths\\_since\\_last\\_delinq\\_rt   & 141632                              &  55.6                              \\\\\n",
       "\t tot\\_coll\\_amt                &  66095                          &  25.9                          \\\\\n",
       "\t tot\\_cur\\_bal                 &  66094                          &  25.9                          \\\\\n",
       "\t total\\_rev\\_hi\\_lim            &  66094                            &  25.9                            \\\\\n",
       "\\end{tabular}\n",
       "\n",
       "\\item[\\$message] 'This dataset has 0 (0\\%) complete rows. Original data has 254794 rows.'\n",
       "\\item[\\$rows] NULL\n",
       "\\end{description}\n"
      ],
      "text/markdown": [
       "$missingness\n",
       ":   \n",
       "var | na.count | rate | \n",
       "|---|---|---|---|---|---|---|---|---|---|---|---|---|---|---|---|---|---|---|---|---|\n",
       "| open_acc_6m                 | 254794                      | 100.0                       | \n",
       "| open_il_6m                  | 254794                      | 100.0                       | \n",
       "| open_il_12m                 | 254794                      | 100.0                       | \n",
       "| open_il_24m                 | 254794                      | 100.0                       | \n",
       "| mths_since_rcnt_il          | 254794                      | 100.0                       | \n",
       "| total_bal_il                | 254794                      | 100.0                       | \n",
       "| il_util                     | 254794                      | 100.0                       | \n",
       "| open_rv_12m                 | 254794                      | 100.0                       | \n",
       "| open_rv_24m                 | 254794                      | 100.0                       | \n",
       "| max_bal_bc                  | 254794                      | 100.0                       | \n",
       "| all_util                    | 254794                      | 100.0                       | \n",
       "| inq_fi                      | 254794                      | 100.0                       | \n",
       "| total_cu_tl                 | 254794                      | 100.0                       | \n",
       "| inq_last_12m                | 254794                      | 100.0                       | \n",
       "| mths_since_last_record      | 222601                      |  87.4                       | \n",
       "| mths_since_last_major_derog | 207432                      |  81.4                       | \n",
       "| mths_since_last_delinq      | 141632                      |  55.6                       | \n",
       "| mths_since_last_delinq_rt   | 141632                      |  55.6                       | \n",
       "| tot_coll_amt                |  66095                      |  25.9                       | \n",
       "| tot_cur_bal                 |  66094                      |  25.9                       | \n",
       "| total_rev_hi_lim            |  66094                      |  25.9                       | \n",
       "\n",
       "\n",
       "\n",
       "$message\n",
       ":   'This dataset has 0 (0%) complete rows. Original data has 254794 rows.'\n",
       "$rows\n",
       ":   NULL\n",
       "\n",
       "\n"
      ],
      "text/plain": [
       "$missingness\n",
       "                           var na.count  rate\n",
       "1                  open_acc_6m   254794 100.0\n",
       "2                   open_il_6m   254794 100.0\n",
       "3                  open_il_12m   254794 100.0\n",
       "4                  open_il_24m   254794 100.0\n",
       "5           mths_since_rcnt_il   254794 100.0\n",
       "6                 total_bal_il   254794 100.0\n",
       "7                      il_util   254794 100.0\n",
       "8                  open_rv_12m   254794 100.0\n",
       "9                  open_rv_24m   254794 100.0\n",
       "10                  max_bal_bc   254794 100.0\n",
       "11                    all_util   254794 100.0\n",
       "12                      inq_fi   254794 100.0\n",
       "13                 total_cu_tl   254794 100.0\n",
       "14                inq_last_12m   254794 100.0\n",
       "15      mths_since_last_record   222601  87.4\n",
       "16 mths_since_last_major_derog   207432  81.4\n",
       "17      mths_since_last_delinq   141632  55.6\n",
       "18   mths_since_last_delinq_rt   141632  55.6\n",
       "19                tot_coll_amt    66095  25.9\n",
       "20                 tot_cur_bal    66094  25.9\n",
       "21            total_rev_hi_lim    66094  25.9\n",
       "\n",
       "$message\n",
       "[1] \"This dataset has 0 (0%) complete rows. Original data has 254794 rows.\"\n",
       "\n",
       "$rows\n",
       "NULL\n"
      ]
     },
     "metadata": {},
     "output_type": "display_data"
    }
   ],
   "source": [
    "getMissingness(loans)"
   ]
  },
  {
   "cell_type": "code",
   "execution_count": 14,
   "metadata": {},
   "outputs": [
    {
     "data": {},
     "metadata": {},
     "output_type": "display_data"
    },
    {
     "data": {
      "image/png": "[encoded data removed]",
      "text/plain": [
       "plot without title"
      ]
     },
     "metadata": {},
     "output_type": "display_data"
    }
   ],
   "source": [
    "options(repr.plot.width=6, repr.plot.height=8)\n",
    "missing_data <- loans %>% summarise_all(funs(sum(is.na(.))/n()))\n",
    "missing_data <- gather(missing_data, key = \"variables\", value = \"percent_missing\") \n",
    "ggplot(missing_data, aes(x = reorder(variables, percent_missing), y = percent_missing)) +\n",
    "  geom_bar(stat = \"identity\", fill = \"red\", aes(color = I('white')), size = 0.1)+coord_flip()"
   ]
  },
  {
   "cell_type": "markdown",
   "metadata": {},
   "source": [
    "## Determinate the Missingness Generation Mechanism\n",
    " \n",
    "There are three mechanisms that generate Missing values:\n",
    " \n",
    "1. Missing Completely at Random (MCAR)\n",
    "2. Missing at Random (MAR)\n",
    "3. Missing not at Random (MNAR)\n",
    " \n"
   ]
  },
  {
   "cell_type": "markdown",
   "metadata": {},
   "source": [
    "# Missingness"
   ]
  },
  {
   "cell_type": "markdown",
   "metadata": {},
   "source": [
    "We creating for each feature a dummy column that indicates if is na"
   ]
  },
  {
   "cell_type": "code",
   "execution_count": 10,
   "metadata": {},
   "outputs": [],
   "source": [
    "missingcols_dummy <- missingMatrix(loans)"
   ]
  },
  {
   "cell_type": "code",
   "execution_count": 11,
   "metadata": {},
   "outputs": [
    {
     "data": {
      "text/html": [
       "<table>\n",
       "<thead><tr><th scope=col>verification_status_na</th><th scope=col>issue_d_na</th><th scope=col>pymnt_plan_na</th><th scope=col>purpose_na</th><th scope=col>initial_list_status_na</th><th scope=col>emp_length_na</th><th scope=col>loan_amnt_na</th><th scope=col>funded_amnt_na</th><th scope=col>funded_amnt_inv_na</th><th scope=col>term_na</th><th scope=col>...</th><th scope=col>annual_inc_rt_na</th><th scope=col>inc_grp_na</th><th scope=col>revol_bal_rt_na</th><th scope=col>credit_hist_log_na</th><th scope=col>credit_hist_rt_na</th><th scope=col>credit_hist_grp_na</th><th scope=col>max_L_na</th><th scope=col>max_fund_L_na</th><th scope=col>MAX_fund_L_inv_na</th><th scope=col>is_acc_now_delinq_not_zero_na</th></tr></thead>\n",
       "<tbody>\n",
       "\t<tr><td>0  </td><td>0  </td><td>0  </td><td>0  </td><td>0  </td><td>0  </td><td>0  </td><td>0  </td><td>0  </td><td>0  </td><td>...</td><td>0  </td><td>0  </td><td>0  </td><td>0  </td><td>0  </td><td>0  </td><td>0  </td><td>0  </td><td>0  </td><td>0  </td></tr>\n",
       "\t<tr><td>0  </td><td>0  </td><td>0  </td><td>0  </td><td>0  </td><td>0  </td><td>0  </td><td>0  </td><td>0  </td><td>0  </td><td>...</td><td>0  </td><td>0  </td><td>0  </td><td>0  </td><td>0  </td><td>0  </td><td>0  </td><td>0  </td><td>0  </td><td>0  </td></tr>\n",
       "\t<tr><td>0  </td><td>0  </td><td>0  </td><td>0  </td><td>0  </td><td>0  </td><td>0  </td><td>0  </td><td>0  </td><td>0  </td><td>...</td><td>0  </td><td>0  </td><td>0  </td><td>0  </td><td>0  </td><td>0  </td><td>0  </td><td>0  </td><td>0  </td><td>0  </td></tr>\n",
       "\t<tr><td>0  </td><td>0  </td><td>0  </td><td>0  </td><td>0  </td><td>0  </td><td>0  </td><td>0  </td><td>0  </td><td>0  </td><td>...</td><td>0  </td><td>0  </td><td>0  </td><td>0  </td><td>0  </td><td>0  </td><td>0  </td><td>0  </td><td>0  </td><td>0  </td></tr>\n",
       "\t<tr><td>0  </td><td>0  </td><td>0  </td><td>0  </td><td>0  </td><td>0  </td><td>0  </td><td>0  </td><td>0  </td><td>0  </td><td>...</td><td>0  </td><td>0  </td><td>0  </td><td>0  </td><td>0  </td><td>0  </td><td>0  </td><td>0  </td><td>0  </td><td>0  </td></tr>\n",
       "\t<tr><td>0  </td><td>0  </td><td>0  </td><td>0  </td><td>0  </td><td>0  </td><td>0  </td><td>0  </td><td>0  </td><td>0  </td><td>...</td><td>0  </td><td>0  </td><td>0  </td><td>0  </td><td>0  </td><td>0  </td><td>0  </td><td>0  </td><td>0  </td><td>0  </td></tr>\n",
       "</tbody>\n",
       "</table>\n"
      ],
      "text/latex": [
       "\\begin{tabular}{r|llllllllllllllllllllllllllllllllllllllllllllllllllllllllllllllllll}\n",
       " verification\\_status\\_na & issue\\_d\\_na & pymnt\\_plan\\_na & purpose\\_na & initial\\_list\\_status\\_na & emp\\_length\\_na & loan\\_amnt\\_na & funded\\_amnt\\_na & funded\\_amnt\\_inv\\_na & term\\_na & ... & annual\\_inc\\_rt\\_na & inc\\_grp\\_na & revol\\_bal\\_rt\\_na & credit\\_hist\\_log\\_na & credit\\_hist\\_rt\\_na & credit\\_hist\\_grp\\_na & max\\_L\\_na & max\\_fund\\_L\\_na & MAX\\_fund\\_L\\_inv\\_na & is\\_acc\\_now\\_delinq\\_not\\_zero\\_na\\\\\n",
       "\\hline\n",
       "\t 0   & 0   & 0   & 0   & 0   & 0   & 0   & 0   & 0   & 0   & ... & 0   & 0   & 0   & 0   & 0   & 0   & 0   & 0   & 0   & 0  \\\\\n",
       "\t 0   & 0   & 0   & 0   & 0   & 0   & 0   & 0   & 0   & 0   & ... & 0   & 0   & 0   & 0   & 0   & 0   & 0   & 0   & 0   & 0  \\\\\n",
       "\t 0   & 0   & 0   & 0   & 0   & 0   & 0   & 0   & 0   & 0   & ... & 0   & 0   & 0   & 0   & 0   & 0   & 0   & 0   & 0   & 0  \\\\\n",
       "\t 0   & 0   & 0   & 0   & 0   & 0   & 0   & 0   & 0   & 0   & ... & 0   & 0   & 0   & 0   & 0   & 0   & 0   & 0   & 0   & 0  \\\\\n",
       "\t 0   & 0   & 0   & 0   & 0   & 0   & 0   & 0   & 0   & 0   & ... & 0   & 0   & 0   & 0   & 0   & 0   & 0   & 0   & 0   & 0  \\\\\n",
       "\t 0   & 0   & 0   & 0   & 0   & 0   & 0   & 0   & 0   & 0   & ... & 0   & 0   & 0   & 0   & 0   & 0   & 0   & 0   & 0   & 0  \\\\\n",
       "\\end{tabular}\n"
      ],
      "text/markdown": [
       "\n",
       "verification_status_na | issue_d_na | pymnt_plan_na | purpose_na | initial_list_status_na | emp_length_na | loan_amnt_na | funded_amnt_na | funded_amnt_inv_na | term_na | ... | annual_inc_rt_na | inc_grp_na | revol_bal_rt_na | credit_hist_log_na | credit_hist_rt_na | credit_hist_grp_na | max_L_na | max_fund_L_na | MAX_fund_L_inv_na | is_acc_now_delinq_not_zero_na | \n",
       "|---|---|---|---|---|---|\n",
       "| 0   | 0   | 0   | 0   | 0   | 0   | 0   | 0   | 0   | 0   | ... | 0   | 0   | 0   | 0   | 0   | 0   | 0   | 0   | 0   | 0   | \n",
       "| 0   | 0   | 0   | 0   | 0   | 0   | 0   | 0   | 0   | 0   | ... | 0   | 0   | 0   | 0   | 0   | 0   | 0   | 0   | 0   | 0   | \n",
       "| 0   | 0   | 0   | 0   | 0   | 0   | 0   | 0   | 0   | 0   | ... | 0   | 0   | 0   | 0   | 0   | 0   | 0   | 0   | 0   | 0   | \n",
       "| 0   | 0   | 0   | 0   | 0   | 0   | 0   | 0   | 0   | 0   | ... | 0   | 0   | 0   | 0   | 0   | 0   | 0   | 0   | 0   | 0   | \n",
       "| 0   | 0   | 0   | 0   | 0   | 0   | 0   | 0   | 0   | 0   | ... | 0   | 0   | 0   | 0   | 0   | 0   | 0   | 0   | 0   | 0   | \n",
       "| 0   | 0   | 0   | 0   | 0   | 0   | 0   | 0   | 0   | 0   | ... | 0   | 0   | 0   | 0   | 0   | 0   | 0   | 0   | 0   | 0   | \n",
       "\n",
       "\n"
      ],
      "text/plain": [
       "  verification_status_na issue_d_na pymnt_plan_na purpose_na\n",
       "1 0                      0          0             0         \n",
       "2 0                      0          0             0         \n",
       "3 0                      0          0             0         \n",
       "4 0                      0          0             0         \n",
       "5 0                      0          0             0         \n",
       "6 0                      0          0             0         \n",
       "  initial_list_status_na emp_length_na loan_amnt_na funded_amnt_na\n",
       "1 0                      0             0            0             \n",
       "2 0                      0             0            0             \n",
       "3 0                      0             0            0             \n",
       "4 0                      0             0            0             \n",
       "5 0                      0             0            0             \n",
       "6 0                      0             0            0             \n",
       "  funded_amnt_inv_na term_na ... annual_inc_rt_na inc_grp_na revol_bal_rt_na\n",
       "1 0                  0       ... 0                0          0              \n",
       "2 0                  0       ... 0                0          0              \n",
       "3 0                  0       ... 0                0          0              \n",
       "4 0                  0       ... 0                0          0              \n",
       "5 0                  0       ... 0                0          0              \n",
       "6 0                  0       ... 0                0          0              \n",
       "  credit_hist_log_na credit_hist_rt_na credit_hist_grp_na max_L_na\n",
       "1 0                  0                 0                  0       \n",
       "2 0                  0                 0                  0       \n",
       "3 0                  0                 0                  0       \n",
       "4 0                  0                 0                  0       \n",
       "5 0                  0                 0                  0       \n",
       "6 0                  0                 0                  0       \n",
       "  max_fund_L_na MAX_fund_L_inv_na is_acc_now_delinq_not_zero_na\n",
       "1 0             0                 0                            \n",
       "2 0             0                 0                            \n",
       "3 0             0                 0                            \n",
       "4 0             0                 0                            \n",
       "5 0             0                 0                            \n",
       "6 0             0                 0                            "
      ]
     },
     "metadata": {},
     "output_type": "display_data"
    }
   ],
   "source": [
    "head(missingcols_dummy)"
   ]
  },
  {
   "cell_type": "code",
   "execution_count": 12,
   "metadata": {},
   "outputs": [],
   "source": [
    "##function creates logistic Regression Model\n",
    "createLogisticRegressionModel <- function (dt,predictCol,dependCols,family=\"binomial\"){\n",
    "  glmod <- glm(as.formula(paste(predictCol,paste(\"~\", dependCols))), data=dt,family = family,control = list(maxit = 50))\n",
    "  #print(summary(glmod))\n",
    "  return(glmod)\n",
    "}"
   ]
  },
  {
   "cell_type": "code",
   "execution_count": 13,
   "metadata": {},
   "outputs": [],
   "source": [
    "## function to determine the missing mechanism\n",
    "defineMissingMechanism<- function(mod){\n",
    "    m<- coef(summary(mod))\n",
    "    important<- subset(m, m[,4] <0.05)\n",
    "    important_cnt <- nrow(important)\n",
    "    #print(paste0(\"Number of Significant variables = \",important_cnt))\n",
    "    mech<-NULL\n",
    "    important_names<-''\n",
    "    if (important_cnt > 1) {\n",
    "       # print(\"MNAR\")\n",
    "        mech <- \"MNAR\"\n",
    "    } else if (important_cnt == 0) {\n",
    "        #print(\"MCAR\")\n",
    "        mech <- \"MCAR\"\n",
    "        } else{\n",
    "            #print(\"Need to check further if MCAR or MAR\")\n",
    "            mech <- \"Need to check further if MCAR or MAR\"\n",
    "            important_names <- rownames(important)\n",
    "            #print(important)\n",
    "        }\n",
    "    return(list(mech = mech, important_cnt = important_cnt,important_names = important_names))\n",
    "}"
   ]
  },
  {
   "cell_type": "markdown",
   "metadata": {},
   "source": [
    "Define the full and the missing columns of our dataset"
   ]
  },
  {
   "cell_type": "code",
   "execution_count": 14,
   "metadata": {},
   "outputs": [
    {
     "data": {
      "text/html": [
       "<ol class=list-inline>\n",
       "\t<li>'mths_since_last_major_derog'</li>\n",
       "\t<li>'mths_since_last_delinq'</li>\n",
       "\t<li>'mths_since_last_record'</li>\n",
       "\t<li>'tot_coll_amt'</li>\n",
       "\t<li>'tot_cur_bal'</li>\n",
       "\t<li>'open_acc_6m'</li>\n",
       "\t<li>'open_il_6m'</li>\n",
       "\t<li>'open_il_12m'</li>\n",
       "\t<li>'open_il_24m'</li>\n",
       "\t<li>'mths_since_rcnt_il'</li>\n",
       "\t<li>'total_bal_il'</li>\n",
       "\t<li>'il_util'</li>\n",
       "\t<li>'open_rv_12m'</li>\n",
       "\t<li>'open_rv_24m'</li>\n",
       "\t<li>'max_bal_bc'</li>\n",
       "\t<li>'all_util'</li>\n",
       "\t<li>'total_rev_hi_lim'</li>\n",
       "\t<li>'inq_fi'</li>\n",
       "\t<li>'total_cu_tl'</li>\n",
       "\t<li>'inq_last_12m'</li>\n",
       "\t<li>'mths_since_last_delinq_rt'</li>\n",
       "</ol>\n"
      ],
      "text/latex": [
       "\\begin{enumerate*}\n",
       "\\item 'mths\\_since\\_last\\_major\\_derog'\n",
       "\\item 'mths\\_since\\_last\\_delinq'\n",
       "\\item 'mths\\_since\\_last\\_record'\n",
       "\\item 'tot\\_coll\\_amt'\n",
       "\\item 'tot\\_cur\\_bal'\n",
       "\\item 'open\\_acc\\_6m'\n",
       "\\item 'open\\_il\\_6m'\n",
       "\\item 'open\\_il\\_12m'\n",
       "\\item 'open\\_il\\_24m'\n",
       "\\item 'mths\\_since\\_rcnt\\_il'\n",
       "\\item 'total\\_bal\\_il'\n",
       "\\item 'il\\_util'\n",
       "\\item 'open\\_rv\\_12m'\n",
       "\\item 'open\\_rv\\_24m'\n",
       "\\item 'max\\_bal\\_bc'\n",
       "\\item 'all\\_util'\n",
       "\\item 'total\\_rev\\_hi\\_lim'\n",
       "\\item 'inq\\_fi'\n",
       "\\item 'total\\_cu\\_tl'\n",
       "\\item 'inq\\_last\\_12m'\n",
       "\\item 'mths\\_since\\_last\\_delinq\\_rt'\n",
       "\\end{enumerate*}\n"
      ],
      "text/markdown": [
       "1. 'mths_since_last_major_derog'\n",
       "2. 'mths_since_last_delinq'\n",
       "3. 'mths_since_last_record'\n",
       "4. 'tot_coll_amt'\n",
       "5. 'tot_cur_bal'\n",
       "6. 'open_acc_6m'\n",
       "7. 'open_il_6m'\n",
       "8. 'open_il_12m'\n",
       "9. 'open_il_24m'\n",
       "10. 'mths_since_rcnt_il'\n",
       "11. 'total_bal_il'\n",
       "12. 'il_util'\n",
       "13. 'open_rv_12m'\n",
       "14. 'open_rv_24m'\n",
       "15. 'max_bal_bc'\n",
       "16. 'all_util'\n",
       "17. 'total_rev_hi_lim'\n",
       "18. 'inq_fi'\n",
       "19. 'total_cu_tl'\n",
       "20. 'inq_last_12m'\n",
       "21. 'mths_since_last_delinq_rt'\n",
       "\n",
       "\n"
      ],
      "text/plain": [
       " [1] \"mths_since_last_major_derog\" \"mths_since_last_delinq\"     \n",
       " [3] \"mths_since_last_record\"      \"tot_coll_amt\"               \n",
       " [5] \"tot_cur_bal\"                 \"open_acc_6m\"                \n",
       " [7] \"open_il_6m\"                  \"open_il_12m\"                \n",
       " [9] \"open_il_24m\"                 \"mths_since_rcnt_il\"         \n",
       "[11] \"total_bal_il\"                \"il_util\"                    \n",
       "[13] \"open_rv_12m\"                 \"open_rv_24m\"                \n",
       "[15] \"max_bal_bc\"                  \"all_util\"                   \n",
       "[17] \"total_rev_hi_lim\"            \"inq_fi\"                     \n",
       "[19] \"total_cu_tl\"                 \"inq_last_12m\"               \n",
       "[21] \"mths_since_last_delinq_rt\"  "
      ]
     },
     "metadata": {},
     "output_type": "display_data"
    },
    {
     "data": {
      "text/html": [
       "<ol class=list-inline>\n",
       "\t<li>'verification_status'</li>\n",
       "\t<li>'pymnt_plan'</li>\n",
       "\t<li>'purpose'</li>\n",
       "\t<li>'initial_list_status'</li>\n",
       "\t<li>'emp_length'</li>\n",
       "\t<li>'loan_amnt'</li>\n",
       "\t<li>'funded_amnt'</li>\n",
       "\t<li>'funded_amnt_inv'</li>\n",
       "\t<li>'term'</li>\n",
       "\t<li>'collections_12_mths_ex_med'</li>\n",
       "\t<li>'home_ownership'</li>\n",
       "\t<li>'annual_inc'</li>\n",
       "\t<li>'dti'</li>\n",
       "\t<li>'delinq_2yrs'</li>\n",
       "\t<li>'acc_now_delinq'</li>\n",
       "\t<li>'inq_last_6mths'</li>\n",
       "\t<li>'open_acc'</li>\n",
       "\t<li>'pub_rec'</li>\n",
       "\t<li>'revol_bal'</li>\n",
       "\t<li>'revol_util'</li>\n",
       "\t<li>'total_acc'</li>\n",
       "\t<li>'default'</li>\n",
       "\t<li>'loan_installment'</li>\n",
       "\t<li>'full_state'</li>\n",
       "\t<li>'acc_ratio'</li>\n",
       "\t<li>'credit_hist'</li>\n",
       "\t<li>'poverty_rate_p'</li>\n",
       "\t<li>'cat_delinq_2yrs'</li>\n",
       "\t<li>'cat_inq_last_6mths'</li>\n",
       "\t<li>'cat_collections_12_mths_ex_med'</li>\n",
       "\t<li>'cat_pub_rec'</li>\n",
       "\t<li>'open_acc_rt'</li>\n",
       "\t<li>'total_acc_rt'</li>\n",
       "\t<li>'annual_inc_log'</li>\n",
       "\t<li>'annual_inc_rt'</li>\n",
       "\t<li>'inc_grp'</li>\n",
       "\t<li>'revol_bal_rt'</li>\n",
       "\t<li>'credit_hist_log'</li>\n",
       "\t<li>'credit_hist_rt'</li>\n",
       "\t<li>'credit_hist_grp'</li>\n",
       "\t<li>'max_L'</li>\n",
       "\t<li>'max_fund_L'</li>\n",
       "\t<li>'MAX_fund_L_inv'</li>\n",
       "\t<li>'is_acc_now_delinq_not_zero'</li>\n",
       "</ol>\n"
      ],
      "text/latex": [
       "\\begin{enumerate*}\n",
       "\\item 'verification\\_status'\n",
       "\\item 'pymnt\\_plan'\n",
       "\\item 'purpose'\n",
       "\\item 'initial\\_list\\_status'\n",
       "\\item 'emp\\_length'\n",
       "\\item 'loan\\_amnt'\n",
       "\\item 'funded\\_amnt'\n",
       "\\item 'funded\\_amnt\\_inv'\n",
       "\\item 'term'\n",
       "\\item 'collections\\_12\\_mths\\_ex\\_med'\n",
       "\\item 'home\\_ownership'\n",
       "\\item 'annual\\_inc'\n",
       "\\item 'dti'\n",
       "\\item 'delinq\\_2yrs'\n",
       "\\item 'acc\\_now\\_delinq'\n",
       "\\item 'inq\\_last\\_6mths'\n",
       "\\item 'open\\_acc'\n",
       "\\item 'pub\\_rec'\n",
       "\\item 'revol\\_bal'\n",
       "\\item 'revol\\_util'\n",
       "\\item 'total\\_acc'\n",
       "\\item 'default'\n",
       "\\item 'loan\\_installment'\n",
       "\\item 'full\\_state'\n",
       "\\item 'acc\\_ratio'\n",
       "\\item 'credit\\_hist'\n",
       "\\item 'poverty\\_rate\\_p'\n",
       "\\item 'cat\\_delinq\\_2yrs'\n",
       "\\item 'cat\\_inq\\_last\\_6mths'\n",
       "\\item 'cat\\_collections\\_12\\_mths\\_ex\\_med'\n",
       "\\item 'cat\\_pub\\_rec'\n",
       "\\item 'open\\_acc\\_rt'\n",
       "\\item 'total\\_acc\\_rt'\n",
       "\\item 'annual\\_inc\\_log'\n",
       "\\item 'annual\\_inc\\_rt'\n",
       "\\item 'inc\\_grp'\n",
       "\\item 'revol\\_bal\\_rt'\n",
       "\\item 'credit\\_hist\\_log'\n",
       "\\item 'credit\\_hist\\_rt'\n",
       "\\item 'credit\\_hist\\_grp'\n",
       "\\item 'max\\_L'\n",
       "\\item 'max\\_fund\\_L'\n",
       "\\item 'MAX\\_fund\\_L\\_inv'\n",
       "\\item 'is\\_acc\\_now\\_delinq\\_not\\_zero'\n",
       "\\end{enumerate*}\n"
      ],
      "text/markdown": [
       "1. 'verification_status'\n",
       "2. 'pymnt_plan'\n",
       "3. 'purpose'\n",
       "4. 'initial_list_status'\n",
       "5. 'emp_length'\n",
       "6. 'loan_amnt'\n",
       "7. 'funded_amnt'\n",
       "8. 'funded_amnt_inv'\n",
       "9. 'term'\n",
       "10. 'collections_12_mths_ex_med'\n",
       "11. 'home_ownership'\n",
       "12. 'annual_inc'\n",
       "13. 'dti'\n",
       "14. 'delinq_2yrs'\n",
       "15. 'acc_now_delinq'\n",
       "16. 'inq_last_6mths'\n",
       "17. 'open_acc'\n",
       "18. 'pub_rec'\n",
       "19. 'revol_bal'\n",
       "20. 'revol_util'\n",
       "21. 'total_acc'\n",
       "22. 'default'\n",
       "23. 'loan_installment'\n",
       "24. 'full_state'\n",
       "25. 'acc_ratio'\n",
       "26. 'credit_hist'\n",
       "27. 'poverty_rate_p'\n",
       "28. 'cat_delinq_2yrs'\n",
       "29. 'cat_inq_last_6mths'\n",
       "30. 'cat_collections_12_mths_ex_med'\n",
       "31. 'cat_pub_rec'\n",
       "32. 'open_acc_rt'\n",
       "33. 'total_acc_rt'\n",
       "34. 'annual_inc_log'\n",
       "35. 'annual_inc_rt'\n",
       "36. 'inc_grp'\n",
       "37. 'revol_bal_rt'\n",
       "38. 'credit_hist_log'\n",
       "39. 'credit_hist_rt'\n",
       "40. 'credit_hist_grp'\n",
       "41. 'max_L'\n",
       "42. 'max_fund_L'\n",
       "43. 'MAX_fund_L_inv'\n",
       "44. 'is_acc_now_delinq_not_zero'\n",
       "\n",
       "\n"
      ],
      "text/plain": [
       " [1] \"verification_status\"            \"pymnt_plan\"                    \n",
       " [3] \"purpose\"                        \"initial_list_status\"           \n",
       " [5] \"emp_length\"                     \"loan_amnt\"                     \n",
       " [7] \"funded_amnt\"                    \"funded_amnt_inv\"               \n",
       " [9] \"term\"                           \"collections_12_mths_ex_med\"    \n",
       "[11] \"home_ownership\"                 \"annual_inc\"                    \n",
       "[13] \"dti\"                            \"delinq_2yrs\"                   \n",
       "[15] \"acc_now_delinq\"                 \"inq_last_6mths\"                \n",
       "[17] \"open_acc\"                       \"pub_rec\"                       \n",
       "[19] \"revol_bal\"                      \"revol_util\"                    \n",
       "[21] \"total_acc\"                      \"default\"                       \n",
       "[23] \"loan_installment\"               \"full_state\"                    \n",
       "[25] \"acc_ratio\"                      \"credit_hist\"                   \n",
       "[27] \"poverty_rate_p\"                 \"cat_delinq_2yrs\"               \n",
       "[29] \"cat_inq_last_6mths\"             \"cat_collections_12_mths_ex_med\"\n",
       "[31] \"cat_pub_rec\"                    \"open_acc_rt\"                   \n",
       "[33] \"total_acc_rt\"                   \"annual_inc_log\"                \n",
       "[35] \"annual_inc_rt\"                  \"inc_grp\"                       \n",
       "[37] \"revol_bal_rt\"                   \"credit_hist_log\"               \n",
       "[39] \"credit_hist_rt\"                 \"credit_hist_grp\"               \n",
       "[41] \"max_L\"                          \"max_fund_L\"                    \n",
       "[43] \"MAX_fund_L_inv\"                 \"is_acc_now_delinq_not_zero\"    "
      ]
     },
     "metadata": {},
     "output_type": "display_data"
    }
   ],
   "source": [
    "missingVars <- colnames(loans)[colSums(is.na(loans)) > 0]\n",
    "#missingVars <- missingVars[!missingVars %in% c(\"last_credit_pull_d\",\"earliest_cr_line\")]\n",
    "missingVars\n",
    "\n",
    "fullVars <- colnames(loans)[colSums(is.na(loans)) == 0]\n",
    "fullVars <- fullVars[!fullVars %in% c(\"issue_d\")]\n",
    "fullVars"
   ]
  },
  {
   "cell_type": "code",
   "execution_count": 15,
   "metadata": {},
   "outputs": [],
   "source": [
    "##Function That run through all the missing variables and check the missing mechanism and possible action\n",
    "getMissingTreatment <- function (data,missingcols_dummy,missingVars,fullVars) {\n",
    "missDF <- NULL\n",
    "for (v in missingVars) {\n",
    "    print(v)\n",
    "    print(format(Sys.time(), \"%X\"))\n",
    "    naName <- paste0(v,\"_na\")\n",
    "    dfNames<-c(fullVars,naName)\n",
    "    df <- cbind(loans[,fullVars],missingcols_dummy[[naName]])\n",
    "    colnames(df) <- dfNames\n",
    "    na.count <- sum(missingcols_dummy[[naName]])\n",
    "    na.rate <- round((na.count/nrow(missingcols_dummy)) * 100, 1)\n",
    "    mod <- createLogisticRegressionModel(df,naName,\".\")\n",
    "    model_res <- defineMissingMechanism(mod)\n",
    "    mech <- model_res$mech\n",
    "    if (mech ==\"MCAR\" && na.rate == 100.0){\n",
    "        mech = \"MNAR\"\n",
    "    }\n",
    "    important_cnt <- model_res$important_cnt\n",
    "    important_names <- model_res$important_names\n",
    "    action <- NULL\n",
    "    #print(na.count)\n",
    "    #print(na.rate)\n",
    "    if (mech ==\"MNAR\" && na.rate>3){\n",
    "        #print (\"Drop Column\")\n",
    "        action <- \"Drop Column\"\n",
    "        } else if (mech ==\"MNAR\" && na.rate<3){\n",
    "        #print (\"Drop Rows\")\n",
    "         action <- \"Drop Rows\"\n",
    "    }else{\n",
    "        #print (\"Can Do Imputation\")\n",
    "        action <- \"Can Do Imputation\"\n",
    "        } \n",
    "        missDF <- rbind(missDF, data.frame(v,na.count,na.rate,mech,important_cnt,important_names,action))\n",
    "    }\n",
    "    names(missDF) <- c(\"var\", \"na.count\", \"na.rate\",\"missing mechanism\",\"siginificant vars count\",\"siginificant vars\",\"possible action\")\n",
    "return(missDF)\n",
    "}"
   ]
  },
  {
   "cell_type": "code",
   "execution_count": 17,
   "metadata": {},
   "outputs": [
    {
     "name": "stdout",
     "output_type": "stream",
     "text": [
      "[1] \"mths_since_last_major_derog\"\n",
      "[1] \"19:18:52\"\n"
     ]
    },
    {
     "name": "stderr",
     "output_type": "stream",
     "text": [
      "Warning message:\n",
      "\"glm.fit: fitted probabilities numerically 0 or 1 occurred\""
     ]
    },
    {
     "name": "stdout",
     "output_type": "stream",
     "text": [
      "[1] \"mths_since_last_delinq\"\n",
      "[1] \"19:19:01\"\n",
      "[1] \"mths_since_last_record\"\n",
      "[1] \"19:19:13\"\n"
     ]
    },
    {
     "name": "stderr",
     "output_type": "stream",
     "text": [
      "Warning message:\n",
      "\"glm.fit: fitted probabilities numerically 0 or 1 occurred\""
     ]
    },
    {
     "name": "stdout",
     "output_type": "stream",
     "text": [
      "[1] \"tot_coll_amt\"\n",
      "[1] \"19:19:47\"\n"
     ]
    },
    {
     "name": "stderr",
     "output_type": "stream",
     "text": [
      "Warning message:\n",
      "\"glm.fit: fitted probabilities numerically 0 or 1 occurred\""
     ]
    },
    {
     "name": "stdout",
     "output_type": "stream",
     "text": [
      "[1] \"tot_cur_bal\"\n",
      "[1] \"19:19:59\"\n"
     ]
    },
    {
     "name": "stderr",
     "output_type": "stream",
     "text": [
      "Warning message:\n",
      "\"glm.fit: fitted probabilities numerically 0 or 1 occurred\""
     ]
    },
    {
     "name": "stdout",
     "output_type": "stream",
     "text": [
      "[1] \"open_acc_6m\"\n",
      "[1] \"19:20:15\"\n"
     ]
    },
    {
     "name": "stderr",
     "output_type": "stream",
     "text": [
      "Warning message:\n",
      "\"glm.fit: fitted probabilities numerically 0 or 1 occurred\""
     ]
    },
    {
     "name": "stdout",
     "output_type": "stream",
     "text": [
      "[1] \"open_il_6m\"\n",
      "[1] \"19:20:41\"\n"
     ]
    },
    {
     "name": "stderr",
     "output_type": "stream",
     "text": [
      "Warning message:\n",
      "\"glm.fit: fitted probabilities numerically 0 or 1 occurred\""
     ]
    },
    {
     "name": "stdout",
     "output_type": "stream",
     "text": [
      "[1] \"open_il_12m\"\n",
      "[1] \"19:21:08\"\n"
     ]
    },
    {
     "name": "stderr",
     "output_type": "stream",
     "text": [
      "Warning message:\n",
      "\"glm.fit: fitted probabilities numerically 0 or 1 occurred\""
     ]
    },
    {
     "name": "stdout",
     "output_type": "stream",
     "text": [
      "[1] \"open_il_24m\"\n",
      "[1] \"19:21:34\"\n"
     ]
    },
    {
     "name": "stderr",
     "output_type": "stream",
     "text": [
      "Warning message:\n",
      "\"glm.fit: fitted probabilities numerically 0 or 1 occurred\""
     ]
    },
    {
     "name": "stdout",
     "output_type": "stream",
     "text": [
      "[1] \"mths_since_rcnt_il\"\n",
      "[1] \"19:21:59\"\n"
     ]
    },
    {
     "name": "stderr",
     "output_type": "stream",
     "text": [
      "Warning message:\n",
      "\"glm.fit: fitted probabilities numerically 0 or 1 occurred\""
     ]
    },
    {
     "name": "stdout",
     "output_type": "stream",
     "text": [
      "[1] \"total_bal_il\"\n",
      "[1] \"19:22:25\"\n"
     ]
    },
    {
     "name": "stderr",
     "output_type": "stream",
     "text": [
      "Warning message:\n",
      "\"glm.fit: fitted probabilities numerically 0 or 1 occurred\""
     ]
    },
    {
     "name": "stdout",
     "output_type": "stream",
     "text": [
      "[1] \"il_util\"\n",
      "[1] \"19:22:51\"\n"
     ]
    },
    {
     "name": "stderr",
     "output_type": "stream",
     "text": [
      "Warning message:\n",
      "\"glm.fit: fitted probabilities numerically 0 or 1 occurred\""
     ]
    },
    {
     "name": "stdout",
     "output_type": "stream",
     "text": [
      "[1] \"open_rv_12m\"\n",
      "[1] \"19:23:17\"\n"
     ]
    },
    {
     "name": "stderr",
     "output_type": "stream",
     "text": [
      "Warning message:\n",
      "\"glm.fit: fitted probabilities numerically 0 or 1 occurred\""
     ]
    },
    {
     "name": "stdout",
     "output_type": "stream",
     "text": [
      "[1] \"open_rv_24m\"\n",
      "[1] \"19:23:42\"\n"
     ]
    },
    {
     "name": "stderr",
     "output_type": "stream",
     "text": [
      "Warning message:\n",
      "\"glm.fit: fitted probabilities numerically 0 or 1 occurred\""
     ]
    },
    {
     "name": "stdout",
     "output_type": "stream",
     "text": [
      "[1] \"max_bal_bc\"\n",
      "[1] \"19:24:08\"\n"
     ]
    },
    {
     "name": "stderr",
     "output_type": "stream",
     "text": [
      "Warning message:\n",
      "\"glm.fit: fitted probabilities numerically 0 or 1 occurred\""
     ]
    },
    {
     "name": "stdout",
     "output_type": "stream",
     "text": [
      "[1] \"all_util\"\n",
      "[1] \"19:24:34\"\n"
     ]
    },
    {
     "name": "stderr",
     "output_type": "stream",
     "text": [
      "Warning message:\n",
      "\"glm.fit: fitted probabilities numerically 0 or 1 occurred\""
     ]
    },
    {
     "name": "stdout",
     "output_type": "stream",
     "text": [
      "[1] \"total_rev_hi_lim\"\n",
      "[1] \"19:24:59\"\n"
     ]
    },
    {
     "name": "stderr",
     "output_type": "stream",
     "text": [
      "Warning message:\n",
      "\"glm.fit: fitted probabilities numerically 0 or 1 occurred\""
     ]
    },
    {
     "name": "stdout",
     "output_type": "stream",
     "text": [
      "[1] \"inq_fi\"\n",
      "[1] \"19:25:15\"\n"
     ]
    },
    {
     "name": "stderr",
     "output_type": "stream",
     "text": [
      "Warning message:\n",
      "\"glm.fit: fitted probabilities numerically 0 or 1 occurred\""
     ]
    },
    {
     "name": "stdout",
     "output_type": "stream",
     "text": [
      "[1] \"total_cu_tl\"\n",
      "[1] \"19:25:40\"\n"
     ]
    },
    {
     "name": "stderr",
     "output_type": "stream",
     "text": [
      "Warning message:\n",
      "\"glm.fit: fitted probabilities numerically 0 or 1 occurred\""
     ]
    },
    {
     "name": "stdout",
     "output_type": "stream",
     "text": [
      "[1] \"inq_last_12m\"\n",
      "[1] \"19:26:06\"\n"
     ]
    },
    {
     "name": "stderr",
     "output_type": "stream",
     "text": [
      "Warning message:\n",
      "\"glm.fit: fitted probabilities numerically 0 or 1 occurred\""
     ]
    },
    {
     "name": "stdout",
     "output_type": "stream",
     "text": [
      "[1] \"mths_since_last_delinq_rt\"\n",
      "[1] \"19:26:31\"\n"
     ]
    }
   ],
   "source": [
    "missDF <- getMissingTreatment(loans,missingcols_dummy,missingVars,fullVars)"
   ]
  },
  {
   "cell_type": "code",
   "execution_count": 18,
   "metadata": {},
   "outputs": [
    {
     "data": {
      "text/html": [
       "<table>\n",
       "<thead><tr><th scope=col>var</th><th scope=col>na.count</th><th scope=col>na.rate</th><th scope=col>missing mechanism</th><th scope=col>siginificant vars count</th><th scope=col>siginificant vars</th><th scope=col>possible action</th></tr></thead>\n",
       "<tbody>\n",
       "\t<tr><td>mths_since_last_major_derog</td><td>207432                     </td><td> 81.4                      </td><td>MNAR                       </td><td>34                         </td><td>                           </td><td>Drop Column                </td></tr>\n",
       "\t<tr><td>mths_since_last_delinq     </td><td>141632                     </td><td> 55.6                      </td><td>MNAR                       </td><td>25                         </td><td>                           </td><td>Drop Column                </td></tr>\n",
       "\t<tr><td>mths_since_last_record     </td><td>222601                     </td><td> 87.4                      </td><td>MNAR                       </td><td>44                         </td><td>                           </td><td>Drop Column                </td></tr>\n",
       "\t<tr><td>tot_coll_amt               </td><td> 66095                     </td><td> 25.9                      </td><td>MNAR                       </td><td>30                         </td><td>                           </td><td>Drop Column                </td></tr>\n",
       "\t<tr><td>tot_cur_bal                </td><td> 66094                     </td><td> 25.9                      </td><td>MNAR                       </td><td>29                         </td><td>                           </td><td>Drop Column                </td></tr>\n",
       "\t<tr><td>open_acc_6m                </td><td>254794                     </td><td>100.0                      </td><td>MNAR                       </td><td> 0                         </td><td>                           </td><td>Drop Column                </td></tr>\n",
       "\t<tr><td>open_il_6m                 </td><td>254794                     </td><td>100.0                      </td><td>MNAR                       </td><td> 0                         </td><td>                           </td><td>Drop Column                </td></tr>\n",
       "\t<tr><td>open_il_12m                </td><td>254794                     </td><td>100.0                      </td><td>MNAR                       </td><td> 0                         </td><td>                           </td><td>Drop Column                </td></tr>\n",
       "\t<tr><td>open_il_24m                </td><td>254794                     </td><td>100.0                      </td><td>MNAR                       </td><td> 0                         </td><td>                           </td><td>Drop Column                </td></tr>\n",
       "\t<tr><td>mths_since_rcnt_il         </td><td>254794                     </td><td>100.0                      </td><td>MNAR                       </td><td> 0                         </td><td>                           </td><td>Drop Column                </td></tr>\n",
       "\t<tr><td>total_bal_il               </td><td>254794                     </td><td>100.0                      </td><td>MNAR                       </td><td> 0                         </td><td>                           </td><td>Drop Column                </td></tr>\n",
       "\t<tr><td>il_util                    </td><td>254794                     </td><td>100.0                      </td><td>MNAR                       </td><td> 0                         </td><td>                           </td><td>Drop Column                </td></tr>\n",
       "\t<tr><td>open_rv_12m                </td><td>254794                     </td><td>100.0                      </td><td>MNAR                       </td><td> 0                         </td><td>                           </td><td>Drop Column                </td></tr>\n",
       "\t<tr><td>open_rv_24m                </td><td>254794                     </td><td>100.0                      </td><td>MNAR                       </td><td> 0                         </td><td>                           </td><td>Drop Column                </td></tr>\n",
       "\t<tr><td>max_bal_bc                 </td><td>254794                     </td><td>100.0                      </td><td>MNAR                       </td><td> 0                         </td><td>                           </td><td>Drop Column                </td></tr>\n",
       "\t<tr><td>all_util                   </td><td>254794                     </td><td>100.0                      </td><td>MNAR                       </td><td> 0                         </td><td>                           </td><td>Drop Column                </td></tr>\n",
       "\t<tr><td>total_rev_hi_lim           </td><td> 66094                     </td><td> 25.9                      </td><td>MNAR                       </td><td>29                         </td><td>                           </td><td>Drop Column                </td></tr>\n",
       "\t<tr><td>inq_fi                     </td><td>254794                     </td><td>100.0                      </td><td>MNAR                       </td><td> 0                         </td><td>                           </td><td>Drop Column                </td></tr>\n",
       "\t<tr><td>total_cu_tl                </td><td>254794                     </td><td>100.0                      </td><td>MNAR                       </td><td> 0                         </td><td>                           </td><td>Drop Column                </td></tr>\n",
       "\t<tr><td>inq_last_12m               </td><td>254794                     </td><td>100.0                      </td><td>MNAR                       </td><td> 0                         </td><td>                           </td><td>Drop Column                </td></tr>\n",
       "\t<tr><td>mths_since_last_delinq_rt  </td><td>141632                     </td><td> 55.6                      </td><td>MNAR                       </td><td>25                         </td><td>                           </td><td>Drop Column                </td></tr>\n",
       "</tbody>\n",
       "</table>\n"
      ],
      "text/latex": [
       "\\begin{tabular}{r|lllllll}\n",
       " var & na.count & na.rate & missing mechanism & siginificant vars count & siginificant vars & possible action\\\\\n",
       "\\hline\n",
       "\t mths\\_since\\_last\\_major\\_derog & 207432                              &  81.4                               & MNAR                                & 34                                  &                                     & Drop Column                        \\\\\n",
       "\t mths\\_since\\_last\\_delinq      & 141632                            &  55.6                             & MNAR                              & 25                                &                                   & Drop Column                      \\\\\n",
       "\t mths\\_since\\_last\\_record      & 222601                            &  87.4                             & MNAR                              & 44                                &                                   & Drop Column                      \\\\\n",
       "\t tot\\_coll\\_amt                &  66095                          &  25.9                           & MNAR                            & 30                              &                                 & Drop Column                    \\\\\n",
       "\t tot\\_cur\\_bal                 &  66094                          &  25.9                           & MNAR                            & 29                              &                                 & Drop Column                    \\\\\n",
       "\t open\\_acc\\_6m                 & 254794                          & 100.0                           & MNAR                            &  0                              &                                 & Drop Column                    \\\\\n",
       "\t open\\_il\\_6m                  & 254794                          & 100.0                           & MNAR                            &  0                              &                                 & Drop Column                    \\\\\n",
       "\t open\\_il\\_12m                 & 254794                          & 100.0                           & MNAR                            &  0                              &                                 & Drop Column                    \\\\\n",
       "\t open\\_il\\_24m                 & 254794                          & 100.0                           & MNAR                            &  0                              &                                 & Drop Column                    \\\\\n",
       "\t mths\\_since\\_rcnt\\_il          & 254794                            & 100.0                             & MNAR                              &  0                                &                                   & Drop Column                      \\\\\n",
       "\t total\\_bal\\_il                & 254794                          & 100.0                           & MNAR                            &  0                              &                                 & Drop Column                    \\\\\n",
       "\t il\\_util                     & 254794                        & 100.0                         & MNAR                          &  0                            &                               & Drop Column                  \\\\\n",
       "\t open\\_rv\\_12m                 & 254794                          & 100.0                           & MNAR                            &  0                              &                                 & Drop Column                    \\\\\n",
       "\t open\\_rv\\_24m                 & 254794                          & 100.0                           & MNAR                            &  0                              &                                 & Drop Column                    \\\\\n",
       "\t max\\_bal\\_bc                  & 254794                          & 100.0                           & MNAR                            &  0                              &                                 & Drop Column                    \\\\\n",
       "\t all\\_util                    & 254794                        & 100.0                         & MNAR                          &  0                            &                               & Drop Column                  \\\\\n",
       "\t total\\_rev\\_hi\\_lim            &  66094                            &  25.9                             & MNAR                              & 29                                &                                   & Drop Column                      \\\\\n",
       "\t inq\\_fi                      & 254794                        & 100.0                         & MNAR                          &  0                            &                               & Drop Column                  \\\\\n",
       "\t total\\_cu\\_tl                 & 254794                          & 100.0                           & MNAR                            &  0                              &                                 & Drop Column                    \\\\\n",
       "\t inq\\_last\\_12m                & 254794                          & 100.0                           & MNAR                            &  0                              &                                 & Drop Column                    \\\\\n",
       "\t mths\\_since\\_last\\_delinq\\_rt   & 141632                              &  55.6                               & MNAR                                & 25                                  &                                     & Drop Column                        \\\\\n",
       "\\end{tabular}\n"
      ],
      "text/markdown": [
       "\n",
       "var | na.count | na.rate | missing mechanism | siginificant vars count | siginificant vars | possible action | \n",
       "|---|---|---|---|---|---|---|---|---|---|---|---|---|---|---|---|---|---|---|---|---|\n",
       "| mths_since_last_major_derog | 207432                      |  81.4                       | MNAR                        | 34                          |                             | Drop Column                 | \n",
       "| mths_since_last_delinq      | 141632                      |  55.6                       | MNAR                        | 25                          |                             | Drop Column                 | \n",
       "| mths_since_last_record      | 222601                      |  87.4                       | MNAR                        | 44                          |                             | Drop Column                 | \n",
       "| tot_coll_amt                |  66095                      |  25.9                       | MNAR                        | 30                          |                             | Drop Column                 | \n",
       "| tot_cur_bal                 |  66094                      |  25.9                       | MNAR                        | 29                          |                             | Drop Column                 | \n",
       "| open_acc_6m                 | 254794                      | 100.0                       | MNAR                        |  0                          |                             | Drop Column                 | \n",
       "| open_il_6m                  | 254794                      | 100.0                       | MNAR                        |  0                          |                             | Drop Column                 | \n",
       "| open_il_12m                 | 254794                      | 100.0                       | MNAR                        |  0                          |                             | Drop Column                 | \n",
       "| open_il_24m                 | 254794                      | 100.0                       | MNAR                        |  0                          |                             | Drop Column                 | \n",
       "| mths_since_rcnt_il          | 254794                      | 100.0                       | MNAR                        |  0                          |                             | Drop Column                 | \n",
       "| total_bal_il                | 254794                      | 100.0                       | MNAR                        |  0                          |                             | Drop Column                 | \n",
       "| il_util                     | 254794                      | 100.0                       | MNAR                        |  0                          |                             | Drop Column                 | \n",
       "| open_rv_12m                 | 254794                      | 100.0                       | MNAR                        |  0                          |                             | Drop Column                 | \n",
       "| open_rv_24m                 | 254794                      | 100.0                       | MNAR                        |  0                          |                             | Drop Column                 | \n",
       "| max_bal_bc                  | 254794                      | 100.0                       | MNAR                        |  0                          |                             | Drop Column                 | \n",
       "| all_util                    | 254794                      | 100.0                       | MNAR                        |  0                          |                             | Drop Column                 | \n",
       "| total_rev_hi_lim            |  66094                      |  25.9                       | MNAR                        | 29                          |                             | Drop Column                 | \n",
       "| inq_fi                      | 254794                      | 100.0                       | MNAR                        |  0                          |                             | Drop Column                 | \n",
       "| total_cu_tl                 | 254794                      | 100.0                       | MNAR                        |  0                          |                             | Drop Column                 | \n",
       "| inq_last_12m                | 254794                      | 100.0                       | MNAR                        |  0                          |                             | Drop Column                 | \n",
       "| mths_since_last_delinq_rt   | 141632                      |  55.6                       | MNAR                        | 25                          |                             | Drop Column                 | \n",
       "\n",
       "\n"
      ],
      "text/plain": [
       "   var                         na.count na.rate missing mechanism\n",
       "1  mths_since_last_major_derog 207432    81.4   MNAR             \n",
       "2  mths_since_last_delinq      141632    55.6   MNAR             \n",
       "3  mths_since_last_record      222601    87.4   MNAR             \n",
       "4  tot_coll_amt                 66095    25.9   MNAR             \n",
       "5  tot_cur_bal                  66094    25.9   MNAR             \n",
       "6  open_acc_6m                 254794   100.0   MNAR             \n",
       "7  open_il_6m                  254794   100.0   MNAR             \n",
       "8  open_il_12m                 254794   100.0   MNAR             \n",
       "9  open_il_24m                 254794   100.0   MNAR             \n",
       "10 mths_since_rcnt_il          254794   100.0   MNAR             \n",
       "11 total_bal_il                254794   100.0   MNAR             \n",
       "12 il_util                     254794   100.0   MNAR             \n",
       "13 open_rv_12m                 254794   100.0   MNAR             \n",
       "14 open_rv_24m                 254794   100.0   MNAR             \n",
       "15 max_bal_bc                  254794   100.0   MNAR             \n",
       "16 all_util                    254794   100.0   MNAR             \n",
       "17 total_rev_hi_lim             66094    25.9   MNAR             \n",
       "18 inq_fi                      254794   100.0   MNAR             \n",
       "19 total_cu_tl                 254794   100.0   MNAR             \n",
       "20 inq_last_12m                254794   100.0   MNAR             \n",
       "21 mths_since_last_delinq_rt   141632    55.6   MNAR             \n",
       "   siginificant vars count siginificant vars possible action\n",
       "1  34                                        Drop Column    \n",
       "2  25                                        Drop Column    \n",
       "3  44                                        Drop Column    \n",
       "4  30                                        Drop Column    \n",
       "5  29                                        Drop Column    \n",
       "6   0                                        Drop Column    \n",
       "7   0                                        Drop Column    \n",
       "8   0                                        Drop Column    \n",
       "9   0                                        Drop Column    \n",
       "10  0                                        Drop Column    \n",
       "11  0                                        Drop Column    \n",
       "12  0                                        Drop Column    \n",
       "13  0                                        Drop Column    \n",
       "14  0                                        Drop Column    \n",
       "15  0                                        Drop Column    \n",
       "16  0                                        Drop Column    \n",
       "17 29                                        Drop Column    \n",
       "18  0                                        Drop Column    \n",
       "19  0                                        Drop Column    \n",
       "20  0                                        Drop Column    \n",
       "21 25                                        Drop Column    "
      ]
     },
     "metadata": {},
     "output_type": "display_data"
    }
   ],
   "source": [
    "missDF"
   ]
  },
  {
   "cell_type": "markdown",
   "metadata": {},
   "source": [
    "We see that all of the columns have MNAR mechanism, there are columns that have 0 significant variables but they have 100% NA rate therefore they are labeled also as MNAR"
   ]
  },
  {
   "cell_type": "code",
   "execution_count": 60,
   "metadata": {},
   "outputs": [],
   "source": [
    "#function that treats the missing value in the data\n",
    "treatMissing <- function (data,missDF) {\n",
    "    misAction <- missDF%>%select(\"var\",\"possible action\")\n",
    "    misAction$\"possible action\"<-as.character(misAction$\"possible action\")\n",
    "    i <-1\n",
    "for (v in misAction$var){\n",
    "    action <- misAction[i,2]\n",
    "    print(v)\n",
    "    #print(action)\n",
    "        if (action == \"Drop Column\"){\n",
    "           # print(\"Drop Column\")\n",
    "            data <- data%>%select(-one_of(v))\n",
    "        }\n",
    "        else if (action == \"Drop Rows\"){\n",
    "            #print (\"drop rows\")\n",
    "        \n",
    "            #print ( paste0(\"numrows before\",nrow(data)) )\n",
    "            data <- data[!is.na(data[[v]]) ,]\n",
    "            #print ( paste0(\"numrows after\",nrow(data)) )\n",
    "        }\n",
    "        else{\n",
    "          print (\"imputation\")\n",
    "        }\n",
    "        i <- i + 1\n",
    "    }\n",
    "    return(data)\n",
    "}"
   ]
  },
  {
   "cell_type": "code",
   "execution_count": 61,
   "metadata": {},
   "outputs": [
    {
     "name": "stdout",
     "output_type": "stream",
     "text": [
      "[1] \"mths_since_last_major_derog\"\n",
      "[1] \"mths_since_last_delinq\"\n",
      "[1] \"mths_since_last_record\"\n",
      "[1] \"tot_coll_amt\"\n",
      "[1] \"tot_cur_bal\"\n",
      "[1] \"open_acc_6m\"\n",
      "[1] \"open_il_6m\"\n",
      "[1] \"open_il_12m\"\n",
      "[1] \"open_il_24m\"\n",
      "[1] \"mths_since_rcnt_il\"\n",
      "[1] \"total_bal_il\"\n",
      "[1] \"il_util\"\n",
      "[1] \"open_rv_12m\"\n",
      "[1] \"open_rv_24m\"\n",
      "[1] \"max_bal_bc\"\n",
      "[1] \"all_util\"\n",
      "[1] \"total_rev_hi_lim\"\n",
      "[1] \"inq_fi\"\n",
      "[1] \"total_cu_tl\"\n",
      "[1] \"inq_last_12m\"\n",
      "[1] \"mths_since_last_delinq_rt\"\n"
     ]
    },
    {
     "data": {
      "text/html": [
       "<ol class=list-inline>\n",
       "\t<li>254794</li>\n",
       "\t<li>66</li>\n",
       "</ol>\n"
      ],
      "text/latex": [
       "\\begin{enumerate*}\n",
       "\\item 254794\n",
       "\\item 66\n",
       "\\end{enumerate*}\n"
      ],
      "text/markdown": [
       "1. 254794\n",
       "2. 66\n",
       "\n",
       "\n"
      ],
      "text/plain": [
       "[1] 254794     66"
      ]
     },
     "metadata": {},
     "output_type": "display_data"
    },
    {
     "data": {
      "text/html": [
       "<ol class=list-inline>\n",
       "\t<li>254794</li>\n",
       "\t<li>45</li>\n",
       "</ol>\n"
      ],
      "text/latex": [
       "\\begin{enumerate*}\n",
       "\\item 254794\n",
       "\\item 45\n",
       "\\end{enumerate*}\n"
      ],
      "text/markdown": [
       "1. 254794\n",
       "2. 45\n",
       "\n",
       "\n"
      ],
      "text/plain": [
       "[1] 254794     45"
      ]
     },
     "metadata": {},
     "output_type": "display_data"
    }
   ],
   "source": [
    "loans <- copy1\n",
    "loans2 <- treatMissing(loans,missDF)\n",
    "dim(loans)\n",
    "dim(loans2)"
   ]
  },
  {
   "cell_type": "code",
   "execution_count": 63,
   "metadata": {},
   "outputs": [],
   "source": [
    "##saving table\n",
    "writeSQL(loans2, \"loans_dataset_missing\")"
   ]
  }
 ],
 "metadata": {
  "kernelspec": {
   "display_name": "R",
   "language": "R",
   "name": "ir"
  },
  "language_info": {
   "codemirror_mode": "r",
   "file_extension": ".r",
   "mimetype": "text/x-r-source",
   "name": "R",
   "pygments_lexer": "r",
   "version": "3.5.1"
  }
 },
 "nbformat": 4,
 "nbformat_minor": 2
}
