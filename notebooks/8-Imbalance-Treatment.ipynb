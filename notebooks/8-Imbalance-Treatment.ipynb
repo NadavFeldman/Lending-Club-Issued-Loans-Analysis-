{
 "cells": [
  {
   "cell_type": "markdown",
   "metadata": {},
   "source": [
    "# Inbalance Treatment"
   ]
  },
  {
   "cell_type": "code",
   "execution_count": 1,
   "metadata": {},
   "outputs": [
    {
     "name": "stderr",
     "output_type": "stream",
     "text": [
      "Loading required package: imbalance\n",
      "Warning message:\n",
      "\"package 'imbalance' was built under R version 3.5.2\"Loading required package: ROSE\n",
      "Warning message:\n",
      "\"package 'ROSE' was built under R version 3.5.2\"Loaded ROSE 0.0-3\n",
      "\n",
      "Loading required package: partykit\n",
      "Loading required package: grid\n",
      "Loading required package: libcoin\n",
      "Loading required package: mvtnorm\n",
      "Loading required package: dplyr\n",
      "\n",
      "Attaching package: 'dplyr'\n",
      "\n",
      "The following objects are masked from 'package:stats':\n",
      "\n",
      "    filter, lag\n",
      "\n",
      "The following objects are masked from 'package:base':\n",
      "\n",
      "    intersect, setdiff, setequal, union\n",
      "\n",
      "Loading required package: ggplot2\n",
      "Loading required package: DBI\n",
      "Loading required package: RSQLite\n"
     ]
    }
   ],
   "source": [
    "if(!require(imbalance)){install.packages(\"imbalance\");require(imbalance)}\n",
    "### ROSE = Random Over-Sampling Examples\n",
    "if(!require(ROSE)){install.packages(\"ROSE\");require(ROSE)}\n",
    "if(!require(partykit)){install.packages(\"partykit\");require(partykit)}\n",
    "if(!require(dplyr)) {install.packages(\"dplyr\");require(dplyr)}\n",
    "if(!require(ggplot2)) {install.packages(\"ggplot2\");require(ggplot2)}\n",
    "if(!require(DBI)){install.packages(\"DBI\"); require(DBI)}\n",
    "if(!require(RSQLite)){install.packages(\"RSQLite\"); require(RSQLite)}\n"
   ]
  },
  {
   "cell_type": "code",
   "execution_count": 2,
   "metadata": {},
   "outputs": [],
   "source": [
    "##############################################################################\n",
    "##########                DATABASE FUNCTIONS                     #############\n",
    "##############################################################################\n",
    "            \n",
    "#### Read function to import data from the SQL to a pandas dataframe.\n",
    "readSQL <- function(query, db=DB_FILE) {\n",
    "    require(DBI)\n",
    "    require(RSQLite)\n",
    "    con <- dbConnect(SQLite(), DB_FILE)\n",
    "    df <- dbGetQuery(con, query)\n",
    "    return(df)\n",
    "}\n",
    "#### Write a pandas dataframe into an SQL table. Use overwrite=True if you want to delete \n",
    "#### first a pre-existent table with the same name. Use append=True if you want to append\n",
    "#### the data in the dataframe to a pre-existent table.\n",
    "writeSQL <- function(df,tablename,overwrite=FALSE, append=FALSE,db=DB_FILE) {\n",
    "    require(DBI)\n",
    "    require(RSQLite)\n",
    "    con <- dbConnect(SQLite(), DB_FILE)\n",
    "    dbWriteTable(con,tablename,df,overwrite,append)\n",
    "}\n",
    "####\n",
    "listTables <- function(db=DB_FILE) {\n",
    "    require(DBI)\n",
    "    require(RSQLite)\n",
    "    con <- dbConnect(SQLite(), DB_FILE)\n",
    "    ### list the tables on the DB\n",
    "    res <- dbListTables(con)\n",
    "    return(res)\n",
    "} "
   ]
  },
  {
   "cell_type": "code",
   "execution_count": 3,
   "metadata": {},
   "outputs": [
    {
     "data": {
      "text/html": [
       "<ol class=list-inline>\n",
       "\t<li>'X_dev'</li>\n",
       "\t<li>'X_dev_scaled'</li>\n",
       "\t<li>'X_test'</li>\n",
       "\t<li>'X_test_scaled'</li>\n",
       "\t<li>'X_train'</li>\n",
       "\t<li>'X_train_rose'</li>\n",
       "\t<li>'X_train_scaled'</li>\n",
       "\t<li>'Y_dev'</li>\n",
       "\t<li>'Y_test'</li>\n",
       "\t<li>'Y_train'</li>\n",
       "\t<li>'Y_train_rose'</li>\n",
       "\t<li>'full_dataset'</li>\n",
       "\t<li>'loans_dataset'</li>\n",
       "\t<li>'loans_dataset_eng'</li>\n",
       "\t<li>'loans_dataset_missing'</li>\n",
       "\t<li>'loans_dataset_outliers'</li>\n",
       "</ol>\n"
      ],
      "text/latex": [
       "\\begin{enumerate*}\n",
       "\\item 'X\\_dev'\n",
       "\\item 'X\\_dev\\_scaled'\n",
       "\\item 'X\\_test'\n",
       "\\item 'X\\_test\\_scaled'\n",
       "\\item 'X\\_train'\n",
       "\\item 'X\\_train\\_rose'\n",
       "\\item 'X\\_train\\_scaled'\n",
       "\\item 'Y\\_dev'\n",
       "\\item 'Y\\_test'\n",
       "\\item 'Y\\_train'\n",
       "\\item 'Y\\_train\\_rose'\n",
       "\\item 'full\\_dataset'\n",
       "\\item 'loans\\_dataset'\n",
       "\\item 'loans\\_dataset\\_eng'\n",
       "\\item 'loans\\_dataset\\_missing'\n",
       "\\item 'loans\\_dataset\\_outliers'\n",
       "\\end{enumerate*}\n"
      ],
      "text/markdown": [
       "1. 'X_dev'\n",
       "2. 'X_dev_scaled'\n",
       "3. 'X_test'\n",
       "4. 'X_test_scaled'\n",
       "5. 'X_train'\n",
       "6. 'X_train_rose'\n",
       "7. 'X_train_scaled'\n",
       "8. 'Y_dev'\n",
       "9. 'Y_test'\n",
       "10. 'Y_train'\n",
       "11. 'Y_train_rose'\n",
       "12. 'full_dataset'\n",
       "13. 'loans_dataset'\n",
       "14. 'loans_dataset_eng'\n",
       "15. 'loans_dataset_missing'\n",
       "16. 'loans_dataset_outliers'\n",
       "\n",
       "\n"
      ],
      "text/plain": [
       " [1] \"X_dev\"                  \"X_dev_scaled\"           \"X_test\"                \n",
       " [4] \"X_test_scaled\"          \"X_train\"                \"X_train_rose\"          \n",
       " [7] \"X_train_scaled\"         \"Y_dev\"                  \"Y_test\"                \n",
       "[10] \"Y_train\"                \"Y_train_rose\"           \"full_dataset\"          \n",
       "[13] \"loans_dataset\"          \"loans_dataset_eng\"      \"loans_dataset_missing\" \n",
       "[16] \"loans_dataset_outliers\""
      ]
     },
     "metadata": {},
     "output_type": "display_data"
    }
   ],
   "source": [
    "### load data\n",
    "DB_FILE = (paste0(getwd(),\"/Data/loans.db\"))\n",
    "listTables()\n",
    "loansX = readSQL(\"SELECT * FROM X_train_scaled\")\n",
    "loansY = readSQL(\"SELECT [default] FROM Y_train\")\n"
   ]
  },
  {
   "cell_type": "code",
   "execution_count": 4,
   "metadata": {},
   "outputs": [],
   "source": [
    "train = cbind(loansX,loansY)"
   ]
  },
  {
   "cell_type": "code",
   "execution_count": 5,
   "metadata": {},
   "outputs": [],
   "source": [
    "loansX = readSQL(\"SELECT * FROM X_dev_scaled\")\n",
    "loansY = readSQL(\"SELECT [default] FROM Y_dev\")"
   ]
  },
  {
   "cell_type": "code",
   "execution_count": 6,
   "metadata": {},
   "outputs": [],
   "source": [
    "dev = cbind(loansX,loansY)"
   ]
  },
  {
   "cell_type": "code",
   "execution_count": 7,
   "metadata": {},
   "outputs": [],
   "source": [
    "train <- train%>%select(-one_of(c('index')))\n",
    "dev <- dev%>%select(-one_of(c('index')))"
   ]
  },
  {
   "cell_type": "code",
   "execution_count": 8,
   "metadata": {},
   "outputs": [
    {
     "data": {
      "text/plain": [
       "\n",
       "     0      1 \n",
       "167067  36769 "
      ]
     },
     "metadata": {},
     "output_type": "display_data"
    },
    {
     "data": {
      "text/plain": [
       "\n",
       "       0        1 \n",
       "81.96148 18.03852 "
      ]
     },
     "metadata": {},
     "output_type": "display_data"
    }
   ],
   "source": [
    "table(train$default)\n",
    "table(train$default)/nrow(train)*100"
   ]
  },
  {
   "cell_type": "code",
   "execution_count": 9,
   "metadata": {},
   "outputs": [
    {
     "data": {
      "text/html": [
       "<table>\n",
       "<thead><tr><th scope=col>numPositive</th><th scope=col>numNegative</th><th scope=col>nInstances</th></tr></thead>\n",
       "<tbody>\n",
       "\t<tr><td>36769 </td><td>167067</td><td>130298</td></tr>\n",
       "</tbody>\n",
       "</table>\n"
      ],
      "text/latex": [
       "\\begin{tabular}{lll}\n",
       " numPositive & numNegative & nInstances\\\\\n",
       "\\hline\n",
       "\t 36769  & 167067 & 130298\\\\\n",
       "\\end{tabular}\n"
      ],
      "text/markdown": [
       "\n",
       "numPositive | numNegative | nInstances | \n",
       "|---|\n",
       "| 36769  | 167067 | 130298 | \n",
       "\n",
       "\n"
      ],
      "text/plain": [
       "     numPositive numNegative nInstances\n",
       "[1,] 36769       167067      130298    "
      ]
     },
     "metadata": {},
     "output_type": "display_data"
    }
   ],
   "source": [
    "numPositive <- length(which(train$default == 1))\n",
    "numNegative <- length(which(train$default == 0))\n",
    "nInstances <- numNegative - numPositive\n",
    "cbind(numPositive=numPositive,numNegative=numNegative,nInstances=nInstances)"
   ]
  },
  {
   "cell_type": "markdown",
   "metadata": {},
   "source": [
    "## Baseline model performance with the unbalanced dataset"
   ]
  },
  {
   "cell_type": "code",
   "execution_count": 12,
   "metadata": {},
   "outputs": [
    {
     "name": "stderr",
     "output_type": "stream",
     "text": [
      "Warning message in min(diff(sort(ux))):\n",
      "\"no non-missing arguments to min; returning Inf\""
     ]
    },
    {
     "data": {
      "text/html": [
       "0.655611068904266"
      ],
      "text/latex": [
       "0.655611068904266"
      ],
      "text/markdown": [
       "0.655611068904266"
      ],
      "text/plain": [
       "Area under the curve: 0.6556"
      ]
     },
     "metadata": {},
     "output_type": "display_data"
    }
   ],
   "source": [
    "mod1 <- ctree(default ~., data=train)\n",
    "auc1 <- pROC::auc(dev$default, predict(mod1,newdata=dev,type=\"response\"))\n",
    "auc1"
   ]
  },
  {
   "cell_type": "markdown",
   "metadata": {},
   "source": [
    "# Imbalance treatment\n",
    " \n",
    "### Under Sampling"
   ]
  },
  {
   "cell_type": "code",
   "execution_count": 13,
   "metadata": {},
   "outputs": [
    {
     "data": {
      "text/plain": [
       "\n",
       "    0     1 \n",
       "36769 36769 "
      ]
     },
     "metadata": {},
     "output_type": "display_data"
    }
   ],
   "source": [
    "#under sampling\n",
    "data_balanced_under <- ovun.sample(default ~ ., data = train, method = \"under\",N = numPositive*2)$data\n",
    "table(data_balanced_under$default)"
   ]
  },
  {
   "cell_type": "code",
   "execution_count": 14,
   "metadata": {},
   "outputs": [
    {
     "name": "stderr",
     "output_type": "stream",
     "text": [
      "Warning message in min(diff(sort(ux))):\n",
      "\"no non-missing arguments to min; returning Inf\""
     ]
    },
    {
     "data": {
      "text/html": [
       "0.65048343093457"
      ],
      "text/latex": [
       "0.65048343093457"
      ],
      "text/markdown": [
       "0.65048343093457"
      ],
      "text/plain": [
       "Area under the curve: 0.6505"
      ]
     },
     "metadata": {},
     "output_type": "display_data"
    }
   ],
   "source": [
    "mod1 <- ctree(default ~., data=data_balanced_under)\n",
    "auc1 <- pROC::auc(dev$default, predict(mod1,newdata=dev,type=\"response\"))\n",
    "auc1"
   ]
  },
  {
   "cell_type": "markdown",
   "metadata": {},
   "source": [
    "### Over Sampling"
   ]
  },
  {
   "cell_type": "code",
   "execution_count": 15,
   "metadata": {
    "scrolled": true
   },
   "outputs": [
    {
     "data": {
      "text/plain": [
       "\n",
       "     0      1 \n",
       "167067 167067 "
      ]
     },
     "metadata": {},
     "output_type": "display_data"
    }
   ],
   "source": [
    "#over sampling\n",
    "data_balanced_over <- ovun.sample(default ~ ., data = train, method = \"over\",N = numNegative*2)$data\n",
    "table(data_balanced_over$default)"
   ]
  },
  {
   "cell_type": "code",
   "execution_count": 16,
   "metadata": {},
   "outputs": [
    {
     "name": "stderr",
     "output_type": "stream",
     "text": [
      "Warning message in min(diff(sort(ux))):\n",
      "\"no non-missing arguments to min; returning Inf\""
     ]
    },
    {
     "data": {
      "text/html": [
       "0.628807012113266"
      ],
      "text/latex": [
       "0.628807012113266"
      ],
      "text/markdown": [
       "0.628807012113266"
      ],
      "text/plain": [
       "Area under the curve: 0.6288"
      ]
     },
     "metadata": {},
     "output_type": "display_data"
    }
   ],
   "source": [
    "mod1 <- ctree(default ~., data=data_balanced_over)\n",
    "auc1 <- pROC::auc(dev$default, predict(mod1, newdata=dev,type=\"response\"))\n",
    "auc1"
   ]
  },
  {
   "cell_type": "markdown",
   "metadata": {},
   "source": [
    "### OverUnder Sampling"
   ]
  },
  {
   "cell_type": "code",
   "execution_count": 17,
   "metadata": {},
   "outputs": [
    {
     "data": {
      "text/plain": [
       "\n",
       "     0      1 \n",
       "101941 101895 "
      ]
     },
     "metadata": {},
     "output_type": "display_data"
    }
   ],
   "source": [
    "#over_under sampling\n",
    "data_balanced_both <- ovun.sample(default ~ ., data = train, method = \"both\", p=0.5, seed = 1207)$data\n",
    "table(data_balanced_both$default)"
   ]
  },
  {
   "cell_type": "code",
   "execution_count": 18,
   "metadata": {},
   "outputs": [
    {
     "name": "stderr",
     "output_type": "stream",
     "text": [
      "Warning message in min(diff(sort(ux))):\n",
      "\"no non-missing arguments to min; returning Inf\""
     ]
    },
    {
     "data": {
      "text/html": [
       "0.630247736915615"
      ],
      "text/latex": [
       "0.630247736915615"
      ],
      "text/markdown": [
       "0.630247736915615"
      ],
      "text/plain": [
       "Area under the curve: 0.6302"
      ]
     },
     "metadata": {},
     "output_type": "display_data"
    }
   ],
   "source": [
    "mod1 <- ctree(default ~., data=data_balanced_both)\n",
    "auc1 <- pROC::auc(dev$default, predict(mod1, newdata=dev,type=\"response\"))\n",
    "auc1"
   ]
  },
  {
   "cell_type": "markdown",
   "metadata": {},
   "source": [
    "### Generation of synthetic data by Randomly Over Sampling Examples (ROSE)."
   ]
  },
  {
   "cell_type": "code",
   "execution_count": 19,
   "metadata": {},
   "outputs": [
    {
     "data": {
      "text/plain": [
       "\n",
       "     0      1 \n",
       "101941 101895 "
      ]
     },
     "metadata": {},
     "output_type": "display_data"
    }
   ],
   "source": [
    "# Rose: \n",
    "data.rose <- ROSE(default ~ ., data = train, seed = 1207)$data\n",
    "table(data.rose$default)"
   ]
  },
  {
   "cell_type": "code",
   "execution_count": 20,
   "metadata": {},
   "outputs": [
    {
     "data": {
      "text/html": [
       "0.646898756617175"
      ],
      "text/latex": [
       "0.646898756617175"
      ],
      "text/markdown": [
       "0.646898756617175"
      ],
      "text/plain": [
       "Area under the curve: 0.6469"
      ]
     },
     "metadata": {},
     "output_type": "display_data"
    }
   ],
   "source": [
    "mod1 <- ctree(default ~., data=data.rose)\n",
    "auc1 <- pROC::auc(dev$default, predict(mod1, newdata=dev,type=\"response\"))\n",
    "auc1"
   ]
  },
  {
   "cell_type": "markdown",
   "metadata": {},
   "source": [
    "## Conclusion"
   ]
  },
  {
   "cell_type": "markdown",
   "metadata": {},
   "source": [
    "For our dataset the best model was for the base dataset <b> for the base dataset </b>\n",
    "therefore we continue to work with this dataset"
   ]
  },
  {
   "cell_type": "code",
   "execution_count": null,
   "metadata": {},
   "outputs": [],
   "source": []
  }
 ],
 "metadata": {
  "kernelspec": {
   "display_name": "R",
   "language": "R",
   "name": "ir"
  },
  "language_info": {
   "codemirror_mode": "r",
   "file_extension": ".r",
   "mimetype": "text/x-r-source",
   "name": "R",
   "pygments_lexer": "r",
   "version": "3.5.1"
  }
 },
 "nbformat": 4,
 "nbformat_minor": 2
}
