{
 "cells": [
  {
   "cell_type": "markdown",
   "metadata": {
    "colab_type": "text",
    "id": "f1Pv02fQ4Wcn"
   },
   "source": [
    "# Model - Hypertuning - Logistic Regression"
   ]
  },
  {
   "cell_type": "code",
   "execution_count": 0,
   "metadata": {
    "colab": {},
    "colab_type": "code",
    "id": "Nbnj55g63joG"
   },
   "outputs": [],
   "source": [
    "import numpy as np\n",
    "import pandas as pd\n",
    "import matplotlib.pyplot as plt\n",
    "from sklearn import metrics\n",
    "from sklearn.linear_model import LogisticRegression\n",
    "import pickle"
   ]
  },
  {
   "cell_type": "code",
   "execution_count": 0,
   "metadata": {
    "colab": {},
    "colab_type": "code",
    "id": "-Ss2wk3e3joK"
   },
   "outputs": [],
   "source": [
    "##############################################################################\n",
    "##########                DATABASE FUNCTIONS                     #############\n",
    "##############################################################################\n",
    "#### Read function to import data from the SQL to a pandas dataframe.\n",
    "def readSQL(query):\n",
    "    import pandas as pd\n",
    "    import sqlite3 as sql3\n",
    "    db = sql3.connect(DB_FILE)\n",
    "    df = pd.read_sql_query(query, db)\n",
    "    db.close()\n",
    "    return(df)\n",
    "\n",
    "#### Write a pandas dataframe into an SQL table. Use overwrite=True if you want to delete \n",
    "#### first a pre-existent table with the same name. Use append=True if you want to append\n",
    "#### the data in the dataframe to a pre-existent table.\n",
    "def writeSQL(df,tablename,overwrite=False, append=False):\n",
    "    import pandas as pd\n",
    "    import sqlite3 as sql\n",
    "    db = sql.connect(DB_FILE)\n",
    "    if (overwrite):\n",
    "        action = \"replace\"\n",
    "    elif (append):\n",
    "        action = \"append\"\n",
    "    else: \n",
    "        action = \"fail\"\n",
    "    df.to_sql(tablename, db, if_exists=action)\n",
    "    db.close()\n",
    "def listTables():\n",
    "    import sqlite3 as sql3\n",
    "    db = sql3.connect(DB_FILE)\n",
    "    cur = db.cursor()\n",
    "    cur.execute(\"SELECT name FROM sqlite_master WHERE type='table';\")\n",
    "    res = cur.fetchall()\n",
    "    cur.close()\n",
    "    db.close()\n",
    "    return(res)"
   ]
  },
  {
   "cell_type": "code",
   "execution_count": 0,
   "metadata": {
    "colab": {},
    "colab_type": "code",
    "id": "EcO8umzK3joM"
   },
   "outputs": [],
   "source": [
    "import os\n",
    "cwd = os.getcwd()\n",
    "DB_FILE = \"%s\\Data\\loans.db\" % cwd"
   ]
  },
  {
   "cell_type": "code",
   "execution_count": 0,
   "metadata": {
    "colab": {},
    "colab_type": "code",
    "id": "BbmMqpmM3joP"
   },
   "outputs": [],
   "source": [
    "X_Train = readSQL('''SELECT * FROM X_train_scaled''')"
   ]
  },
  {
   "cell_type": "code",
   "execution_count": 0,
   "metadata": {
    "colab": {},
    "colab_type": "code",
    "id": "9Q63Lm9c3joT"
   },
   "outputs": [],
   "source": [
    "Y_Train = readSQL('''SELECT * FROM Y_train''')"
   ]
  },
  {
   "cell_type": "code",
   "execution_count": 0,
   "metadata": {
    "colab": {},
    "colab_type": "code",
    "id": "vqrVf1Uj4Wc3"
   },
   "outputs": [],
   "source": [
    "X_Train = X_Train.drop([\"index\"],axis=1)"
   ]
  },
  {
   "cell_type": "code",
   "execution_count": 0,
   "metadata": {
    "colab": {},
    "colab_type": "code",
    "id": "KuhTbiT03joR"
   },
   "outputs": [],
   "source": [
    "Y_Train = Y_Train.drop([\"index\"],axis=1)"
   ]
  },
  {
   "cell_type": "code",
   "execution_count": 0,
   "metadata": {
    "colab": {},
    "colab_type": "code",
    "id": "NQzqFdkA3job"
   },
   "outputs": [],
   "source": [
    "X_Dev = readSQL('''SELECT * FROM X_dev_scaled''')"
   ]
  },
  {
   "cell_type": "code",
   "execution_count": 0,
   "metadata": {
    "colab": {},
    "colab_type": "code",
    "id": "-Nim3i2r3joe"
   },
   "outputs": [],
   "source": [
    "X_Dev = X_Dev.drop([\"index\"],axis=1)"
   ]
  },
  {
   "cell_type": "code",
   "execution_count": 0,
   "metadata": {
    "colab": {},
    "colab_type": "code",
    "id": "e6jq7GUo3jog"
   },
   "outputs": [],
   "source": [
    "Y_Dev = readSQL('''SELECT * FROM Y_dev''')"
   ]
  },
  {
   "cell_type": "code",
   "execution_count": 0,
   "metadata": {
    "colab": {},
    "colab_type": "code",
    "id": "7ne928w73joi"
   },
   "outputs": [],
   "source": [
    "Y_Dev = Y_Dev.drop([\"index\"],axis=1)"
   ]
  },
  {
   "cell_type": "code",
   "execution_count": 0,
   "metadata": {
    "colab": {},
    "colab_type": "code",
    "id": "z6RFhDW-3jol"
   },
   "outputs": [],
   "source": [
    "Y_Train = Y_Train.values.ravel()\n",
    "Y_Dev = Y_Dev.values.ravel()"
   ]
  },
  {
   "cell_type": "markdown",
   "metadata": {
    "colab_type": "text",
    "id": "0IfEPswv4WdJ"
   },
   "source": [
    "## Base Logistic Regression"
   ]
  },
  {
   "cell_type": "code",
   "execution_count": 0,
   "metadata": {
    "colab": {},
    "colab_type": "code",
    "id": "R0ZZI-wk4WdK"
   },
   "outputs": [],
   "source": [
    "# Initialize the predictive model object\n",
    "#mod_logistic = LogisticRegression(random_state=1207,solver =\"saga\", max_iter=10000,C=1)\n",
    "filename= \"%s\\Models\\logistic_base_model.sav\" % cwd\n",
    "mod_logistic = pickle.load(open(filename, 'rb'))"
   ]
  },
  {
   "cell_type": "code",
   "execution_count": 0,
   "metadata": {
    "colab": {},
    "colab_type": "code",
    "id": "4PwUluGu4WdM",
    "outputId": "299e91f3-8119-4aff-f223-3578a32df656"
   },
   "outputs": [
    {
     "data": {
      "text/plain": [
       "LogisticRegression(C=1, class_weight=None, dual=False, fit_intercept=True,\n",
       "          intercept_scaling=1, max_iter=10000, multi_class='ovr', n_jobs=1,\n",
       "          penalty='l2', random_state=1207, solver='saga', tol=0.0001,\n",
       "          verbose=0, warm_start=False)"
      ]
     },
     "execution_count": 14,
     "metadata": {
      "tags": []
     },
     "output_type": "execute_result"
    }
   ],
   "source": [
    "# Train the model using the training sets\n",
    "mod_logistic.fit(X_Train, Y_Train)"
   ]
  },
  {
   "cell_type": "code",
   "execution_count": 0,
   "metadata": {
    "colab": {},
    "colab_type": "code",
    "id": "muLhGRbz4WdR"
   },
   "outputs": [],
   "source": [
    "pred_train = mod_logistic.predict_proba(X_Train)"
   ]
  },
  {
   "cell_type": "code",
   "execution_count": 0,
   "metadata": {
    "colab": {},
    "colab_type": "code",
    "id": "DRFfr8JY4WdU"
   },
   "outputs": [],
   "source": [
    "pred_dev = mod_logistic.predict_proba(X_Dev)"
   ]
  },
  {
   "cell_type": "code",
   "execution_count": 0,
   "metadata": {
    "colab": {},
    "colab_type": "code",
    "id": "2OurTpEa4WdW"
   },
   "outputs": [],
   "source": [
    "train_score = metrics.roc_auc_score(Y_Train, pred_train[:,1])"
   ]
  },
  {
   "cell_type": "code",
   "execution_count": 0,
   "metadata": {
    "colab": {},
    "colab_type": "code",
    "id": "HJRvR4nL4Wda"
   },
   "outputs": [],
   "source": [
    "dev_score = metrics.roc_auc_score(Y_Dev, pred_dev[:,1])"
   ]
  },
  {
   "cell_type": "code",
   "execution_count": 0,
   "metadata": {
    "colab": {},
    "colab_type": "code",
    "id": "fnDtuEsw4Wde",
    "outputId": "e743e654-82ce-4058-9f30-9c3e65cfeba5"
   },
   "outputs": [
    {
     "name": "stdout",
     "output_type": "stream",
     "text": [
      "0.6942647732514526\n",
      "0.6894901040048504\n"
     ]
    }
   ],
   "source": [
    "print(train_score)\n",
    "print(dev_score)"
   ]
  },
  {
   "cell_type": "markdown",
   "metadata": {
    "colab_type": "text",
    "id": "jLkyB-vw4Wdt"
   },
   "source": [
    "## Checking Paramters with GridSearch"
   ]
  },
  {
   "cell_type": "code",
   "execution_count": 0,
   "metadata": {
    "colab": {},
    "colab_type": "code",
    "id": "sOCeYqiw4Wdv"
   },
   "outputs": [],
   "source": [
    "from sklearn.model_selection import GridSearchCV\n",
    "from sklearn.pipeline import Pipeline"
   ]
  },
  {
   "cell_type": "code",
   "execution_count": 0,
   "metadata": {
    "colab": {},
    "colab_type": "code",
    "id": "Esq0hOPT4Wd6",
    "outputId": "83cafe72-1827-4ca1-f863-7454e210e451"
   },
   "outputs": [
    {
     "name": "stdout",
     "output_type": "stream",
     "text": [
      "Fitting 5 folds for each of 12 candidates, totalling 60 fits\n"
     ]
    },
    {
     "name": "stderr",
     "output_type": "stream",
     "text": [
      "[Parallel(n_jobs=2)]: Done  46 tasks      | elapsed: 88.8min\n",
      "[Parallel(n_jobs=2)]: Done  60 out of  60 | elapsed: 153.3min finished\n"
     ]
    },
    {
     "name": "stdout",
     "output_type": "stream",
     "text": [
      "Best score: 0.680\n",
      "Best parameters set:\n",
      "\tmdl__C: 0.01\n",
      "\tmdl__penalty: 'l1'\n",
      "             precision    recall  f1-score   support\n",
      "\n",
      "          0       0.82      1.00      0.90     20869\n",
      "          1       0.53      0.02      0.04      4610\n",
      "\n",
      "avg / total       0.77      0.82      0.74     25479\n",
      "\n"
     ]
    }
   ],
   "source": [
    "pipeline = Pipeline([('mdl',LogisticRegression(random_state=1207,solver =\"saga\", max_iter=10000))])\n",
    "parameters = {\"mdl__C\":(0.001, 0.01, 0.1, 1, 10, 100), \"mdl__penalty\":[\"l1\",\"l2\"]}\n",
    "\n",
    "grid_search = GridSearchCV(pipeline, parameters, n_jobs=2, cv=5,verbose=1, scoring='roc_auc')\n",
    "grid_search.fit(X_Train, Y_Train)\n",
    "print ('Best score: %0.3f' % grid_search.best_score_)\n",
    "print ('Best parameters set:')\n",
    "best_parameters = grid_search.best_estimator_.get_params()\n",
    "for param_name in sorted(parameters.keys()):\n",
    "    print ('\\t%s: %r' % (param_name, best_parameters[param_name]))\n",
    "\n",
    "predictions = grid_search.predict_proba(X_Dev)\n",
    "print (metrics.classification_report(Y_Dev, predictions))"
   ]
  },
  {
   "cell_type": "code",
   "execution_count": 0,
   "metadata": {
    "colab": {},
    "colab_type": "code",
    "id": "NrGLksop4Wd_"
   },
   "outputs": [],
   "source": [
    "predictions = grid_search.predict_proba(X_Dev)\n",
    "print (metrics.classification_report(Y_Dev, predictions))"
   ]
  },
  {
   "cell_type": "markdown",
   "metadata": {
    "colab_type": "text",
    "id": "LKchbxFf4WeL"
   },
   "source": [
    "## Checking the best model by GridSearch"
   ]
  },
  {
   "cell_type": "code",
   "execution_count": 0,
   "metadata": {
    "colab": {},
    "colab_type": "code",
    "id": "bopPym5t4WeM",
    "outputId": "619a72de-4d71-43d3-e3fd-6b53b42718db",
    "scrolled": true
   },
   "outputs": [
    {
     "data": {
      "text/plain": [
       "LogisticRegression(C=0.01, class_weight=None, dual=False, fit_intercept=True,\n",
       "          intercept_scaling=1, max_iter=10000, multi_class='ovr', n_jobs=1,\n",
       "          penalty='l1', random_state=1207, solver='saga', tol=0.0001,\n",
       "          verbose=0, warm_start=False)"
      ]
     },
     "execution_count": 20,
     "metadata": {
      "tags": []
     },
     "output_type": "execute_result"
    }
   ],
   "source": [
    "mod_logistic_searchBest = LogisticRegression(random_state=1207,solver =\"saga\", max_iter=10000,C=0.01,penalty='l1')\n",
    "mod_logistic_searchBest.fit(X_Train, Y_Train)"
   ]
  },
  {
   "cell_type": "code",
   "execution_count": 0,
   "metadata": {
    "colab": {},
    "colab_type": "code",
    "id": "KH6IvHw24WeQ"
   },
   "outputs": [],
   "source": [
    "pred_train_searchBest = mod_logistic_searchBest.predict_proba(X_Train)"
   ]
  },
  {
   "cell_type": "code",
   "execution_count": 0,
   "metadata": {
    "colab": {},
    "colab_type": "code",
    "id": "D87hYx414WeU"
   },
   "outputs": [],
   "source": [
    "pred_dev_searchBest = mod_logistic_searchBest.predict_proba(X_Dev)"
   ]
  },
  {
   "cell_type": "code",
   "execution_count": 0,
   "metadata": {
    "colab": {},
    "colab_type": "code",
    "id": "UgJgtzXp4WeY"
   },
   "outputs": [],
   "source": [
    "train_score_searchBest = metrics.roc_auc_score(Y_Train, pred_train_searchBest[:,1])"
   ]
  },
  {
   "cell_type": "code",
   "execution_count": 0,
   "metadata": {
    "colab": {},
    "colab_type": "code",
    "id": "aoG9135X4Wec"
   },
   "outputs": [],
   "source": [
    "dev_score_searchBest = metrics.roc_auc_score(Y_Dev, pred_dev_searchBest[:,1])"
   ]
  },
  {
   "cell_type": "code",
   "execution_count": 0,
   "metadata": {
    "colab": {},
    "colab_type": "code",
    "id": "DeSucR6Q4Wef",
    "outputId": "e6f2ec7d-7ed6-4b66-85fc-ebc3cfc6d11b"
   },
   "outputs": [
    {
     "name": "stdout",
     "output_type": "stream",
     "text": [
      "0.6907755334747212\n",
      "0.6858102122225318\n"
     ]
    }
   ],
   "source": [
    "print(train_score_searchBest)\n",
    "print(dev_score_searchBest)"
   ]
  },
  {
   "cell_type": "markdown",
   "metadata": {
    "colab_type": "text",
    "id": "c5XM3d6t4Wej"
   },
   "source": [
    "## Changing the parameters manually"
   ]
  },
  {
   "cell_type": "code",
   "execution_count": 0,
   "metadata": {
    "colab": {},
    "colab_type": "code",
    "id": "z2Bbri2b4Wek",
    "outputId": "32b5781f-6b0f-43a9-ce40-f781c8f97143"
   },
   "outputs": [
    {
     "name": "stdout",
     "output_type": "stream",
     "text": [
      "Penalty: l1 | C: 1e-07 | Train AUC: 0.5 | Dev AUC: 0.5 | Train Score: 0.8196147883592693 | Dev Score: 0.8190666823658699\n",
      "Penalty: l1 | C: 1e-06 | Train AUC: 0.5 | Dev AUC: 0.5 | Train Score: 0.8196147883592693 | Dev Score: 0.8190666823658699\n",
      "Penalty: l1 | C: 1e-05 | Train AUC: 0.5 | Dev AUC: 0.5 | Train Score: 0.8196147883592693 | Dev Score: 0.8190666823658699\n",
      "Penalty: l1 | C: 0.0001 | Train AUC: 0.5 | Dev AUC: 0.5 | Train Score: 0.8196147883592693 | Dev Score: 0.8190666823658699\n",
      "Penalty: l1 | C: 0.001 | Train AUC: 0.6798024897358176 | Dev AUC: 0.6769002357335177 | Train Score: 0.8196196942640162 | Dev Score: 0.8191059303740336\n",
      "Penalty: l1 | C: 0.01 | Train AUC: 0.6907755334747212 | Dev AUC: 0.6858102122225318 | Train Score: 0.820066131595989 | Dev Score: 0.8194591624475058\n",
      "Penalty: l1 | C: 0.1 | Train AUC: 0.6940768244759581 | Dev AUC: 0.6891799365300055 | Train Score: 0.8199287662630742 | Dev Score: 0.8202048746026139\n",
      "Penalty: l1 | C: 5 | Train AUC: 0.6942668541949883 | Dev AUC: 0.6895004879628722 | Train Score: 0.8199680135010499 | Dev Score: 0.8201656265944504\n",
      "Penalty: l1 | C: 10 | Train AUC: 0.6942678602366883 | Dev AUC: 0.6895033464097751 | Train Score: 0.8199631075963029 | Dev Score: 0.8201656265944504\n",
      "Penalty: l1 | C: 100 | Train AUC: 0.6942688433250097 | Dev AUC: 0.6895046249151171 | Train Score: 0.819958201691556 | Dev Score: 0.8201656265944504\n",
      "Penalty: l1 | C: 1000 | Train AUC: 0.6942689043712293 | Dev AUC: 0.6895046145207647 | Train Score: 0.819953295786809 | Dev Score: 0.8201656265944504\n",
      "Penalty: l2 | C: 1e-07 | Train AUC: 0.6508961246523747 | Dev AUC: 0.648539432378969 | Train Score: 0.8196147883592693 | Dev Score: 0.8190666823658699\n",
      "Penalty: l2 | C: 1e-06 | Train AUC: 0.6538864735593944 | Dev AUC: 0.6512049601017982 | Train Score: 0.8196147883592693 | Dev Score: 0.8190666823658699\n",
      "Penalty: l2 | C: 1e-05 | Train AUC: 0.6654215477846293 | Dev AUC: 0.661275902596187 | Train Score: 0.8196098824545223 | Dev Score: 0.8190666823658699\n",
      "Penalty: l2 | C: 0.0001 | Train AUC: 0.6812252592216735 | Dev AUC: 0.6760825120322423 | Train Score: 0.8196147883592693 | Dev Score: 0.8190666823658699\n",
      "Penalty: l2 | C: 0.001 | Train AUC: 0.6904735825933146 | Dev AUC: 0.6851973819952563 | Train Score: 0.8199876371200376 | Dev Score: 0.819341418423015\n",
      "Penalty: l2 | C: 0.01 | Train AUC: 0.6937854515207036 | Dev AUC: 0.688667702845007 | Train Score: 0.8199729194057969 | Dev Score: 0.8204403626515955\n",
      "Penalty: l2 | C: 0.1 | Train AUC: 0.6942271179896904 | Dev AUC: 0.6893907443905058 | Train Score: 0.819953295786809 | Dev Score: 0.8202048746026139\n",
      "Penalty: l2 | C: 5 | Train AUC: 0.6942675138197405 | Dev AUC: 0.689504510577241 | Train Score: 0.8199729194057969 | Dev Score: 0.8201656265944504\n",
      "Penalty: l2 | C: 10 | Train AUC: 0.6942678436321166 | Dev AUC: 0.6895054876463642 | Train Score: 0.8199631075963029 | Dev Score: 0.8201656265944504\n",
      "Penalty: l2 | C: 100 | Train AUC: 0.6942683124670835 | Dev AUC: 0.6895065790533635 | Train Score: 0.8199631075963029 | Dev Score: 0.8201656265944504\n",
      "Penalty: l2 | C: 1000 | Train AUC: 0.694268347629706 | Dev AUC: 0.6895065998420682 | Train Score: 0.819958201691556 | Dev Score: 0.8201656265944504\n"
     ]
    }
   ],
   "source": [
    "c_param = [1e-07, 1e-06,1e-05,1e-04,0.001, 0.01, 0.1,5,10,100,1000]\n",
    "l_param = [\"l1\",\"l2\"]\n",
    "res = []\n",
    "for l in l_param:\n",
    "    for i in c_param:\n",
    "        model = LogisticRegression(solver=\"saga\",max_iter=10000, C=i,penalty=l, random_state=1207,n_jobs=2)\n",
    "        model = model.fit(X_Train, Y_Train)\n",
    "        pred_train = model.predict_proba(X_Train)\n",
    "        pred_dev = model.predict_proba(X_Dev)\n",
    "        train_score = metrics.roc_auc_score(Y_Train, pred_train[:,1])\n",
    "        dev_score = metrics.roc_auc_score(Y_Dev, pred_dev[:,1])\n",
    "        res.append([l,i,train_score,dev_score,model.score(X_Train, Y_Train), model.score(X_Dev,Y_Dev)])\n",
    "        print(\"Penalty: %s | C: %s | Train AUC: %s | Dev AUC: %s | Train Score: %s | Dev Score: %s\" % (l,i,train_score,dev_score, model.score(X_Train,Y_Train), model.score(X_Dev,Y_Dev)))\n",
    "\n"
   ]
  },
  {
   "cell_type": "code",
   "execution_count": 0,
   "metadata": {
    "colab": {},
    "colab_type": "code",
    "id": "hGW0aQCW4Weq"
   },
   "outputs": [],
   "source": [
    "res = pd.DataFrame(res, columns=['L','C','Train_auc_score','Dev_auc_score','Train_Score','Dev_score'])"
   ]
  },
  {
   "cell_type": "code",
   "execution_count": 0,
   "metadata": {
    "colab": {},
    "colab_type": "code",
    "id": "e6VVHcEi4Weu"
   },
   "outputs": [],
   "source": [
    "df=res[:-12]\n",
    "df=df.drop(0,axis=1)"
   ]
  },
  {
   "cell_type": "code",
   "execution_count": 0,
   "metadata": {
    "colab": {},
    "colab_type": "code",
    "id": "BOG66nlz4Wex"
   },
   "outputs": [],
   "source": [
    "base = []\n",
    "base.append(['l2',1,train_score,dev_score,mod_logistic.score(X_Train, Y_Train), mod_logistic.score(X_Dev,Y_Dev)])\n",
    "base = pd.DataFrame(base, columns=['L','C','Train_auc_score','Dev_auc_score','Train_Score','Dev_score'])"
   ]
  },
  {
   "cell_type": "code",
   "execution_count": 0,
   "metadata": {
    "colab": {},
    "colab_type": "code",
    "id": "et0MBbKm4We1"
   },
   "outputs": [],
   "source": [
    "df = df.append(base,ignore_index=True,sort=False)"
   ]
  },
  {
   "cell_type": "code",
   "execution_count": 0,
   "metadata": {
    "colab": {},
    "colab_type": "code",
    "id": "m_i803b74WfD"
   },
   "outputs": [],
   "source": [
    "df['AUC_Diff'] = df['Train_auc_score'] - df['Dev_auc_score']"
   ]
  },
  {
   "cell_type": "code",
   "execution_count": 0,
   "metadata": {
    "colab": {},
    "colab_type": "code",
    "id": "deJ4xwGB4WfG",
    "outputId": "cb7f30cd-712c-455b-976f-100e9cb27730"
   },
   "outputs": [
    {
     "data": {
      "text/html": [
       "<div>\n",
       "<style scoped>\n",
       "    .dataframe tbody tr th:only-of-type {\n",
       "        vertical-align: middle;\n",
       "    }\n",
       "\n",
       "    .dataframe tbody tr th {\n",
       "        vertical-align: top;\n",
       "    }\n",
       "\n",
       "    .dataframe thead th {\n",
       "        text-align: right;\n",
       "    }\n",
       "</style>\n",
       "<table border=\"1\" class=\"dataframe\">\n",
       "  <thead>\n",
       "    <tr style=\"text-align: right;\">\n",
       "      <th></th>\n",
       "      <th>L</th>\n",
       "      <th>C</th>\n",
       "      <th>Train_auc_score</th>\n",
       "      <th>Dev_auc_score</th>\n",
       "      <th>Train_Score</th>\n",
       "      <th>Dev_score</th>\n",
       "      <th>AUC_Diff</th>\n",
       "    </tr>\n",
       "  </thead>\n",
       "  <tbody>\n",
       "    <tr>\n",
       "      <th>10</th>\n",
       "      <td>l1</td>\n",
       "      <td>1.000000e+03</td>\n",
       "      <td>0.694269</td>\n",
       "      <td>0.689505</td>\n",
       "      <td>0.819953</td>\n",
       "      <td>0.820166</td>\n",
       "      <td>0.004764</td>\n",
       "    </tr>\n",
       "    <tr>\n",
       "      <th>9</th>\n",
       "      <td>l1</td>\n",
       "      <td>1.000000e+02</td>\n",
       "      <td>0.694269</td>\n",
       "      <td>0.689505</td>\n",
       "      <td>0.819958</td>\n",
       "      <td>0.820166</td>\n",
       "      <td>0.004764</td>\n",
       "    </tr>\n",
       "    <tr>\n",
       "      <th>21</th>\n",
       "      <td>l2</td>\n",
       "      <td>1.000000e+03</td>\n",
       "      <td>0.694268</td>\n",
       "      <td>0.689507</td>\n",
       "      <td>0.819958</td>\n",
       "      <td>0.820166</td>\n",
       "      <td>0.004762</td>\n",
       "    </tr>\n",
       "    <tr>\n",
       "      <th>20</th>\n",
       "      <td>l2</td>\n",
       "      <td>1.000000e+02</td>\n",
       "      <td>0.694268</td>\n",
       "      <td>0.689507</td>\n",
       "      <td>0.819963</td>\n",
       "      <td>0.820166</td>\n",
       "      <td>0.004762</td>\n",
       "    </tr>\n",
       "    <tr>\n",
       "      <th>8</th>\n",
       "      <td>l1</td>\n",
       "      <td>1.000000e+01</td>\n",
       "      <td>0.694268</td>\n",
       "      <td>0.689503</td>\n",
       "      <td>0.819963</td>\n",
       "      <td>0.820166</td>\n",
       "      <td>0.004765</td>\n",
       "    </tr>\n",
       "    <tr>\n",
       "      <th>19</th>\n",
       "      <td>l2</td>\n",
       "      <td>1.000000e+01</td>\n",
       "      <td>0.694268</td>\n",
       "      <td>0.689505</td>\n",
       "      <td>0.819963</td>\n",
       "      <td>0.820166</td>\n",
       "      <td>0.004762</td>\n",
       "    </tr>\n",
       "    <tr>\n",
       "      <th>18</th>\n",
       "      <td>l2</td>\n",
       "      <td>5.000000e+00</td>\n",
       "      <td>0.694268</td>\n",
       "      <td>0.689505</td>\n",
       "      <td>0.819973</td>\n",
       "      <td>0.820166</td>\n",
       "      <td>0.004763</td>\n",
       "    </tr>\n",
       "    <tr>\n",
       "      <th>7</th>\n",
       "      <td>l1</td>\n",
       "      <td>5.000000e+00</td>\n",
       "      <td>0.694267</td>\n",
       "      <td>0.689500</td>\n",
       "      <td>0.819968</td>\n",
       "      <td>0.820166</td>\n",
       "      <td>0.004766</td>\n",
       "    </tr>\n",
       "    <tr>\n",
       "      <th>22</th>\n",
       "      <td>l2</td>\n",
       "      <td>1.000000e+00</td>\n",
       "      <td>0.694265</td>\n",
       "      <td>0.689490</td>\n",
       "      <td>0.819973</td>\n",
       "      <td>0.820126</td>\n",
       "      <td>0.004775</td>\n",
       "    </tr>\n",
       "    <tr>\n",
       "      <th>17</th>\n",
       "      <td>l2</td>\n",
       "      <td>1.000000e-01</td>\n",
       "      <td>0.694227</td>\n",
       "      <td>0.689391</td>\n",
       "      <td>0.819953</td>\n",
       "      <td>0.820205</td>\n",
       "      <td>0.004836</td>\n",
       "    </tr>\n",
       "    <tr>\n",
       "      <th>6</th>\n",
       "      <td>l1</td>\n",
       "      <td>1.000000e-01</td>\n",
       "      <td>0.694077</td>\n",
       "      <td>0.689180</td>\n",
       "      <td>0.819929</td>\n",
       "      <td>0.820205</td>\n",
       "      <td>0.004897</td>\n",
       "    </tr>\n",
       "    <tr>\n",
       "      <th>16</th>\n",
       "      <td>l2</td>\n",
       "      <td>1.000000e-02</td>\n",
       "      <td>0.693785</td>\n",
       "      <td>0.688668</td>\n",
       "      <td>0.819973</td>\n",
       "      <td>0.820440</td>\n",
       "      <td>0.005118</td>\n",
       "    </tr>\n",
       "    <tr>\n",
       "      <th>5</th>\n",
       "      <td>l1</td>\n",
       "      <td>1.000000e-02</td>\n",
       "      <td>0.690776</td>\n",
       "      <td>0.685810</td>\n",
       "      <td>0.820066</td>\n",
       "      <td>0.819459</td>\n",
       "      <td>0.004965</td>\n",
       "    </tr>\n",
       "    <tr>\n",
       "      <th>15</th>\n",
       "      <td>l2</td>\n",
       "      <td>1.000000e-03</td>\n",
       "      <td>0.690474</td>\n",
       "      <td>0.685197</td>\n",
       "      <td>0.819988</td>\n",
       "      <td>0.819341</td>\n",
       "      <td>0.005276</td>\n",
       "    </tr>\n",
       "    <tr>\n",
       "      <th>14</th>\n",
       "      <td>l2</td>\n",
       "      <td>1.000000e-04</td>\n",
       "      <td>0.681225</td>\n",
       "      <td>0.676083</td>\n",
       "      <td>0.819615</td>\n",
       "      <td>0.819067</td>\n",
       "      <td>0.005143</td>\n",
       "    </tr>\n",
       "    <tr>\n",
       "      <th>4</th>\n",
       "      <td>l1</td>\n",
       "      <td>1.000000e-03</td>\n",
       "      <td>0.679802</td>\n",
       "      <td>0.676900</td>\n",
       "      <td>0.819620</td>\n",
       "      <td>0.819106</td>\n",
       "      <td>0.002902</td>\n",
       "    </tr>\n",
       "    <tr>\n",
       "      <th>13</th>\n",
       "      <td>l2</td>\n",
       "      <td>1.000000e-05</td>\n",
       "      <td>0.665422</td>\n",
       "      <td>0.661276</td>\n",
       "      <td>0.819610</td>\n",
       "      <td>0.819067</td>\n",
       "      <td>0.004146</td>\n",
       "    </tr>\n",
       "    <tr>\n",
       "      <th>12</th>\n",
       "      <td>l2</td>\n",
       "      <td>1.000000e-06</td>\n",
       "      <td>0.653886</td>\n",
       "      <td>0.651205</td>\n",
       "      <td>0.819615</td>\n",
       "      <td>0.819067</td>\n",
       "      <td>0.002682</td>\n",
       "    </tr>\n",
       "    <tr>\n",
       "      <th>11</th>\n",
       "      <td>l2</td>\n",
       "      <td>1.000000e-07</td>\n",
       "      <td>0.650896</td>\n",
       "      <td>0.648539</td>\n",
       "      <td>0.819615</td>\n",
       "      <td>0.819067</td>\n",
       "      <td>0.002357</td>\n",
       "    </tr>\n",
       "    <tr>\n",
       "      <th>0</th>\n",
       "      <td>l1</td>\n",
       "      <td>1.000000e-07</td>\n",
       "      <td>0.500000</td>\n",
       "      <td>0.500000</td>\n",
       "      <td>0.819615</td>\n",
       "      <td>0.819067</td>\n",
       "      <td>0.000000</td>\n",
       "    </tr>\n",
       "    <tr>\n",
       "      <th>1</th>\n",
       "      <td>l1</td>\n",
       "      <td>1.000000e-06</td>\n",
       "      <td>0.500000</td>\n",
       "      <td>0.500000</td>\n",
       "      <td>0.819615</td>\n",
       "      <td>0.819067</td>\n",
       "      <td>0.000000</td>\n",
       "    </tr>\n",
       "    <tr>\n",
       "      <th>2</th>\n",
       "      <td>l1</td>\n",
       "      <td>1.000000e-05</td>\n",
       "      <td>0.500000</td>\n",
       "      <td>0.500000</td>\n",
       "      <td>0.819615</td>\n",
       "      <td>0.819067</td>\n",
       "      <td>0.000000</td>\n",
       "    </tr>\n",
       "    <tr>\n",
       "      <th>3</th>\n",
       "      <td>l1</td>\n",
       "      <td>1.000000e-04</td>\n",
       "      <td>0.500000</td>\n",
       "      <td>0.500000</td>\n",
       "      <td>0.819615</td>\n",
       "      <td>0.819067</td>\n",
       "      <td>0.000000</td>\n",
       "    </tr>\n",
       "  </tbody>\n",
       "</table>\n",
       "</div>"
      ],
      "text/plain": [
       "     L             C  Train_auc_score  Dev_auc_score  Train_Score  Dev_score  \\\n",
       "10  l1  1.000000e+03         0.694269       0.689505     0.819953   0.820166   \n",
       "9   l1  1.000000e+02         0.694269       0.689505     0.819958   0.820166   \n",
       "21  l2  1.000000e+03         0.694268       0.689507     0.819958   0.820166   \n",
       "20  l2  1.000000e+02         0.694268       0.689507     0.819963   0.820166   \n",
       "8   l1  1.000000e+01         0.694268       0.689503     0.819963   0.820166   \n",
       "19  l2  1.000000e+01         0.694268       0.689505     0.819963   0.820166   \n",
       "18  l2  5.000000e+00         0.694268       0.689505     0.819973   0.820166   \n",
       "7   l1  5.000000e+00         0.694267       0.689500     0.819968   0.820166   \n",
       "22  l2  1.000000e+00         0.694265       0.689490     0.819973   0.820126   \n",
       "17  l2  1.000000e-01         0.694227       0.689391     0.819953   0.820205   \n",
       "6   l1  1.000000e-01         0.694077       0.689180     0.819929   0.820205   \n",
       "16  l2  1.000000e-02         0.693785       0.688668     0.819973   0.820440   \n",
       "5   l1  1.000000e-02         0.690776       0.685810     0.820066   0.819459   \n",
       "15  l2  1.000000e-03         0.690474       0.685197     0.819988   0.819341   \n",
       "14  l2  1.000000e-04         0.681225       0.676083     0.819615   0.819067   \n",
       "4   l1  1.000000e-03         0.679802       0.676900     0.819620   0.819106   \n",
       "13  l2  1.000000e-05         0.665422       0.661276     0.819610   0.819067   \n",
       "12  l2  1.000000e-06         0.653886       0.651205     0.819615   0.819067   \n",
       "11  l2  1.000000e-07         0.650896       0.648539     0.819615   0.819067   \n",
       "0   l1  1.000000e-07         0.500000       0.500000     0.819615   0.819067   \n",
       "1   l1  1.000000e-06         0.500000       0.500000     0.819615   0.819067   \n",
       "2   l1  1.000000e-05         0.500000       0.500000     0.819615   0.819067   \n",
       "3   l1  1.000000e-04         0.500000       0.500000     0.819615   0.819067   \n",
       "\n",
       "    AUC_Diff  \n",
       "10  0.004764  \n",
       "9   0.004764  \n",
       "21  0.004762  \n",
       "20  0.004762  \n",
       "8   0.004765  \n",
       "19  0.004762  \n",
       "18  0.004763  \n",
       "7   0.004766  \n",
       "22  0.004775  \n",
       "17  0.004836  \n",
       "6   0.004897  \n",
       "16  0.005118  \n",
       "5   0.004965  \n",
       "15  0.005276  \n",
       "14  0.005143  \n",
       "4   0.002902  \n",
       "13  0.004146  \n",
       "12  0.002682  \n",
       "11  0.002357  \n",
       "0   0.000000  \n",
       "1   0.000000  \n",
       "2   0.000000  \n",
       "3   0.000000  "
      ]
     },
     "execution_count": 105,
     "metadata": {
      "tags": []
     },
     "output_type": "execute_result"
    }
   ],
   "source": [
    "df.sort_values(['Train_auc_score', 'Dev_auc_score','AUC_Diff'], ascending=[0, 0 ,0])"
   ]
  },
  {
   "cell_type": "markdown",
   "metadata": {
    "colab_type": "text",
    "id": "BFnxtD4u4WfK"
   },
   "source": [
    "The best models are l1/l2 penalty and c=100,1000"
   ]
  },
  {
   "cell_type": "code",
   "execution_count": 0,
   "metadata": {
    "colab": {},
    "colab_type": "code",
    "id": "qxdv-C214WfL",
    "outputId": "1d586c14-1e69-4edf-8655-71726faf91d6"
   },
   "outputs": [
    {
     "name": "stdout",
     "output_type": "stream",
     "text": [
      "Penalty: l1 | C: 500 | Train AUC: 0.6942689011154308 | Dev AUC: 0.6895045209715934 | Train Score: 0.819953295786809 | Dev Score: 0.8201656265944504\n",
      "Penalty: l1 | C: 1500 | Train AUC: 0.6942689178827925 | Dev AUC: 0.6895046249151172 | Train Score: 0.819953295786809 | Dev Score: 0.8201656265944504\n",
      "Penalty: l1 | C: 2000 | Train AUC: 0.6942689305804063 | Dev AUC: 0.6895045625490028 | Train Score: 0.819953295786809 | Dev Score: 0.8201656265944504\n",
      "Penalty: l1 | C: 5000 | Train AUC: 0.6942689283013473 | Dev AUC: 0.6895045521546506 | Train Score: 0.819953295786809 | Dev Score: 0.8201656265944504\n",
      "Penalty: l1 | C: 10000 | Train AUC: 0.694268924882759 | Dev AUC: 0.6895045833377077 | Train Score: 0.819953295786809 | Dev Score: 0.8201656265944504\n",
      "Penalty: l2 | C: 500 | Train AUC: 0.6942683306995545 | Dev AUC: 0.6895065270816017 | Train Score: 0.819958201691556 | Dev Score: 0.8201656265944504\n",
      "Penalty: l2 | C: 1500 | Train AUC: 0.6942683538157229 | Dev AUC: 0.689506620630773 | Train Score: 0.819958201691556 | Dev Score: 0.8201656265944504\n",
      "Penalty: l2 | C: 2000 | Train AUC: 0.6942683580482608 | Dev AUC: 0.6895067037855919 | Train Score: 0.819958201691556 | Dev Score: 0.8201656265944504\n",
      "Penalty: l2 | C: 5000 | Train AUC: 0.6942683578854709 | Dev AUC: 0.6895066622081824 | Train Score: 0.819958201691556 | Dev Score: 0.8201656265944504\n",
      "Penalty: l2 | C: 10000 | Train AUC: 0.6942683562575718 | Dev AUC: 0.6895065894477158 | Train Score: 0.819958201691556 | Dev Score: 0.8201656265944504\n"
     ]
    }
   ],
   "source": [
    "c_param = [500,1500,2000,5000,10000]\n",
    "l_param = [\"l1\",\"l2\"]\n",
    "res2 = []\n",
    "for l in l_param:\n",
    "    for i in c_param:\n",
    "        model = LogisticRegression(solver=\"saga\",max_iter=10000, C=i,penalty=l, random_state=1207,n_jobs=2)\n",
    "        model = model.fit(X_Train, Y_Train)\n",
    "        pred_train = model.predict_proba(X_Train)\n",
    "        pred_dev = model.predict_proba(X_Dev)\n",
    "        train_score = metrics.roc_auc_score(Y_Train, pred_train[:,1])\n",
    "        dev_score = metrics.roc_auc_score(Y_Dev, pred_dev[:,1])\n",
    "        res2.append([l,i,train_score,dev_score,model.score(X_Train, Y_Train), model.score(X_Dev,Y_Dev)])\n",
    "        print(\"Penalty: %s | C: %s | Train AUC: %s | Dev AUC: %s | Train Score: %s | Dev Score: %s\" % (l,i,train_score,dev_score, model.score(X_Train,Y_Train), model.score(X_Dev,Y_Dev)))\n",
    "\n"
   ]
  },
  {
   "cell_type": "code",
   "execution_count": 0,
   "metadata": {
    "colab": {},
    "colab_type": "code",
    "id": "v9Vc2v704WfO"
   },
   "outputs": [],
   "source": [
    "res2 = pd.DataFrame(res2, columns=['L','C','Train_auc_score','Dev_auc_score','Train_Score','Dev_score'])"
   ]
  },
  {
   "cell_type": "code",
   "execution_count": 0,
   "metadata": {
    "colab": {},
    "colab_type": "code",
    "id": "7rvnZaRE4WfR"
   },
   "outputs": [],
   "source": [
    "res2['AUC_Diff'] = res2['Train_auc_score'] - res2['Dev_auc_score']"
   ]
  },
  {
   "cell_type": "code",
   "execution_count": 0,
   "metadata": {
    "colab": {},
    "colab_type": "code",
    "id": "-rzP_qZB4WfU",
    "outputId": "76cf93f7-dda1-4013-a689-06f70f20b368"
   },
   "outputs": [
    {
     "data": {
      "text/html": [
       "<div>\n",
       "<style scoped>\n",
       "    .dataframe tbody tr th:only-of-type {\n",
       "        vertical-align: middle;\n",
       "    }\n",
       "\n",
       "    .dataframe tbody tr th {\n",
       "        vertical-align: top;\n",
       "    }\n",
       "\n",
       "    .dataframe thead th {\n",
       "        text-align: right;\n",
       "    }\n",
       "</style>\n",
       "<table border=\"1\" class=\"dataframe\">\n",
       "  <thead>\n",
       "    <tr style=\"text-align: right;\">\n",
       "      <th></th>\n",
       "      <th>L</th>\n",
       "      <th>C</th>\n",
       "      <th>Train_auc_score</th>\n",
       "      <th>Dev_auc_score</th>\n",
       "      <th>Train_Score</th>\n",
       "      <th>Dev_score</th>\n",
       "      <th>AUC_Diff</th>\n",
       "    </tr>\n",
       "  </thead>\n",
       "  <tbody>\n",
       "    <tr>\n",
       "      <th>2</th>\n",
       "      <td>l1</td>\n",
       "      <td>2000</td>\n",
       "      <td>0.694269</td>\n",
       "      <td>0.689505</td>\n",
       "      <td>0.819953</td>\n",
       "      <td>0.820166</td>\n",
       "      <td>0.004764</td>\n",
       "    </tr>\n",
       "    <tr>\n",
       "      <th>3</th>\n",
       "      <td>l1</td>\n",
       "      <td>5000</td>\n",
       "      <td>0.694269</td>\n",
       "      <td>0.689505</td>\n",
       "      <td>0.819953</td>\n",
       "      <td>0.820166</td>\n",
       "      <td>0.004764</td>\n",
       "    </tr>\n",
       "    <tr>\n",
       "      <th>4</th>\n",
       "      <td>l1</td>\n",
       "      <td>10000</td>\n",
       "      <td>0.694269</td>\n",
       "      <td>0.689505</td>\n",
       "      <td>0.819953</td>\n",
       "      <td>0.820166</td>\n",
       "      <td>0.004764</td>\n",
       "    </tr>\n",
       "    <tr>\n",
       "      <th>1</th>\n",
       "      <td>l1</td>\n",
       "      <td>1500</td>\n",
       "      <td>0.694269</td>\n",
       "      <td>0.689505</td>\n",
       "      <td>0.819953</td>\n",
       "      <td>0.820166</td>\n",
       "      <td>0.004764</td>\n",
       "    </tr>\n",
       "    <tr>\n",
       "      <th>0</th>\n",
       "      <td>l1</td>\n",
       "      <td>500</td>\n",
       "      <td>0.694269</td>\n",
       "      <td>0.689505</td>\n",
       "      <td>0.819953</td>\n",
       "      <td>0.820166</td>\n",
       "      <td>0.004764</td>\n",
       "    </tr>\n",
       "    <tr>\n",
       "      <th>7</th>\n",
       "      <td>l2</td>\n",
       "      <td>2000</td>\n",
       "      <td>0.694268</td>\n",
       "      <td>0.689507</td>\n",
       "      <td>0.819958</td>\n",
       "      <td>0.820166</td>\n",
       "      <td>0.004762</td>\n",
       "    </tr>\n",
       "    <tr>\n",
       "      <th>8</th>\n",
       "      <td>l2</td>\n",
       "      <td>5000</td>\n",
       "      <td>0.694268</td>\n",
       "      <td>0.689507</td>\n",
       "      <td>0.819958</td>\n",
       "      <td>0.820166</td>\n",
       "      <td>0.004762</td>\n",
       "    </tr>\n",
       "    <tr>\n",
       "      <th>9</th>\n",
       "      <td>l2</td>\n",
       "      <td>10000</td>\n",
       "      <td>0.694268</td>\n",
       "      <td>0.689507</td>\n",
       "      <td>0.819958</td>\n",
       "      <td>0.820166</td>\n",
       "      <td>0.004762</td>\n",
       "    </tr>\n",
       "    <tr>\n",
       "      <th>6</th>\n",
       "      <td>l2</td>\n",
       "      <td>1500</td>\n",
       "      <td>0.694268</td>\n",
       "      <td>0.689507</td>\n",
       "      <td>0.819958</td>\n",
       "      <td>0.820166</td>\n",
       "      <td>0.004762</td>\n",
       "    </tr>\n",
       "    <tr>\n",
       "      <th>5</th>\n",
       "      <td>l2</td>\n",
       "      <td>500</td>\n",
       "      <td>0.694268</td>\n",
       "      <td>0.689507</td>\n",
       "      <td>0.819958</td>\n",
       "      <td>0.820166</td>\n",
       "      <td>0.004762</td>\n",
       "    </tr>\n",
       "  </tbody>\n",
       "</table>\n",
       "</div>"
      ],
      "text/plain": [
       "    L      C  Train_auc_score  Dev_auc_score  Train_Score  Dev_score  AUC_Diff\n",
       "2  l1   2000         0.694269       0.689505     0.819953   0.820166  0.004764\n",
       "3  l1   5000         0.694269       0.689505     0.819953   0.820166  0.004764\n",
       "4  l1  10000         0.694269       0.689505     0.819953   0.820166  0.004764\n",
       "1  l1   1500         0.694269       0.689505     0.819953   0.820166  0.004764\n",
       "0  l1    500         0.694269       0.689505     0.819953   0.820166  0.004764\n",
       "7  l2   2000         0.694268       0.689507     0.819958   0.820166  0.004762\n",
       "8  l2   5000         0.694268       0.689507     0.819958   0.820166  0.004762\n",
       "9  l2  10000         0.694268       0.689507     0.819958   0.820166  0.004762\n",
       "6  l2   1500         0.694268       0.689507     0.819958   0.820166  0.004762\n",
       "5  l2    500         0.694268       0.689507     0.819958   0.820166  0.004762"
      ]
     },
     "execution_count": 106,
     "metadata": {
      "tags": []
     },
     "output_type": "execute_result"
    }
   ],
   "source": [
    "res2.sort_values(['Train_auc_score', 'Dev_auc_score','AUC_Diff'], ascending=[0, 0 ,0])"
   ]
  },
  {
   "cell_type": "markdown",
   "metadata": {
    "colab_type": "text",
    "id": "_4HCB4QA4WfX"
   },
   "source": [
    "We take the best model as l2 penalty and C=100"
   ]
  },
  {
   "cell_type": "code",
   "execution_count": 0,
   "metadata": {
    "colab": {},
    "colab_type": "code",
    "id": "GNjwkYSX4WfY"
   },
   "outputs": [],
   "source": [
    "model = LogisticRegression(solver=\"saga\",max_iter=10000, C=100,penalty='l2', random_state=1207,n_jobs=2)\n",
    "model = model.fit(X_Train, Y_Train)"
   ]
  },
  {
   "cell_type": "code",
   "execution_count": 0,
   "metadata": {
    "colab": {},
    "colab_type": "code",
    "id": "5_p7h3dG4Wfb"
   },
   "outputs": [],
   "source": [
    "##Save the model\n",
    "filename= \"%s\\Models\\logistic_best_model.sav\" % cwd\n",
    "pickle.dump(model, open(filename, 'wb'))"
   ]
  },
  {
   "cell_type": "code",
   "execution_count": 0,
   "metadata": {
    "colab": {},
    "colab_type": "code",
    "id": "WJREGC7C4Wfd"
   },
   "outputs": [],
   "source": []
  }
 ],
 "metadata": {
  "colab": {
   "name": "10.1-Model-Hypertuning-LogisticRegression.ipynb",
   "provenance": [],
   "version": "0.3.2"
  },
  "kernelspec": {
   "display_name": "Python 3",
   "language": "python",
   "name": "python3"
  },
  "language_info": {
   "codemirror_mode": {
    "name": "ipython",
    "version": 3
   },
   "file_extension": ".py",
   "mimetype": "text/x-python",
   "name": "python",
   "nbconvert_exporter": "python",
   "pygments_lexer": "ipython3",
   "version": "3.6.5"
  }
 },
 "nbformat": 4,
 "nbformat_minor": 1
}
